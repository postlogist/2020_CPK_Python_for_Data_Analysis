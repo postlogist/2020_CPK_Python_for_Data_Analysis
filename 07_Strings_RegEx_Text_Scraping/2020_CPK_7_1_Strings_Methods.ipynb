{
 "cells": [
  {
   "cell_type": "markdown",
   "metadata": {},
   "source": [
    "Программа повышения квалификации (научно-педагогических) работников НИУ ВШЭ\n",
    "\n",
    "# Python для исследователей\n",
    "\n",
    "Автор: *Татьяна Рогович, НИУ ВШЭ*\n",
    "\n",
    "# Методы строк"
   ]
  },
  {
   "cell_type": "markdown",
   "metadata": {},
   "source": [
    "Методы строк позволяют нам обрабатывать текст и осуществлять поиск по условиям. В этом блокноте познакомимся с самыми популярными методами, которые чсто пригождаются в работе."
   ]
  },
  {
   "cell_type": "markdown",
   "metadata": {},
   "source": [
    "Например news.upper() - метод upper() вызывается от строковой переменной news. По сути методы, это функции, которые применимы только к особому типу данных. Так, например, функция print() напечатает все, что бы мы ей не передали, а перевод к верхнему регистру (а именно это делает метод upper()) ни с одним типом данных кроме строки уже не сработает."
   ]
  },
  {
   "cell_type": "code",
   "execution_count": 1,
   "metadata": {},
   "outputs": [
    {
     "name": "stdout",
     "output_type": "stream",
     "text": [
      "SAMSUNG RELEASES NEW DEVICE\n",
      "samsung releases new device\n"
     ]
    }
   ],
   "source": [
    "news = 'Samsung releases new device'\n",
    "print(news.upper()) # приводит строку к верхнему регистру\n",
    "print(news.lower()) # приводит строку к нижнему регистру"
   ]
  },
  {
   "cell_type": "markdown",
   "metadata": {},
   "source": [
    "Обратите внимание, что строковый метод, как правило, не изменяет объект и наша строка осталась такой как была."
   ]
  },
  {
   "cell_type": "code",
   "execution_count": 3,
   "metadata": {},
   "outputs": [
    {
     "data": {
      "text/plain": [
       "'Samsung releases new device'"
      ]
     },
     "execution_count": 3,
     "metadata": {},
     "output_type": "execute_result"
    }
   ],
   "source": [
    "news"
   ]
  },
  {
   "cell_type": "markdown",
   "metadata": {},
   "source": [
    "У строк есть множество методов, которые позволяют искать паттерны и как-то их редактировать. Методы **startswith()** и **endswith()** проверяют, стоит ли искомая построка в начале или в конце строки."
   ]
  },
  {
   "cell_type": "markdown",
   "metadata": {},
   "source": [
    "Пусть у нас есть отзыв посетителя о кафе. Мы заранее знаем, что пользователь \n",
    "для отзыва выбирает только последнее слово из предложенных двух: 'good', 'bad'. \n",
    "Попробуем оценить, остался ли доволен клиент."
   ]
  },
  {
   "cell_type": "code",
   "execution_count": 4,
   "metadata": {},
   "outputs": [
    {
     "name": "stdout",
     "output_type": "stream",
     "text": [
      "Client was disappointed\n"
     ]
    }
   ],
   "source": [
    "feedback = 'This place was bad.' # сам отзыв\n",
    "\n",
    "if feedback.endswith('bad.'): # если строка заканчивается на 'bad'\n",
    "    print('Client was disappointed') # то клиент расстроен\n",
    "else:\n",
    "    print('Client was satisfied') # иначе - клиенту все понравилось"
   ]
  },
  {
   "cell_type": "markdown",
   "metadata": {},
   "source": [
    "Теперь усложним задачу. Что если слово находится не в конце предложения? Попробуем его найти!\n"
   ]
  },
  {
   "cell_type": "code",
   "execution_count": 5,
   "metadata": {},
   "outputs": [
    {
     "name": "stdout",
     "output_type": "stream",
     "text": [
      "Client was disappointed\n"
     ]
    }
   ],
   "source": [
    "feedback2 = 'This place was bad enough'\n",
    "\n",
    "if feedback2.find('bad') != -1: \n",
    "    print('Client was disappointed') # то клиент расстроен\n",
    "else:\n",
    "    print('Client was satisfied') # иначе - клиенту все понравилось"
   ]
  },
  {
   "cell_type": "markdown",
   "metadata": {},
   "source": [
    "Метод **strip()** (и его собратья **lstrip()** и **rstrip()**, работающие только с одной стороны строки, удаляет незначимые символы (пробелы, табуляцию и т.д.) с краев строк. Очень полезный метод, когда мы собираем информацию из интернета. Если этим методам передать аргумент, то они удалят подстроку."
   ]
  },
  {
   "cell_type": "code",
   "execution_count": 6,
   "metadata": {},
   "outputs": [
    {
     "name": "stdout",
     "output_type": "stream",
     "text": [
      "135133\n",
      "hse.\n",
      "hse.ru\n",
      "ruhse.\n"
     ]
    }
   ],
   "source": [
    "print(' 135133   '.strip()) # удалили пробельные символы слева и справа\n",
    "print('ruhse.ru'.strip('ru')) # удалили ru с обеих сторон\n",
    "print('ruhse.ru'.lstrip('ru')) # удалили ru слева\n",
    "print('ruhse.ru'.rstrip('ru')) # удалили ru справа"
   ]
  },
  {
   "cell_type": "markdown",
   "metadata": {},
   "source": [
    "В реальности strip часто используется для нормализации email'ов или дргуих идентификторов"
   ]
  },
  {
   "cell_type": "code",
   "execution_count": 7,
   "metadata": {},
   "outputs": [
    {
     "name": "stdout",
     "output_type": "stream",
     "text": [
      "pileyan@gmail.com\n"
     ]
    }
   ],
   "source": [
    "print('      pileyan@gmail.com       '.strip())"
   ]
  },
  {
   "cell_type": "markdown",
   "metadata": {},
   "source": [
    "Также мы можем заменять символы в строке, с помощью метода .replace(). *replace()* берет два аргумента - что заменяем и на что заменяем. Есть еще опциональный третий аргумент - количество замен, которые нужно сделать."
   ]
  },
  {
   "cell_type": "code",
   "execution_count": 15,
   "metadata": {},
   "outputs": [
    {
     "name": "stdout",
     "output_type": "stream",
     "text": [
      "39 999\n",
      "39 900\n"
     ]
    }
   ],
   "source": [
    "print('39 000'.replace('0', '9')) # заменяем все нули на девятки\n",
    "print('39 000'.replace('0', '9', 1)) # заменяем только первый найденный нуль"
   ]
  },
  {
   "cell_type": "markdown",
   "metadata": {},
   "source": [
    "Теперь научимся считать количество вхождений подстроки в строку с помощью метода **count()**\n"
   ]
  },
  {
   "cell_type": "code",
   "execution_count": 84,
   "metadata": {},
   "outputs": [
    {
     "name": "stdout",
     "output_type": "stream",
     "text": [
      "0\n",
      "5\n",
      "2\n",
      "1\n",
      "0\n",
      "2\n",
      "3\n"
     ]
    }
   ],
   "source": [
    "s = \"Mushroooom soup\" # исходная строка\n",
    "print(s.count(\"O\")) # ищем заглавную букву О, не находим\n",
    "print(s.count(\"o\")) # ищем строчную букву о, находим 5 штук\n",
    "print(s.count(\"oo\")) # ищем две буквы о подряд, находим две таких подстроки\n",
    "print(s.count(\"ooo\")) # ищем три букв о подряд, находим одно такое вхождение\n",
    "print(s.count(\"push\")) # ищем подстроку 'push', не находим\n",
    "print(s.count(\"o\", 4, 7)) # ищем букву о в s[4:7]\n",
    "print(s.count(\"o\", 7)) # ищем букву о в s[7:]"
   ]
  },
  {
   "cell_type": "markdown",
   "metadata": {},
   "source": [
    "Отдельное семейство методов строк отвечает за проверку на соответствие условиям."
   ]
  },
  {
   "cell_type": "code",
   "execution_count": 8,
   "metadata": {},
   "outputs": [
    {
     "name": "stdout",
     "output_type": "stream",
     "text": [
      "False\n",
      "True\n",
      "True\n",
      "False\n",
      "True\n",
      "True\n",
      "False\n"
     ]
    }
   ],
   "source": [
    "# isalpha - проверяет, что все символы строки являются буквами.\n",
    "print('Ask me a question!'.isalpha())\n",
    "print('Ask'.isalpha())\n",
    "\n",
    "# isdigit - проверяет, что все символы строки являются цифрами.\n",
    "print('13242'.isdigit())\n",
    "\n",
    "# isalnum - проверяет, что все символы строки являются буквами или цифрами.\n",
    "print('Ask me a question!'.isalnum())\n",
    "print('Ask232'.isalnum())\n",
    "\n",
    "# islower - проверяет, что все символы строки являются маленькими (строчными) буквами.\n",
    "print('ask me a question!'.islower())\n",
    "\n",
    "# isupper - проверяет, что все символы строки являются большими (заглавными, прописными) буквами.\n",
    "print('Ask me a question!'.isupper())"
   ]
  },
  {
   "cell_type": "markdown",
   "metadata": {},
   "source": [
    "На этом методы строк не заканчиваются) Например, можно менять регистр букв или переводить в верхний регистр первые буквы слов"
   ]
  },
  {
   "cell_type": "code",
   "execution_count": 9,
   "metadata": {},
   "outputs": [
    {
     "name": "stdout",
     "output_type": "stream",
     "text": [
      "Ask Me A Question!\n",
      "ASK ME A QUESTION!\n"
     ]
    }
   ],
   "source": [
    "# title - переводит первую букву всех слов к верхнему регистру\n",
    "print('ask me a question!'.title())\n",
    "\n",
    "# swapcase - меняет регистр на противоположный\n",
    "print('ask me a question!'.swapcase())"
   ]
  },
  {
   "cell_type": "markdown",
   "metadata": {},
   "source": [
    "Может возникнуть вопрос: а зачем нам проверять, из каких символов состоит строка? Ведь даже, если строка состоит из цифр, числом она автоматически не станет. Давайте рассмотрим две ситуации, в которых очень полезно знать, какие символы входят в нашу строку.\n",
    "\n",
    "**Ситуация**\n",
    "\n",
    "Пользователь должен придумать пароль для своей учетной записи. Пароль должен состоять только из цифр и букв."
   ]
  },
  {
   "cell_type": "code",
   "execution_count": 10,
   "metadata": {},
   "outputs": [
    {
     "name": "stdout",
     "output_type": "stream",
     "text": [
      "Пароль должен состоять только из букв и цифр!\n"
     ]
    }
   ],
   "source": [
    "password = input(\"Введите пароль: \")\n",
    "\n",
    "if password.isalnum() == False:\n",
    "    print(\"Пароль должен состоять только из букв и цифр!\")"
   ]
  },
  {
   "cell_type": "markdown",
   "metadata": {},
   "source": [
    "А теперь давайте усложним и добавим проверку на то, что хотя бы одна буква должна быть заглавная."
   ]
  },
  {
   "cell_type": "code",
   "execution_count": 11,
   "metadata": {},
   "outputs": [
    {
     "name": "stdout",
     "output_type": "stream",
     "text": [
      "Пароль должен содержать как минимум одну заглавную букву!\n"
     ]
    }
   ],
   "source": [
    "password = input(\"Введите пароль: \")\n",
    "\n",
    "if password.isalnum() == False:\n",
    "    print(\"Пароль должен состоять только из букв и цифр!\")\n",
    "if password.islower() == True:\n",
    "    print(\"Пароль должен содержать как минимум одну заглавную букву!\")"
   ]
  },
  {
   "cell_type": "markdown",
   "metadata": {},
   "source": [
    "# (∩｀-´)⊃━☆ﾟ.*･｡ﾟ Задачи\n",
    "\n",
    "Пароль должен состоять ровно из 10 символов и состоять только из букв. Вам даны два пароля, напишите программу, которая проверит их на правильность и выведет True для правильного пароля и False для неправильного."
   ]
  },
  {
   "cell_type": "code",
   "execution_count": 12,
   "metadata": {},
   "outputs": [
    {
     "name": "stdout",
     "output_type": "stream",
     "text": [
      "True\n",
      "False\n"
     ]
    }
   ],
   "source": [
    "pass1 = 'qweABCjoHn'\n",
    "pass2 = 'asdfPassword1' \n",
    "\n",
    "print(len(pass1) == 10 and pass1.isalpha())\n",
    "print(len(pass2) == 10 and pass2.isalpha())"
   ]
  }
 ],
 "metadata": {
  "kernelspec": {
   "display_name": "Python 3",
   "language": "python",
   "name": "python3"
  },
  "language_info": {
   "codemirror_mode": {
    "name": "ipython",
    "version": 3
   },
   "file_extension": ".py",
   "mimetype": "text/x-python",
   "name": "python",
   "nbconvert_exporter": "python",
   "pygments_lexer": "ipython3",
   "version": "3.6.5"
  }
 },
 "nbformat": 4,
 "nbformat_minor": 2
}

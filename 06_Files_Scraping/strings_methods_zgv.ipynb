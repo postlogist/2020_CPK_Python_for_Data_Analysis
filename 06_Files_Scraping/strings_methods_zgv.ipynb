{
 "cells": [
  {
   "cell_type": "code",
   "execution_count": 2,
   "metadata": {},
   "outputs": [
    {
     "name": "stdout",
     "output_type": "stream",
     "text": [
      "3 5\n"
     ]
    }
   ],
   "source": [
    "test = 'sd34rffvs2r2 21e4f'\n",
    "test = 'abc12345'\n",
    "\n",
    "l = 0\n",
    "d = 0\n",
    "for c in test:\n",
    "    l += c.isalpha()\n",
    "    d += c.isdigit()\n",
    "    \n",
    "print(l, d)\n",
    "    "
   ]
  },
  {
   "cell_type": "markdown",
   "metadata": {},
   "source": [
    "9. Найти количество вхождений подстроки в строку в любом регистре (методы строк)\n",
    "Даны две строки. Найти количество вхождений второй строки в первую в любом из регистров.\n",
    "\n",
    "Формат ввода\n",
    "\n",
    "Вводятся две строки\n",
    "\n",
    "Формат вывода\n",
    "\n",
    "Выводится число вхождений.\n",
    "\n",
    "Примеры\n",
    "Тест 1\n",
    "Входные данные:\n",
    "Python C++ Perl Ruby C\n",
    "P\n",
    "\n",
    "Вывод программы:\n",
    "2\n",
    "\n",
    "Тест 2\n",
    "Входные данные:\n",
    "Hello\n",
    "H\n",
    "\n",
    "Вывод программы:\n",
    "1"
   ]
  },
  {
   "cell_type": "code",
   "execution_count": 7,
   "metadata": {},
   "outputs": [
    {
     "data": {
      "text/plain": [
       "0"
      ]
     },
     "execution_count": 7,
     "metadata": {},
     "output_type": "execute_result"
    }
   ],
   "source": [
    "in_str = 'Python C++ Perl Ruby C P'\n",
    "\n",
    "in_str.lower().find('p')"
   ]
  },
  {
   "cell_type": "markdown",
   "metadata": {},
   "source": [
    "Заменить все, кроме первого и второго (методы строк) Дана строка. Замените в этой строке все появления буквы h на букву H, кроме первого и последнего вхождения.\n",
    "Пример ввода:\n",
    "\n",
    "In the hole in the ground there lived a hobbit\n",
    "\n",
    "Пример вывода:\n",
    "\n",
    "In the Hole in tHe ground tHere lived a hobbit\n",
    "\n"
   ]
  },
  {
   "cell_type": "code",
   "execution_count": 9,
   "metadata": {},
   "outputs": [
    {
     "data": {
      "text/plain": [
       "40"
      ]
     },
     "execution_count": 9,
     "metadata": {},
     "output_type": "execute_result"
    }
   ],
   "source": [
    "text = 'In the Hole in tHe ground tHere lived a hobbit'\n",
    "\n",
    "text.lower().find('h')"
   ]
  },
  {
   "cell_type": "code",
   "execution_count": 14,
   "metadata": {},
   "outputs": [
    {
     "data": {
      "text/plain": [
       "'In the Hole in tHe ground tHere lived a hobbit'"
      ]
     },
     "execution_count": 14,
     "metadata": {},
     "output_type": "execute_result"
    }
   ],
   "source": [
    "text[:text.find('h')+1] + text[text.find('h')+1:text.rfind('h')].replace('h', 'H') + text[text.rfind('h'):]\n"
   ]
  },
  {
   "cell_type": "code",
   "execution_count": 16,
   "metadata": {},
   "outputs": [],
   "source": [
    "import re"
   ]
  },
  {
   "cell_type": "code",
   "execution_count": 22,
   "metadata": {},
   "outputs": [
    {
     "data": {
      "text/plain": [
       "['1', '9', '1', '7']"
      ]
     },
     "execution_count": 22,
     "metadata": {},
     "output_type": "execute_result"
    }
   ],
   "source": [
    "st = 'Революция произошла в 1917 году'\n",
    "re.findall(r'[0-9]', st)"
   ]
  },
  {
   "cell_type": "code",
   "execution_count": 23,
   "metadata": {},
   "outputs": [
    {
     "data": {
      "text/plain": [
       "['1917']"
      ]
     },
     "execution_count": 23,
     "metadata": {},
     "output_type": "execute_result"
    }
   ],
   "source": [
    "re.findall(r'\\d+', st)"
   ]
  },
  {
   "cell_type": "code",
   "execution_count": 24,
   "metadata": {},
   "outputs": [],
   "source": [
    "text = \"12 ноября 2011 года произошло удивительное событие. А 13 ноября 2012 - еще удивительнее. Даже не будем \\\n",
    "говорить, что произошло 2 декабря 2011 года и 25 декабря 2012 года.\"\n"
   ]
  },
  {
   "cell_type": "code",
   "execution_count": 26,
   "metadata": {},
   "outputs": [
    {
     "data": {
      "text/plain": [
       "['12 ноября 2011', '13 ноября 2012', '2 декабря 2011', '25 декабря 2012']"
      ]
     },
     "execution_count": 26,
     "metadata": {},
     "output_type": "execute_result"
    }
   ],
   "source": [
    "re.findall(r'\\d{1,2} \\w+ \\d{4}', text)"
   ]
  },
  {
   "cell_type": "code",
   "execution_count": 27,
   "metadata": {},
   "outputs": [
    {
     "data": {
      "text/plain": [
       "['12 ноября 2011', '13 ноября 2012', '2 декабря 2011', '25 декабря 2012']"
      ]
     },
     "execution_count": 27,
     "metadata": {},
     "output_type": "execute_result"
    }
   ],
   "source": [
    "re.findall(r'\\d{1,2}\\s\\w+\\s\\d{4}', text)"
   ]
  }
 ],
 "metadata": {
  "kernelspec": {
   "display_name": "Python 3",
   "language": "python",
   "name": "python3"
  },
  "language_info": {
   "codemirror_mode": {
    "name": "ipython",
    "version": 3
   },
   "file_extension": ".py",
   "mimetype": "text/x-python",
   "name": "python",
   "nbconvert_exporter": "python",
   "pygments_lexer": "ipython3",
   "version": "3.7.3"
  }
 },
 "nbformat": 4,
 "nbformat_minor": 4
}

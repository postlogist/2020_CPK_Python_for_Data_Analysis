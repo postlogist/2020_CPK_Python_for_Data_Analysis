{
 "cells": [
  {
   "cell_type": "markdown",
   "metadata": {},
   "source": [
    "Программа повышения квалификации (научно-педагогических) работников НИУ ВШЭ\n",
    "\n",
    "# Python для исследователей\n",
    "\n",
    "*Автор: Алла Тамбовцева, НИУ ВШЭ*\n",
    "\n",
    "## Повторяем материал по темам: вычисления, переменные, приведение типов, форматирование строк\n",
    "\n",
    "*Примечание: под программой в заданиях подразумевается просто блок работающего кода, который выполняет нужную задачу. Для удобства можно считать, что одна ячейка с кодом – это одна программа.* \n",
    "\n"
   ]
  },
  {
   "cell_type": "markdown",
   "metadata": {},
   "source": [
    "### Задание 0 (вычислительное)\n",
    "\n",
    "Посчитайте:\n",
    "\n",
    "* $\\log(25)$, $\\log(\\exp(3))$, $\\log_{10}1000$;\n",
    "* $\\pi^3$, $123^4$; \n",
    "* $\\sqrt{459}$."
   ]
  },
  {
   "cell_type": "code",
   "execution_count": 6,
   "metadata": {},
   "outputs": [
    {
     "data": {
      "text/plain": [
       "3.2188758248682006"
      ]
     },
     "execution_count": 6,
     "metadata": {},
     "output_type": "execute_result"
    }
   ],
   "source": [
    "from math import log, log10, exp, pi, sqrt\n",
    "log(25)"
   ]
  },
  {
   "cell_type": "code",
   "execution_count": 7,
   "metadata": {},
   "outputs": [
    {
     "data": {
      "text/plain": [
       "3.0"
      ]
     },
     "execution_count": 7,
     "metadata": {},
     "output_type": "execute_result"
    }
   ],
   "source": [
    "log(exp(3))"
   ]
  },
  {
   "cell_type": "code",
   "execution_count": 8,
   "metadata": {},
   "outputs": [
    {
     "data": {
      "text/plain": [
       "3.0"
      ]
     },
     "execution_count": 8,
     "metadata": {},
     "output_type": "execute_result"
    }
   ],
   "source": [
    "log10(1000)"
   ]
  },
  {
   "cell_type": "code",
   "execution_count": 9,
   "metadata": {},
   "outputs": [
    {
     "data": {
      "text/plain": [
       "31.006276680299816"
      ]
     },
     "execution_count": 9,
     "metadata": {},
     "output_type": "execute_result"
    }
   ],
   "source": [
    "pi**3"
   ]
  },
  {
   "cell_type": "code",
   "execution_count": 10,
   "metadata": {},
   "outputs": [
    {
     "data": {
      "text/plain": [
       "228886641"
      ]
     },
     "execution_count": 10,
     "metadata": {},
     "output_type": "execute_result"
    }
   ],
   "source": [
    "123**4"
   ]
  },
  {
   "cell_type": "code",
   "execution_count": 11,
   "metadata": {},
   "outputs": [
    {
     "data": {
      "text/plain": [
       "21.42428528562855"
      ]
     },
     "execution_count": 11,
     "metadata": {},
     "output_type": "execute_result"
    }
   ],
   "source": [
    "sqrt(459)"
   ]
  },
  {
   "cell_type": "markdown",
   "metadata": {},
   "source": [
    "### Задание 1 (стартовое)\n",
    "\n",
    "В переменных `a` и `b` хранятся некоторые числа. Напишите код, который бы менял значения переменных местами. Создавать вспомогательные переменные *можно*.\n",
    "\n",
    "**Пример:**"
   ]
  },
  {
   "cell_type": "code",
   "execution_count": 45,
   "metadata": {},
   "outputs": [],
   "source": [
    "# до\n",
    "a = 2\n",
    "b = 5"
   ]
  },
  {
   "cell_type": "code",
   "execution_count": 46,
   "metadata": {},
   "outputs": [],
   "source": [
    "c = a\n",
    "a = b\n",
    "b = c"
   ]
  },
  {
   "cell_type": "code",
   "execution_count": 47,
   "metadata": {},
   "outputs": [
    {
     "name": "stdout",
     "output_type": "stream",
     "text": [
      "5\n",
      "2\n"
     ]
    }
   ],
   "source": [
    "# после\n",
    "print(a)\n",
    "print(b)"
   ]
  },
  {
   "cell_type": "markdown",
   "metadata": {},
   "source": [
    "`%xdel c` удаляет также и b"
   ]
  },
  {
   "cell_type": "markdown",
   "metadata": {},
   "source": [
    "### Задание 2 (экономическое)\n",
    "\n",
    "Напишите программу, которая логарифмирует значение ВВП, которое хранится в переменной `gdp` и округляет результат до второго знака после запятой."
   ]
  },
  {
   "cell_type": "code",
   "execution_count": 66,
   "metadata": {},
   "outputs": [
    {
     "data": {
      "text/plain": [
       "'100500.12'"
      ]
     },
     "execution_count": 66,
     "metadata": {},
     "output_type": "execute_result"
    }
   ],
   "source": [
    "gdp = 100500.12345\n",
    "\"%.2f\" % gdp"
   ]
  },
  {
   "cell_type": "markdown",
   "metadata": {},
   "source": [
    "### Задание 3 (политологическое)\n",
    "\n",
    "В переменной `fh` хранится значение индекса политической свободы *Freedom House*, а в переменной `p`\n",
    "значение индекса Polity IV. Напишите программу, которая будет считать индекс `Freedom`:\n",
    "\n",
    "$$\n",
    "\\text{Freedom} = 0.4 \\cdot \\text{Freedom House} + 0.6 \\cdot \\text{Polity IV}\n",
    "$$"
   ]
  },
  {
   "cell_type": "markdown",
   "metadata": {},
   "source": [
    "### Задание 4 (весеннее)\n",
    "\n",
    "С приходом весны питон решил каждый день выползать погреться на солнышко. Однако он знал, что солнце весной довольно активное, и поэтому разработал такую схему: в первый день он греется одну минуту, а в каждый последующий день увеличивает время пребывания на солнце на 3 минуты. Напишите код, который позволит вычислять, сколько минут питон будет тратить на солнечные ванны в некоторый выбранный день.\n",
    "\n",
    "*Внимание:* ваш код должен выводить номер дня и число минут. Использовать циклы нельзя, в задании предполагается многократный запуск ячеек с кодом. \n",
    "\n",
    "Если хочется избежать многократного запуска ячейки с кодом (что оправдано), попробуйте решить эту задачу без повторного запуска ячейки и при этом без цикла, предполагая, что пользователь с клавиатуры вводит номер интересующего его дня, а на экран выводится соответствующее число минут."
   ]
  },
  {
   "cell_type": "code",
   "execution_count": 70,
   "metadata": {},
   "outputs": [
    {
     "name": "stdout",
     "output_type": "stream",
     "text": [
      "В день 2 загорать 4 минут\n"
     ]
    }
   ],
   "source": [
    "def minutes(d):\n",
    "    print('В день %d загорать %d минут' % (d, 1 + 3 * (d - 1)))\n",
    "    \n",
    "minutes(2)"
   ]
  },
  {
   "cell_type": "code",
   "execution_count": 14,
   "metadata": {},
   "outputs": [
    {
     "data": {
      "text/plain": [
       "[(1, 1),\n",
       " (2, 4),\n",
       " (3, 7),\n",
       " (4, 10),\n",
       " (5, 13),\n",
       " (6, 16),\n",
       " (7, 19),\n",
       " (8, 22),\n",
       " (9, 25),\n",
       " (10, 28),\n",
       " (11, 31),\n",
       " (12, 34),\n",
       " (13, 37),\n",
       " (14, 40),\n",
       " (15, 43),\n",
       " (16, 46),\n",
       " (17, 49),\n",
       " (18, 52),\n",
       " (19, 55),\n",
       " (20, 58),\n",
       " (21, 61),\n",
       " (22, 64),\n",
       " (23, 67),\n",
       " (24, 70),\n",
       " (25, 73),\n",
       " (26, 76),\n",
       " (27, 79),\n",
       " (28, 82),\n",
       " (29, 85),\n",
       " (30, 88),\n",
       " (31, 91)]"
      ]
     },
     "execution_count": 14,
     "metadata": {},
     "output_type": "execute_result"
    }
   ],
   "source": [
    "[(d, 1 + 3 * (d - 1)) for d in range(1, 32)]"
   ]
  },
  {
   "cell_type": "code",
   "execution_count": 12,
   "metadata": {},
   "outputs": [
    {
     "data": {
      "text/plain": [
       "range(1, 30)"
      ]
     },
     "execution_count": 12,
     "metadata": {},
     "output_type": "execute_result"
    }
   ],
   "source": [
    "range(1, 30)"
   ]
  },
  {
   "cell_type": "code",
   "execution_count": 78,
   "metadata": {},
   "outputs": [
    {
     "name": "stdout",
     "output_type": "stream",
     "text": [
      "На какой день рассчитать длительность загара?\n",
      "5\n",
      "В день 5 загорать 13 минут\n"
     ]
    }
   ],
   "source": [
    "d = input('На какой день рассчитать длительность загара?\\n')\n",
    "minutes(int(d))"
   ]
  },
  {
   "cell_type": "markdown",
   "metadata": {},
   "source": [
    "### Задание 5 (приветственное)\n",
    "\n",
    "Напишите программу, которая запрашивает у пользователя имя и фамилию и выводит на экран сообщение "
   ]
  },
  {
   "cell_type": "markdown",
   "metadata": {},
   "source": [
    "```Имя Фамилия```, добро пожаловать!"
   ]
  },
  {
   "cell_type": "markdown",
   "metadata": {},
   "source": [
    "### Задание 6 (биологическая)\n",
    "\n",
    "Напишите программу, которая запрашивает у пользователя с клавиатуры его рост в сантиметрах, его вес в килограммах (каждый показатель – с новой строки, в новом запросе) и выводит на экран сообщение вида:\n",
    "\n",
    "    Индекс массы тела: [значение].\n",
    "    \n",
    "где вместо `[значение]` подставляется посчитанное значение индекса массы тела. \n",
    "\n",
    "Индекс массы тела считается так:\n",
    "\n",
    "$$\n",
    "\\text{BMI} = \\text{m} / \\text{h}^2, \n",
    "$$\n",
    "\n",
    "где `m` – масса тела в килограммах, `h` – рост *в метрах*."
   ]
  },
  {
   "cell_type": "code",
   "execution_count": 2,
   "metadata": {},
   "outputs": [
    {
     "name": "stdout",
     "output_type": "stream",
     "text": [
      "Введите рост в см и вес в кг через запятую: \n",
      "185, 93.6\n",
      "BMI = 27\n"
     ]
    }
   ],
   "source": [
    "height, weight = [float(v) for v in input(\"Введите рост в см и вес в кг через запятую: \\n\").split(',')]\n",
    "print(\"BMI = %.1d\" % (weight / (height/100)**2))"
   ]
  },
  {
   "cell_type": "code",
   "execution_count": null,
   "metadata": {},
   "outputs": [],
   "source": [
    "95 / 1.85**2"
   ]
  },
  {
   "cell_type": "code",
   "execution_count": 93,
   "metadata": {},
   "outputs": [
    {
     "name": "stdout",
     "output_type": "stream",
     "text": [
      "Введите час\n",
      "17\n",
      "Вася попадет в магазин:  True\n"
     ]
    }
   ],
   "source": [
    "x = int(input(\"Введите час\\n\"))\n",
    "\n",
    "print(\"Вася попадет в магазин: \", (x >= 6 and x <= 8 ) or (x >= 16 and x <= 17))"
   ]
  }
 ],
 "metadata": {
  "kernelspec": {
   "display_name": "Python 3",
   "language": "python",
   "name": "python3"
  },
  "language_info": {
   "codemirror_mode": {
    "name": "ipython",
    "version": 3
   },
   "file_extension": ".py",
   "mimetype": "text/x-python",
   "name": "python",
   "nbconvert_exporter": "python",
   "pygments_lexer": "ipython3",
   "version": "3.7.3"
  }
 },
 "nbformat": 4,
 "nbformat_minor": 2
}

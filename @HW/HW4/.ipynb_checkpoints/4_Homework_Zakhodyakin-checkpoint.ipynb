{
 "cells": [
  {
   "cell_type": "markdown",
   "metadata": {},
   "source": [
    "Программа повышения квалификации (научно-педагогических) работников НИУ ВШЭ\n",
    "\n",
    "# Python для исследователей\n",
    "\n",
    "*Татьяна Рогович, НИУ ВШЭ*\n",
    "\n",
    "Максимум 13.5, в ведомость идет максимум 10.\n",
    "\n",
    "## Домашнее задание 4"
   ]
  },
  {
   "cell_type": "code",
   "execution_count": 1,
   "metadata": {
    "colab": {},
    "colab_type": "code",
    "id": "_HNDttaRjxXY"
   },
   "outputs": [],
   "source": [
    "import pandas as pd\n",
    "import numpy as np\n",
    "%matplotlib inline"
   ]
  },
  {
   "cell_type": "markdown",
   "metadata": {
    "colab_type": "text",
    "id": "FuJKWXhejxXb"
   },
   "source": [
    "Будем работать с датасетом Pima Indian Diabetes - это набор данных из Национального института диабета, болезней органов пищеварения и почек. Целью набора данных является диагностическое прогнозирование наличия диабета у пациента. Несколько ограничений были наложены на выбор этих экземпляров из большой базы данных. В частности, все пациенты здесь - женщины в возрасте от 21 года, индийского происхождения."
   ]
  },
  {
   "cell_type": "code",
   "execution_count": 2,
   "metadata": {
    "colab": {},
    "colab_type": "code",
    "id": "sTpCO57YjxXb",
    "outputId": "14b3949d-0b6c-45a2-b3c2-f3616c700cb8"
   },
   "outputs": [
    {
     "data": {
      "text/html": [
       "<div>\n",
       "<style scoped>\n",
       "    .dataframe tbody tr th:only-of-type {\n",
       "        vertical-align: middle;\n",
       "    }\n",
       "\n",
       "    .dataframe tbody tr th {\n",
       "        vertical-align: top;\n",
       "    }\n",
       "\n",
       "    .dataframe thead th {\n",
       "        text-align: right;\n",
       "    }\n",
       "</style>\n",
       "<table border=\"1\" class=\"dataframe\">\n",
       "  <thead>\n",
       "    <tr style=\"text-align: right;\">\n",
       "      <th></th>\n",
       "      <th>Pregnancies</th>\n",
       "      <th>Glucose</th>\n",
       "      <th>BloodPressure</th>\n",
       "      <th>SkinThickness</th>\n",
       "      <th>Insulin</th>\n",
       "      <th>BMI</th>\n",
       "      <th>DiabetesPedigreeFunction</th>\n",
       "      <th>Age</th>\n",
       "      <th>Class</th>\n",
       "    </tr>\n",
       "  </thead>\n",
       "  <tbody>\n",
       "    <tr>\n",
       "      <th>0</th>\n",
       "      <td>6</td>\n",
       "      <td>148.0</td>\n",
       "      <td>72.0</td>\n",
       "      <td>35.0</td>\n",
       "      <td>NaN</td>\n",
       "      <td>33.6</td>\n",
       "      <td>0.627</td>\n",
       "      <td>50</td>\n",
       "      <td>1</td>\n",
       "    </tr>\n",
       "    <tr>\n",
       "      <th>1</th>\n",
       "      <td>1</td>\n",
       "      <td>85.0</td>\n",
       "      <td>66.0</td>\n",
       "      <td>29.0</td>\n",
       "      <td>NaN</td>\n",
       "      <td>26.6</td>\n",
       "      <td>0.351</td>\n",
       "      <td>31</td>\n",
       "      <td>0</td>\n",
       "    </tr>\n",
       "    <tr>\n",
       "      <th>2</th>\n",
       "      <td>8</td>\n",
       "      <td>183.0</td>\n",
       "      <td>64.0</td>\n",
       "      <td>NaN</td>\n",
       "      <td>NaN</td>\n",
       "      <td>23.3</td>\n",
       "      <td>0.672</td>\n",
       "      <td>32</td>\n",
       "      <td>1</td>\n",
       "    </tr>\n",
       "    <tr>\n",
       "      <th>3</th>\n",
       "      <td>1</td>\n",
       "      <td>89.0</td>\n",
       "      <td>66.0</td>\n",
       "      <td>23.0</td>\n",
       "      <td>94.0</td>\n",
       "      <td>28.1</td>\n",
       "      <td>0.167</td>\n",
       "      <td>21</td>\n",
       "      <td>0</td>\n",
       "    </tr>\n",
       "    <tr>\n",
       "      <th>4</th>\n",
       "      <td>0</td>\n",
       "      <td>137.0</td>\n",
       "      <td>40.0</td>\n",
       "      <td>35.0</td>\n",
       "      <td>168.0</td>\n",
       "      <td>43.1</td>\n",
       "      <td>2.288</td>\n",
       "      <td>33</td>\n",
       "      <td>1</td>\n",
       "    </tr>\n",
       "    <tr>\n",
       "      <th>5</th>\n",
       "      <td>5</td>\n",
       "      <td>116.0</td>\n",
       "      <td>74.0</td>\n",
       "      <td>NaN</td>\n",
       "      <td>NaN</td>\n",
       "      <td>25.6</td>\n",
       "      <td>0.201</td>\n",
       "      <td>30</td>\n",
       "      <td>0</td>\n",
       "    </tr>\n",
       "    <tr>\n",
       "      <th>6</th>\n",
       "      <td>3</td>\n",
       "      <td>78.0</td>\n",
       "      <td>50.0</td>\n",
       "      <td>32.0</td>\n",
       "      <td>88.0</td>\n",
       "      <td>31.0</td>\n",
       "      <td>0.248</td>\n",
       "      <td>26</td>\n",
       "      <td>1</td>\n",
       "    </tr>\n",
       "    <tr>\n",
       "      <th>7</th>\n",
       "      <td>10</td>\n",
       "      <td>115.0</td>\n",
       "      <td>NaN</td>\n",
       "      <td>NaN</td>\n",
       "      <td>NaN</td>\n",
       "      <td>35.3</td>\n",
       "      <td>0.134</td>\n",
       "      <td>29</td>\n",
       "      <td>0</td>\n",
       "    </tr>\n",
       "    <tr>\n",
       "      <th>8</th>\n",
       "      <td>2</td>\n",
       "      <td>197.0</td>\n",
       "      <td>70.0</td>\n",
       "      <td>45.0</td>\n",
       "      <td>543.0</td>\n",
       "      <td>30.5</td>\n",
       "      <td>0.158</td>\n",
       "      <td>53</td>\n",
       "      <td>1</td>\n",
       "    </tr>\n",
       "    <tr>\n",
       "      <th>9</th>\n",
       "      <td>8</td>\n",
       "      <td>125.0</td>\n",
       "      <td>96.0</td>\n",
       "      <td>NaN</td>\n",
       "      <td>NaN</td>\n",
       "      <td>NaN</td>\n",
       "      <td>0.232</td>\n",
       "      <td>54</td>\n",
       "      <td>1</td>\n",
       "    </tr>\n",
       "  </tbody>\n",
       "</table>\n",
       "</div>"
      ],
      "text/plain": [
       "   Pregnancies  Glucose  BloodPressure  SkinThickness  Insulin   BMI  \\\n",
       "0            6    148.0           72.0           35.0      NaN  33.6   \n",
       "1            1     85.0           66.0           29.0      NaN  26.6   \n",
       "2            8    183.0           64.0            NaN      NaN  23.3   \n",
       "3            1     89.0           66.0           23.0     94.0  28.1   \n",
       "4            0    137.0           40.0           35.0    168.0  43.1   \n",
       "5            5    116.0           74.0            NaN      NaN  25.6   \n",
       "6            3     78.0           50.0           32.0     88.0  31.0   \n",
       "7           10    115.0            NaN            NaN      NaN  35.3   \n",
       "8            2    197.0           70.0           45.0    543.0  30.5   \n",
       "9            8    125.0           96.0            NaN      NaN   NaN   \n",
       "\n",
       "   DiabetesPedigreeFunction  Age  Class  \n",
       "0                     0.627   50      1  \n",
       "1                     0.351   31      0  \n",
       "2                     0.672   32      1  \n",
       "3                     0.167   21      0  \n",
       "4                     2.288   33      1  \n",
       "5                     0.201   30      0  \n",
       "6                     0.248   26      1  \n",
       "7                     0.134   29      0  \n",
       "8                     0.158   53      1  \n",
       "9                     0.232   54      1  "
      ]
     },
     "execution_count": 2,
     "metadata": {},
     "output_type": "execute_result"
    }
   ],
   "source": [
    "data = pd.read_csv('https://raw.githubusercontent.com/rogovich/2020_MIREC_PfDA/master/%40HW/1_HW/pima-indians-diabetes.csv')\n",
    "data.head(10)"
   ]
  },
  {
   "cell_type": "markdown",
   "metadata": {
    "colab_type": "text",
    "id": "2XR6YIKGjxXf"
   },
   "source": [
    "Описание данных:\n",
    "\n",
    "- __Pregnancies__ - данная единица отображает количество беременностей, единицы измерения - целые числа от 0 до N. Тип переменной - количественная, дискретная.\n",
    "- __Glucose__ - данная единица отображает уровень глюкозы в крови, единицы измерения - целые числа. Тип переменной - количественная, дискретная.\n",
    "- __BloodPressure__ - данная единица отображает артериальное давление, единицы измерения - миллиметры р/с, целые числа. Тип переменной - количественная, дискретная.\n",
    "- __SkinThickness__ - данная единица отображает обхват трицепса в миллиметрах, целые числа. Тип переменной - количественная, дискретная.\n",
    "- __Insulin__ - данная единица отображает уровень инсулина в крови, целые числа. Тип переменной - количественная, дискретная.\n",
    "- __BMI__ - данная единица отображает индекс массы тела. Тип переменной - количественная, непрерывная.\n",
    "- __DiabetesPedigreeFunction__ - данная единица отображает риск наследственного диабета в зависимости наличия диабета у родственников. Выражается десятичной дробью от 0 до 1. Тип переменной - количественная, непрерывная.\n",
    "- __Age__ - данная единица отражает возраст в целых числах. Тип переменной - количественная, дискретная.\n",
    "- __Class__ - данная единица отражает наличие диабета у субъекта, выражена 0(здоров) или 1(болен). Тип переменной - категориальная, бинарная."
   ]
  },
  {
   "cell_type": "code",
   "execution_count": 3,
   "metadata": {},
   "outputs": [],
   "source": [
    "discrete_vars = ['Pregnancies', 'Glucose', 'BloodPressure', 'SkinThickness', 'Insulin', 'Age']\n",
    "continuous_vars = ['BMI', 'DiabetesPedigreeFunction']"
   ]
  },
  {
   "cell_type": "markdown",
   "metadata": {
    "colab_type": "text",
    "id": "x0CsPO-4jxXg"
   },
   "source": [
    "__Задание 1. (0.5 балла)__\n",
    "\n",
    "Как вы видите, в данных много пропусков (NaN). Любым способом посчитайте количество пропусков в каждом из столбцов (но мы должны видеть как вы это делали). \n",
    "\n",
    "Для тех переменных, в которых есть пропуске, выведите количество пропущенных значений в следующем формате:\n",
    "\n",
    "\"В переменной {название переменной} {количество} пропущенных значений\""
   ]
  },
  {
   "cell_type": "code",
   "execution_count": 4,
   "metadata": {
    "colab": {},
    "colab_type": "code",
    "id": "YM7mBdi_jxXh"
   },
   "outputs": [
    {
     "data": {
      "text/plain": [
       "Pregnancies                   0\n",
       "Glucose                       5\n",
       "BloodPressure                35\n",
       "SkinThickness               227\n",
       "Insulin                     374\n",
       "BMI                          11\n",
       "DiabetesPedigreeFunction      0\n",
       "Age                           0\n",
       "Class                         0\n",
       "dtype: int64"
      ]
     },
     "execution_count": 4,
     "metadata": {},
     "output_type": "execute_result"
    }
   ],
   "source": [
    "# ( ͡° ͜ʖ ͡°)づ ━━ ✫・*。\n",
    "# Быстро можно посмотреть так:\n",
    "data.isna().sum()"
   ]
  },
  {
   "cell_type": "code",
   "execution_count": 5,
   "metadata": {},
   "outputs": [
    {
     "data": {
      "text/plain": [
       "Pregnancies                   0.0\n",
       "Glucose                       5.0\n",
       "BloodPressure                35.0\n",
       "SkinThickness               227.0\n",
       "Insulin                     374.0\n",
       "BMI                          11.0\n",
       "DiabetesPedigreeFunction      0.0\n",
       "Age                           0.0\n",
       "Class                         0.0\n",
       "Name: count, dtype: float64"
      ]
     },
     "execution_count": 5,
     "metadata": {},
     "output_type": "execute_result"
    }
   ],
   "source": [
    "# Или так:\n",
    "len(data) - data.describe().loc['count']"
   ]
  },
  {
   "cell_type": "code",
   "execution_count": 6,
   "metadata": {},
   "outputs": [
    {
     "name": "stdout",
     "output_type": "stream",
     "text": [
      "В переменной Pregnancies 0 пропущенных значений\n",
      "В переменной Glucose 5 пропущенных значений\n",
      "В переменной BloodPressure 35 пропущенных значений\n",
      "В переменной SkinThickness 227 пропущенных значений\n",
      "В переменной Insulin 374 пропущенных значений\n",
      "В переменной BMI 11 пропущенных значений\n",
      "В переменной DiabetesPedigreeFunction 0 пропущенных значений\n",
      "В переменной Age 0 пропущенных значений\n",
      "В переменной Class 0 пропущенных значений\n"
     ]
    }
   ],
   "source": [
    "for index, row in data.isna().sum().iteritems():\n",
    "    print('В переменной %s %s пропущенных значений' % (index, row))"
   ]
  },
  {
   "cell_type": "markdown",
   "metadata": {
    "colab_type": "text",
    "id": "Q-S71t5rjxXj"
   },
   "source": [
    "__Задание 2. (1 балл)__\n",
    "\n",
    "Замените в данных все пропуски дискретных признаков соответствующими медианами, непрерывных признаков - средними значениями."
   ]
  },
  {
   "cell_type": "code",
   "execution_count": 7,
   "metadata": {
    "colab": {},
    "colab_type": "code",
    "id": "X6sFZJ_FjxXj"
   },
   "outputs": [
    {
     "data": {
      "text/plain": [
       "Pregnancies                 0\n",
       "Glucose                     0\n",
       "BloodPressure               0\n",
       "SkinThickness               0\n",
       "Insulin                     0\n",
       "BMI                         0\n",
       "DiabetesPedigreeFunction    0\n",
       "Age                         0\n",
       "Class                       0\n",
       "dtype: int64"
      ]
     },
     "execution_count": 7,
     "metadata": {},
     "output_type": "execute_result"
    }
   ],
   "source": [
    "# ( ͡° ͜ʖ ͡°)づ ━━ ✫・*。\n",
    "for var in discrete_vars:\n",
    "    data[var].fillna(data[var].median(), inplace=True)\n",
    "    \n",
    "for var in continuous_vars:\n",
    "    data[var].fillna(data[var].mean(), inplace=True)\n",
    "    \n",
    "data.isna().sum()"
   ]
  },
  {
   "cell_type": "markdown",
   "metadata": {
    "colab_type": "text",
    "id": "SE52n_IZjxXn"
   },
   "source": [
    "__Задание 3. (0.25 балла)__\n",
    "\n",
    "У скольких женщин старше 50 лет обнаружен диабет?"
   ]
  },
  {
   "cell_type": "code",
   "execution_count": 8,
   "metadata": {
    "colab": {},
    "colab_type": "code",
    "id": "nbypf5S8jxXo"
   },
   "outputs": [
    {
     "data": {
      "text/plain": [
       "38"
      ]
     },
     "execution_count": 8,
     "metadata": {},
     "output_type": "execute_result"
    }
   ],
   "source": [
    "# ( ͡° ͜ʖ ͡°)づ ━━ ✫・*。\n",
    "len(data.query('Age > 50 and Class == 1'))"
   ]
  },
  {
   "cell_type": "markdown",
   "metadata": {
    "colab_type": "text",
    "id": "KrBezBxVjxXr"
   },
   "source": [
    "__Задание 4. (0.25 балла)__\n",
    "\n",
    "Найдите трех женщин с наибольшими числом беременностей."
   ]
  },
  {
   "cell_type": "code",
   "execution_count": 9,
   "metadata": {
    "colab": {},
    "colab_type": "code",
    "id": "TRzq5ouUjxXs"
   },
   "outputs": [
    {
     "data": {
      "text/html": [
       "<div>\n",
       "<style scoped>\n",
       "    .dataframe tbody tr th:only-of-type {\n",
       "        vertical-align: middle;\n",
       "    }\n",
       "\n",
       "    .dataframe tbody tr th {\n",
       "        vertical-align: top;\n",
       "    }\n",
       "\n",
       "    .dataframe thead th {\n",
       "        text-align: right;\n",
       "    }\n",
       "</style>\n",
       "<table border=\"1\" class=\"dataframe\">\n",
       "  <thead>\n",
       "    <tr style=\"text-align: right;\">\n",
       "      <th></th>\n",
       "      <th>Pregnancies</th>\n",
       "      <th>Glucose</th>\n",
       "      <th>BloodPressure</th>\n",
       "      <th>SkinThickness</th>\n",
       "      <th>Insulin</th>\n",
       "      <th>BMI</th>\n",
       "      <th>DiabetesPedigreeFunction</th>\n",
       "      <th>Age</th>\n",
       "      <th>Class</th>\n",
       "    </tr>\n",
       "  </thead>\n",
       "  <tbody>\n",
       "    <tr>\n",
       "      <th>159</th>\n",
       "      <td>17</td>\n",
       "      <td>163.0</td>\n",
       "      <td>72.0</td>\n",
       "      <td>41.0</td>\n",
       "      <td>114.0</td>\n",
       "      <td>40.9</td>\n",
       "      <td>0.817</td>\n",
       "      <td>47</td>\n",
       "      <td>1</td>\n",
       "    </tr>\n",
       "    <tr>\n",
       "      <th>88</th>\n",
       "      <td>15</td>\n",
       "      <td>136.0</td>\n",
       "      <td>70.0</td>\n",
       "      <td>32.0</td>\n",
       "      <td>110.0</td>\n",
       "      <td>37.1</td>\n",
       "      <td>0.153</td>\n",
       "      <td>43</td>\n",
       "      <td>1</td>\n",
       "    </tr>\n",
       "    <tr>\n",
       "      <th>298</th>\n",
       "      <td>14</td>\n",
       "      <td>100.0</td>\n",
       "      <td>78.0</td>\n",
       "      <td>25.0</td>\n",
       "      <td>184.0</td>\n",
       "      <td>36.6</td>\n",
       "      <td>0.412</td>\n",
       "      <td>46</td>\n",
       "      <td>1</td>\n",
       "    </tr>\n",
       "  </tbody>\n",
       "</table>\n",
       "</div>"
      ],
      "text/plain": [
       "     Pregnancies  Glucose  BloodPressure  SkinThickness  Insulin   BMI  \\\n",
       "159           17    163.0           72.0           41.0    114.0  40.9   \n",
       "88            15    136.0           70.0           32.0    110.0  37.1   \n",
       "298           14    100.0           78.0           25.0    184.0  36.6   \n",
       "\n",
       "     DiabetesPedigreeFunction  Age  Class  \n",
       "159                     0.817   47      1  \n",
       "88                      0.153   43      1  \n",
       "298                     0.412   46      1  "
      ]
     },
     "execution_count": 9,
     "metadata": {},
     "output_type": "execute_result"
    }
   ],
   "source": [
    "# ( ͡° ͜ʖ ͡°)づ ━━ ✫・*。\n",
    "data.sort_values(by = ['Pregnancies'], ascending = False).head(3)"
   ]
  },
  {
   "cell_type": "markdown",
   "metadata": {
    "colab_type": "text",
    "id": "NHPD5gpWjxXu"
   },
   "source": [
    "__Задание 5. (0.25 балла)__\n",
    "\n",
    "Сколько женщин успели родить 3 или более детей до 30 лет?"
   ]
  },
  {
   "cell_type": "code",
   "execution_count": 10,
   "metadata": {
    "colab": {},
    "colab_type": "code",
    "id": "tM3xMXiXjxXv"
   },
   "outputs": [
    {
     "data": {
      "text/plain": [
       "117"
      ]
     },
     "execution_count": 10,
     "metadata": {},
     "output_type": "execute_result"
    }
   ],
   "source": [
    "# ( ͡° ͜ʖ ͡°)づ ━━ ✫・*。\n",
    "len(data.query('Age < 30 and Pregnancies >= 3'))"
   ]
  },
  {
   "cell_type": "markdown",
   "metadata": {
    "colab_type": "text",
    "id": "Iwjda-nSjxXy"
   },
   "source": [
    "__Задание 6. (0.5 балла)__\n",
    "\n",
    "Нормальным кровяным давлением будем считать давление в диапазоне [80-89]. У какого процента женщин давление нормальное?"
   ]
  },
  {
   "cell_type": "code",
   "execution_count": 11,
   "metadata": {
    "colab": {},
    "colab_type": "code",
    "id": "dQU3nmpCjxYB"
   },
   "outputs": [
    {
     "name": "stdout",
     "output_type": "stream",
     "text": [
      "18.9\n"
     ]
    }
   ],
   "source": [
    "# ( ͡° ͜ʖ ͡°)づ ━━ ✫・*。\n",
    "print(\"%.1f\" % (100 * len(data.query('80 <= BloodPressure <= 89')) / len(data)))"
   ]
  },
  {
   "cell_type": "markdown",
   "metadata": {
    "colab_type": "text",
    "id": "lQUXC7FqjxYM"
   },
   "source": [
    "__Задание 7. (0.25 балла)__\n",
    "\n",
    "Добавьте новый бинарный признак:\n",
    "\n",
    "__wasPregnant__ $\\in$ {0,1} - была женщина беременна (1) или нет (0)"
   ]
  },
  {
   "cell_type": "code",
   "execution_count": 12,
   "metadata": {
    "colab": {},
    "colab_type": "code",
    "id": "iOH2LVQzjxYN"
   },
   "outputs": [
    {
     "name": "stdout",
     "output_type": "stream",
     "text": [
      "151 µs ± 1.15 µs per loop (mean ± std. dev. of 7 runs, 10000 loops each)\n"
     ]
    }
   ],
   "source": [
    "# ( ͡° ͜ʖ ͡°)づ ━━ ✫・*。\n",
    "%timeit data['wasPregnant'] = np.where(data['Pregnancies'] > 0, 1, 0)"
   ]
  },
  {
   "cell_type": "code",
   "execution_count": 13,
   "metadata": {},
   "outputs": [
    {
     "name": "stdout",
     "output_type": "stream",
     "text": [
      "397 µs ± 1.59 µs per loop (mean ± std. dev. of 7 runs, 1000 loops each)\n"
     ]
    }
   ],
   "source": [
    "# или так, но работает вдвое медленнее\n",
    "\n",
    "%timeit data['wasPregnant'] = data['Pregnancies'].apply(lambda x: 1 if x > 0 else 0)\n"
   ]
  },
  {
   "cell_type": "code",
   "execution_count": 14,
   "metadata": {},
   "outputs": [
    {
     "data": {
      "text/html": [
       "<div>\n",
       "<style scoped>\n",
       "    .dataframe tbody tr th:only-of-type {\n",
       "        vertical-align: middle;\n",
       "    }\n",
       "\n",
       "    .dataframe tbody tr th {\n",
       "        vertical-align: top;\n",
       "    }\n",
       "\n",
       "    .dataframe thead th {\n",
       "        text-align: right;\n",
       "    }\n",
       "</style>\n",
       "<table border=\"1\" class=\"dataframe\">\n",
       "  <thead>\n",
       "    <tr style=\"text-align: right;\">\n",
       "      <th></th>\n",
       "      <th>Pregnancies</th>\n",
       "      <th>Glucose</th>\n",
       "      <th>BloodPressure</th>\n",
       "      <th>SkinThickness</th>\n",
       "      <th>Insulin</th>\n",
       "      <th>BMI</th>\n",
       "      <th>DiabetesPedigreeFunction</th>\n",
       "      <th>Age</th>\n",
       "      <th>Class</th>\n",
       "      <th>wasPregnant</th>\n",
       "    </tr>\n",
       "  </thead>\n",
       "  <tbody>\n",
       "    <tr>\n",
       "      <th>0</th>\n",
       "      <td>6</td>\n",
       "      <td>148.0</td>\n",
       "      <td>72.0</td>\n",
       "      <td>35.0</td>\n",
       "      <td>125.0</td>\n",
       "      <td>33.6</td>\n",
       "      <td>0.627</td>\n",
       "      <td>50</td>\n",
       "      <td>1</td>\n",
       "      <td>1</td>\n",
       "    </tr>\n",
       "    <tr>\n",
       "      <th>1</th>\n",
       "      <td>1</td>\n",
       "      <td>85.0</td>\n",
       "      <td>66.0</td>\n",
       "      <td>29.0</td>\n",
       "      <td>125.0</td>\n",
       "      <td>26.6</td>\n",
       "      <td>0.351</td>\n",
       "      <td>31</td>\n",
       "      <td>0</td>\n",
       "      <td>1</td>\n",
       "    </tr>\n",
       "    <tr>\n",
       "      <th>2</th>\n",
       "      <td>8</td>\n",
       "      <td>183.0</td>\n",
       "      <td>64.0</td>\n",
       "      <td>29.0</td>\n",
       "      <td>125.0</td>\n",
       "      <td>23.3</td>\n",
       "      <td>0.672</td>\n",
       "      <td>32</td>\n",
       "      <td>1</td>\n",
       "      <td>1</td>\n",
       "    </tr>\n",
       "    <tr>\n",
       "      <th>3</th>\n",
       "      <td>1</td>\n",
       "      <td>89.0</td>\n",
       "      <td>66.0</td>\n",
       "      <td>23.0</td>\n",
       "      <td>94.0</td>\n",
       "      <td>28.1</td>\n",
       "      <td>0.167</td>\n",
       "      <td>21</td>\n",
       "      <td>0</td>\n",
       "      <td>1</td>\n",
       "    </tr>\n",
       "    <tr>\n",
       "      <th>4</th>\n",
       "      <td>0</td>\n",
       "      <td>137.0</td>\n",
       "      <td>40.0</td>\n",
       "      <td>35.0</td>\n",
       "      <td>168.0</td>\n",
       "      <td>43.1</td>\n",
       "      <td>2.288</td>\n",
       "      <td>33</td>\n",
       "      <td>1</td>\n",
       "      <td>0</td>\n",
       "    </tr>\n",
       "    <tr>\n",
       "      <th>...</th>\n",
       "      <td>...</td>\n",
       "      <td>...</td>\n",
       "      <td>...</td>\n",
       "      <td>...</td>\n",
       "      <td>...</td>\n",
       "      <td>...</td>\n",
       "      <td>...</td>\n",
       "      <td>...</td>\n",
       "      <td>...</td>\n",
       "      <td>...</td>\n",
       "    </tr>\n",
       "    <tr>\n",
       "      <th>763</th>\n",
       "      <td>10</td>\n",
       "      <td>101.0</td>\n",
       "      <td>76.0</td>\n",
       "      <td>48.0</td>\n",
       "      <td>180.0</td>\n",
       "      <td>32.9</td>\n",
       "      <td>0.171</td>\n",
       "      <td>63</td>\n",
       "      <td>0</td>\n",
       "      <td>1</td>\n",
       "    </tr>\n",
       "    <tr>\n",
       "      <th>764</th>\n",
       "      <td>2</td>\n",
       "      <td>122.0</td>\n",
       "      <td>70.0</td>\n",
       "      <td>27.0</td>\n",
       "      <td>125.0</td>\n",
       "      <td>36.8</td>\n",
       "      <td>0.340</td>\n",
       "      <td>27</td>\n",
       "      <td>0</td>\n",
       "      <td>1</td>\n",
       "    </tr>\n",
       "    <tr>\n",
       "      <th>765</th>\n",
       "      <td>5</td>\n",
       "      <td>121.0</td>\n",
       "      <td>72.0</td>\n",
       "      <td>23.0</td>\n",
       "      <td>112.0</td>\n",
       "      <td>26.2</td>\n",
       "      <td>0.245</td>\n",
       "      <td>30</td>\n",
       "      <td>0</td>\n",
       "      <td>1</td>\n",
       "    </tr>\n",
       "    <tr>\n",
       "      <th>766</th>\n",
       "      <td>1</td>\n",
       "      <td>126.0</td>\n",
       "      <td>60.0</td>\n",
       "      <td>29.0</td>\n",
       "      <td>125.0</td>\n",
       "      <td>30.1</td>\n",
       "      <td>0.349</td>\n",
       "      <td>47</td>\n",
       "      <td>1</td>\n",
       "      <td>1</td>\n",
       "    </tr>\n",
       "    <tr>\n",
       "      <th>767</th>\n",
       "      <td>1</td>\n",
       "      <td>93.0</td>\n",
       "      <td>70.0</td>\n",
       "      <td>31.0</td>\n",
       "      <td>125.0</td>\n",
       "      <td>30.4</td>\n",
       "      <td>0.315</td>\n",
       "      <td>23</td>\n",
       "      <td>0</td>\n",
       "      <td>1</td>\n",
       "    </tr>\n",
       "  </tbody>\n",
       "</table>\n",
       "<p>768 rows × 10 columns</p>\n",
       "</div>"
      ],
      "text/plain": [
       "     Pregnancies  Glucose  BloodPressure  SkinThickness  Insulin   BMI  \\\n",
       "0              6    148.0           72.0           35.0    125.0  33.6   \n",
       "1              1     85.0           66.0           29.0    125.0  26.6   \n",
       "2              8    183.0           64.0           29.0    125.0  23.3   \n",
       "3              1     89.0           66.0           23.0     94.0  28.1   \n",
       "4              0    137.0           40.0           35.0    168.0  43.1   \n",
       "..           ...      ...            ...            ...      ...   ...   \n",
       "763           10    101.0           76.0           48.0    180.0  32.9   \n",
       "764            2    122.0           70.0           27.0    125.0  36.8   \n",
       "765            5    121.0           72.0           23.0    112.0  26.2   \n",
       "766            1    126.0           60.0           29.0    125.0  30.1   \n",
       "767            1     93.0           70.0           31.0    125.0  30.4   \n",
       "\n",
       "     DiabetesPedigreeFunction  Age  Class  wasPregnant  \n",
       "0                       0.627   50      1            1  \n",
       "1                       0.351   31      0            1  \n",
       "2                       0.672   32      1            1  \n",
       "3                       0.167   21      0            1  \n",
       "4                       2.288   33      1            0  \n",
       "..                        ...  ...    ...          ...  \n",
       "763                     0.171   63      0            1  \n",
       "764                     0.340   27      0            1  \n",
       "765                     0.245   30      0            1  \n",
       "766                     0.349   47      1            1  \n",
       "767                     0.315   23      0            1  \n",
       "\n",
       "[768 rows x 10 columns]"
      ]
     },
     "execution_count": 14,
     "metadata": {},
     "output_type": "execute_result"
    }
   ],
   "source": [
    "data"
   ]
  },
  {
   "cell_type": "markdown",
   "metadata": {
    "colab_type": "text",
    "id": "lz7v-028jxYP"
   },
   "source": [
    "__Задание 8. (0.5 балла)__\n",
    "\n",
    "Сравните процент больных диабетом среди женщин, которые были беременны и не были."
   ]
  },
  {
   "cell_type": "code",
   "execution_count": 15,
   "metadata": {
    "colab": {},
    "colab_type": "code",
    "id": "7AbUJ9DgjxYP"
   },
   "outputs": [
    {
     "data": {
      "text/plain": [
       "wasPregnant\n",
       "0    34.234234\n",
       "1    35.007610\n",
       "Name: Class, dtype: float64"
      ]
     },
     "execution_count": 15,
     "metadata": {},
     "output_type": "execute_result"
    }
   ],
   "source": [
    "# ( ͡° ͜ʖ ͡°)づ ━━ ✫・*。\n",
    "data.groupby('wasPregnant')['Class'].mean()*100"
   ]
  },
  {
   "cell_type": "markdown",
   "metadata": {
    "colab_type": "text",
    "id": "JFvXThqxjxYS"
   },
   "source": [
    "__Задание 9. (1 балл)__\n",
    "\n",
    "Добавьте новый категориальный признак __bodyType__ на основе столбца BMI:\n",
    "\n",
    "__BMI Categories:__ \n",
    "\n",
    "Underweight = <18.5\n",
    "\n",
    "Normal weight = 18.5–24.9 \n",
    "\n",
    "Overweight = 25–29.9 \n",
    "\n",
    "Obesity = BMI of 30 or greater\n",
    "\n",
    "Признак должен принимать значения Underweight, Normal weight, Overweight и Obesity. Выведите количество женщин в каждой из категорий."
   ]
  },
  {
   "cell_type": "code",
   "execution_count": 16,
   "metadata": {
    "colab": {},
    "colab_type": "code",
    "id": "MZTrFpp2jxYS"
   },
   "outputs": [
    {
     "data": {
      "text/plain": [
       "bodyType\n",
       "Underweight        4\n",
       "Normal Weight    102\n",
       "Overweight       179\n",
       "Obesity          483\n",
       "dtype: int64"
      ]
     },
     "execution_count": 16,
     "metadata": {},
     "output_type": "execute_result"
    }
   ],
   "source": [
    "# ( ͡° ͜ʖ ͡°)づ ━━ ✫・*。\n",
    "data['bodyType'] = pd.cut(data['BMI'], [0, 18.5, 25, 30, 100], right=False,\n",
    "                         labels=['Underweight', 'Normal Weight', 'Overweight', 'Obesity'])\n",
    "\n",
    "data.groupby('bodyType').size()"
   ]
  },
  {
   "cell_type": "markdown",
   "metadata": {
    "colab_type": "text",
    "id": "9mGxubgGjxYU"
   },
   "source": [
    "__Задание 10. (0.5 балла)__\n",
    "\n",
    "Будем считать \"здоровыми\" тех, у кого нормальный вес и кровяное давление. Какой процент \"здоровых\" женщин больны диабетом?"
   ]
  },
  {
   "cell_type": "code",
   "execution_count": 17,
   "metadata": {
    "colab": {},
    "colab_type": "code",
    "id": "lIUbdSEFjxYV"
   },
   "outputs": [
    {
     "data": {
      "text/plain": [
       "10.0"
      ]
     },
     "execution_count": 17,
     "metadata": {},
     "output_type": "execute_result"
    }
   ],
   "source": [
    "# ( ͡° ͜ʖ ͡°)づ ━━ ✫・*。\n",
    "data.query('bodyType == \"Normal Weight\" and 80 <= BloodPressure <= 89')['Class'].mean()*100"
   ]
  },
  {
   "cell_type": "markdown",
   "metadata": {},
   "source": [
    "# Визуализация"
   ]
  },
  {
   "cell_type": "code",
   "execution_count": 18,
   "metadata": {},
   "outputs": [
    {
     "name": "stderr",
     "output_type": "stream",
     "text": [
      "C:\\Anaconda3\\envs\\fkn\\lib\\site-packages\\numpy\\lib\\arraysetops.py:569: FutureWarning: elementwise comparison failed; returning scalar instead, but in the future will perform elementwise comparison\n",
      "  mask |= (ar1 == a)\n"
     ]
    },
    {
     "data": {
      "text/html": [
       "<div>\n",
       "<style scoped>\n",
       "    .dataframe tbody tr th:only-of-type {\n",
       "        vertical-align: middle;\n",
       "    }\n",
       "\n",
       "    .dataframe tbody tr th {\n",
       "        vertical-align: top;\n",
       "    }\n",
       "\n",
       "    .dataframe thead th {\n",
       "        text-align: right;\n",
       "    }\n",
       "</style>\n",
       "<table border=\"1\" class=\"dataframe\">\n",
       "  <thead>\n",
       "    <tr style=\"text-align: right;\">\n",
       "      <th></th>\n",
       "      <th>name</th>\n",
       "      <th>sex</th>\n",
       "      <th>number</th>\n",
       "      <th>year</th>\n",
       "    </tr>\n",
       "  </thead>\n",
       "  <tbody>\n",
       "    <tr>\n",
       "      <th>33833</th>\n",
       "      <td>Zymaire</td>\n",
       "      <td>M</td>\n",
       "      <td>5</td>\n",
       "      <td>2010</td>\n",
       "    </tr>\n",
       "    <tr>\n",
       "      <th>33834</th>\n",
       "      <td>Zyonne</td>\n",
       "      <td>M</td>\n",
       "      <td>5</td>\n",
       "      <td>2010</td>\n",
       "    </tr>\n",
       "    <tr>\n",
       "      <th>33835</th>\n",
       "      <td>Zyquarius</td>\n",
       "      <td>M</td>\n",
       "      <td>5</td>\n",
       "      <td>2010</td>\n",
       "    </tr>\n",
       "    <tr>\n",
       "      <th>33836</th>\n",
       "      <td>Zyran</td>\n",
       "      <td>M</td>\n",
       "      <td>5</td>\n",
       "      <td>2010</td>\n",
       "    </tr>\n",
       "    <tr>\n",
       "      <th>33837</th>\n",
       "      <td>Zzyzx</td>\n",
       "      <td>M</td>\n",
       "      <td>5</td>\n",
       "      <td>2010</td>\n",
       "    </tr>\n",
       "  </tbody>\n",
       "</table>\n",
       "</div>"
      ],
      "text/plain": [
       "            name sex  number  year\n",
       "33833    Zymaire   M       5  2010\n",
       "33834     Zyonne   M       5  2010\n",
       "33835  Zyquarius   M       5  2010\n",
       "33836      Zyran   M       5  2010\n",
       "33837      Zzyzx   M       5  2010"
      ]
     },
     "execution_count": 18,
     "metadata": {},
     "output_type": "execute_result"
    }
   ],
   "source": [
    "import matplotlib.pyplot as plt\n",
    "\n",
    "babies = pd.read_csv('https://raw.githubusercontent.com/rogovich/2019-2020_PolSci_Data_Analysis_in_Python/master/%40Bonus/5/babies_all.csv', index_col=0)\n",
    "babies.tail()"
   ]
  },
  {
   "cell_type": "markdown",
   "metadata": {},
   "source": [
    "Данные взяты с сайта Social Security и содержат информацию об именах всех новорожденных в США с 1880 года.\n",
    "\n",
    "https://www.ssa.gov/oact/babynames/limits.html\n",
    "\n",
    "Данные:\n",
    "\n",
    "* name - Имя детей\n",
    "* sex - Пол (мужское или женское)\n",
    "* number - Количество детей с таким именем\n",
    "* year - год.\n",
    "\n",
    "Т.е. последняя строчка читается так: В 2010 году родилось пять мальчиков, которых назвали Zzyzx"
   ]
  },
  {
   "cell_type": "markdown",
   "metadata": {},
   "source": [
    "__Задание 10. (1 балл)__\n",
    "\n",
    "Исследуйте набор данных babies. Ответьте на вопросы.\n",
    "\n",
    "1) Какие годы входят в наш набор данных?\n"
   ]
  },
  {
   "cell_type": "code",
   "execution_count": 19,
   "metadata": {},
   "outputs": [
    {
     "data": {
      "text/plain": [
       "array([1880, 1881, 1882, 1883, 1884, 1885, 1886, 1887, 1888, 1889, 1890,\n",
       "       1891, 1892, 1893, 1894, 1895, 1896, 1897, 1898, 1899, 1900, 1901,\n",
       "       1902, 1903, 1904, 1905, 1906, 1907, 1908, 1909, 1910, 1911, 1912,\n",
       "       1913, 1914, 1915, 1916, 1917, 1918, 1919, 1920, 1921, 1922, 1923,\n",
       "       1924, 1925, 1926, 1927, 1928, 1929, 1930, 1931, 1932, 1933, 1934,\n",
       "       1935, 1936, 1937, 1938, 1939, 1940, 1941, 1942, 1943, 1944, 1945,\n",
       "       1946, 1947, 1948, 1949, 1950, 1951, 1952, 1953, 1954, 1955, 1956,\n",
       "       1957, 1958, 1959, 1960, 1961, 1962, 1963, 1964, 1965, 1966, 1967,\n",
       "       1968, 1969, 1970, 1971, 1972, 1973, 1974, 1975, 1976, 1977, 1978,\n",
       "       1979, 1980, 1981, 1982, 1983, 1984, 1985, 1986, 1987, 1988, 1989,\n",
       "       1990, 1991, 1992, 1993, 1994, 1995, 1996, 1997, 1998, 1999, 2000,\n",
       "       2001, 2002, 2003, 2004, 2005, 2006, 2007, 2008, 2009, 2010],\n",
       "      dtype=int64)"
      ]
     },
     "execution_count": 19,
     "metadata": {},
     "output_type": "execute_result"
    }
   ],
   "source": [
    "# ( ͡° ͜ʖ ͡°)づ ━━ ✫・*。\n",
    "babies['year'].unique()"
   ]
  },
  {
   "cell_type": "markdown",
   "metadata": {},
   "source": [
    "2) Какое имя в датасете находится по индексом 121 (от 0)?"
   ]
  },
  {
   "cell_type": "code",
   "execution_count": 20,
   "metadata": {},
   "outputs": [
    {
     "data": {
      "text/plain": [
       "'Ann'"
      ]
     },
     "execution_count": 20,
     "metadata": {},
     "output_type": "execute_result"
    }
   ],
   "source": [
    "# ( ͡° ͜ʖ ͡°)づ ━━ ✫・*。\n",
    "babies.iloc[121]['name']"
   ]
  },
  {
   "cell_type": "markdown",
   "metadata": {},
   "source": [
    "3) Cколько всего родилось детей по имени 'Aaron' за все время?\n",
    "\n"
   ]
  },
  {
   "cell_type": "code",
   "execution_count": 21,
   "metadata": {},
   "outputs": [
    {
     "data": {
      "text/plain": [
       "212"
      ]
     },
     "execution_count": 21,
     "metadata": {},
     "output_type": "execute_result"
    }
   ],
   "source": [
    "# ( ͡° ͜ʖ ͡°)づ ━━ ✫・*。\n",
    "len(babies.query('name == \"Aaron\"'))"
   ]
  },
  {
   "cell_type": "markdown",
   "metadata": {},
   "source": [
    "4) Найдите абсолютную разницу между количеством рожденных мальчиков и девочек за все время."
   ]
  },
  {
   "cell_type": "code",
   "execution_count": 22,
   "metadata": {},
   "outputs": [
    {
     "data": {
      "text/plain": [
       "-317186"
      ]
     },
     "execution_count": 22,
     "metadata": {},
     "output_type": "execute_result"
    }
   ],
   "source": [
    "# ( ͡° ͜ʖ ͡°)づ ━━ ✫・*。\n",
    "sex_counts = babies.groupby('sex').size()\n",
    "sex_counts['M'] - sex_counts['F']"
   ]
  },
  {
   "cell_type": "markdown",
   "metadata": {},
   "source": [
    "5) Сколько в датасете девочек по имени John?"
   ]
  },
  {
   "cell_type": "code",
   "execution_count": 23,
   "metadata": {},
   "outputs": [
    {
     "data": {
      "text/plain": [
       "131"
      ]
     },
     "execution_count": 23,
     "metadata": {},
     "output_type": "execute_result"
    }
   ],
   "source": [
    "# ( ͡° ͜ʖ ͡°)づ ━━ ✫・*。\n",
    "\n",
    "len(babies.query('name == \"John\" and sex == \"F\"'))"
   ]
  },
  {
   "cell_type": "markdown",
   "metadata": {},
   "source": [
    "__Задание 2. (1.5 балла)__\n",
    "\n",
    "1. Сгруппируйте набор данных babies по году и полу и сохраните результаты в два новых датафрейма: babies_girls и babies_boys. Т.е. должно получиться два датафрейма, где каждому году соответствует общее количество детей, рожденных в этом году.\n",
    "2. Создайте фигуру matplotlib с 3 графиками один под другим.\n",
    "3. Постройте линейные графики. Первый график должен показывать тренд рождаемости для девочек, второй - для мальчиков, третий объединять их все вместе (с теми же цветами, что в индивидуальных графиках). Годы - x, количество детей - y. \n",
    "4. Верхняя и правая границы графиков должны быть невидимы, к каждому графику должен быть заголовок, третий график должен содержать легенду, шкалы графиков должны быть подписаны.\n",
    "5. Для шкалы y, показывающей количество детей, рожденных в этот год, должны быть установлены лимиты, чтобы она была одинакова на обоих графиках.\n",
    "\n",
    "Если при группировке вы сделали год индексом, то можно обратиться к значениям этой переменной через аттрибут .index\n"
   ]
  },
  {
   "cell_type": "code",
   "execution_count": 24,
   "metadata": {},
   "outputs": [
    {
     "name": "stdout",
     "output_type": "stream",
     "text": [
      "131 131\n"
     ]
    }
   ],
   "source": [
    "# ( ͡° ͜ʖ ͡°)づ ━━ ✫・*。\n",
    "# Подготовка данных\n",
    "grouped_babies = babies.groupby(['sex','year']).size()\n",
    "babies_girls = grouped_babies['F']\n",
    "babies_boys = grouped_babies['M']\n",
    "print(len(babies_girls), len(babies_boys))"
   ]
  },
  {
   "cell_type": "code",
   "execution_count": 25,
   "metadata": {},
   "outputs": [
    {
     "data": {
      "image/png": "[encoded data removed]",
      "text/plain": [
       "<Figure size 720x648 with 3 Axes>"
      ]
     },
     "metadata": {
      "needs_background": "light"
     },
     "output_type": "display_data"
    }
   ],
   "source": [
    "# Визуализация\n",
    "fig, ax = plt.subplots(3, 1, figsize=(10,9))\n",
    "fig.subplots_adjust(hspace = 0.75)\n",
    "\n",
    "ax[0].plot(babies_girls, color = 'orange')\n",
    "ax[0].set_title('Тренд рождаемости для девочек', fontsize=12, pad=5)\n",
    "\n",
    "ax[1].plot(babies_boys, color = 'lightskyblue')\n",
    "ax[1].set_title('Тренд рождаемости для мальчиков', fontsize=12, pad=5)\n",
    "\n",
    "ax[2].plot(babies_boys, color = 'lightskyblue', label = 'мальчики')\n",
    "ax[2].plot(babies_girls, color = 'orange', label = 'девочки')\n",
    "ax[2].set_title('Сравнение трендов рождаемости девочек и мальчиков', fontsize=12, pad=5)\n",
    "ax[2].legend();\n",
    "\n",
    "for p in range(3):\n",
    "    ax[p].set_xlabel('Год')\n",
    "    ax[p].set_ylabel('Количество\\nноворожденных')\n",
    "    ax[p].set_ylim(0, 22000)\n",
    "    for s in ['top', 'right']:\n",
    "        ax[p].spines[s].set_visible(False)"
   ]
  },
  {
   "cell_type": "markdown",
   "metadata": {},
   "source": [
    "__Задание 3 (1.5 балла)__\n",
    "\n",
    "1. Сгруппируйте нужным способом датафрейм babies и найдите 4 самых популярных имени за всю историю (2 женских и 2 мужских).\n",
    "2. Для каждого найденного имени создайте новый датафрейм вида babies_alisa и сохраните в него данные такого формата: сколько детей в каждый год называли таким именем.\n",
    "3. Создайте фигуру matplotlib с 4 горизонтальными графиками один под другим.\n",
    "4. Постройте 4 линейных графика - тренд для каждого имени за все время, каждая линия своего цвета.\n",
    "5. Верхняя и правая границы графиков должны быть невидимы, один общий заголовок, шкалы графиков должны быть подписаны.\n",
    "6. Для шкалы количество должны быть установлены лимиты, чтобы она была одинакова на всех графиках."
   ]
  },
  {
   "cell_type": "code",
   "execution_count": 26,
   "metadata": {},
   "outputs": [
    {
     "data": {
      "text/html": [
       "<div>\n",
       "<style scoped>\n",
       "    .dataframe tbody tr th:only-of-type {\n",
       "        vertical-align: middle;\n",
       "    }\n",
       "\n",
       "    .dataframe tbody tr th {\n",
       "        vertical-align: top;\n",
       "    }\n",
       "\n",
       "    .dataframe thead th {\n",
       "        text-align: right;\n",
       "    }\n",
       "</style>\n",
       "<table border=\"1\" class=\"dataframe\">\n",
       "  <thead>\n",
       "    <tr style=\"text-align: right;\">\n",
       "      <th></th>\n",
       "      <th>sex</th>\n",
       "      <th>name</th>\n",
       "      <th>number</th>\n",
       "    </tr>\n",
       "  </thead>\n",
       "  <tbody>\n",
       "    <tr>\n",
       "      <th>76805</th>\n",
       "      <td>M</td>\n",
       "      <td>James</td>\n",
       "      <td>5049727</td>\n",
       "    </tr>\n",
       "    <tr>\n",
       "      <th>78673</th>\n",
       "      <td>M</td>\n",
       "      <td>John</td>\n",
       "      <td>5040319</td>\n",
       "    </tr>\n",
       "    <tr>\n",
       "      <th>38095</th>\n",
       "      <td>F</td>\n",
       "      <td>Mary</td>\n",
       "      <td>4103935</td>\n",
       "    </tr>\n",
       "    <tr>\n",
       "      <th>44211</th>\n",
       "      <td>F</td>\n",
       "      <td>Patricia</td>\n",
       "      <td>1568742</td>\n",
       "    </tr>\n",
       "  </tbody>\n",
       "</table>\n",
       "</div>"
      ],
      "text/plain": [
       "      sex      name   number\n",
       "76805   M     James  5049727\n",
       "78673   M      John  5040319\n",
       "38095   F      Mary  4103935\n",
       "44211   F  Patricia  1568742"
      ]
     },
     "execution_count": 26,
     "metadata": {},
     "output_type": "execute_result"
    }
   ],
   "source": [
    "# ( ͡° ͜ʖ ͡°)づ ━━ ✫・*。\n",
    "pop_names_df = babies.groupby(['sex', 'name'], as_index=False)['number'].sum()\\\n",
    ".sort_values(by=['number', 'name'], ascending=[False, True])\\\n",
    ".groupby('sex',sort=False, as_index=False).head(2)\n",
    "#pop_names_df.columns = ['sex', 'name', 'count']\n",
    "pop_names_df"
   ]
  },
  {
   "cell_type": "code",
   "execution_count": 27,
   "metadata": {},
   "outputs": [],
   "source": [
    "# Оставляем только данные по этим именам\n",
    "#babies_filtered = babies.reset_index().join(pop_names_df.reset_index(), on=['sex'], rsuffix='pop_')\n",
    "#babies_filtered\n",
    "\n",
    "names_filtered = pd.merge(babies, pop_names_df, on=['sex', 'name'], \n",
    "                          how='inner', suffixes=['', '_pop']).drop(columns=['number_pop'])\n",
    "names_filtered['name'] = names_filtered['name'].astype('category')"
   ]
  },
  {
   "cell_type": "code",
   "execution_count": 28,
   "metadata": {
    "scrolled": true
   },
   "outputs": [
    {
     "data": {
      "image/png": "[encoded data removed]",
      "text/plain": [
       "<Figure size 720x648 with 4 Axes>"
      ]
     },
     "metadata": {
      "needs_background": "light"
     },
     "output_type": "display_data"
    }
   ],
   "source": [
    "fig, ax = plt.subplots(4, 1, figsize=(10,9))\n",
    "fig.subplots_adjust(hspace = 0.75)\n",
    "\n",
    "for index, name in enumerate(pop_names_df['name']):\n",
    "    name_data = names_filtered[names_filtered['name'] == name]\n",
    "    ax[index].plot(name_data['year'], name_data['number'], \n",
    "                  color = 'C'+str(index), label = name)\n",
    "#    ax[index].legend(frameon=False)\n",
    "\n",
    "    \n",
    "    ax[index].set_xlabel('Год')\n",
    "    ax[index].set_ylabel('Количество\\nноворожденных')\n",
    "    ax[index].set_ylim(0, 100000)\n",
    "    for s in ['top', 'right']:\n",
    "        ax[index].spines[s].set_visible(False)    \n",
    "    ax[index].set_title(name, fontsize=12, pad=5)\n",
    "        \n",
    "fig.suptitle('Тренды популярности имен', fontsize=14);"
   ]
  },
  {
   "cell_type": "markdown",
   "metadata": {},
   "source": [
    "__Задание 4. (1.5 балла)__\n",
    "\n",
    "1. В оригинальном датафрейме babies создайте новую колонку - первая буква имени.\n",
    "2. Выберете год из датасета. Сгруппируйте датасет, чтобы в нем в рядах были первые буквы, а в колонках - количество детей с такими именами. Сохраните три новых датафрейма для 1900, 1950 и 2000 года (например, babies_first_1900).\n",
    "3. Создайте фигуру matplotlib с 3 горизонтальными графиками один под другим.\n",
    "4. Верхняя и правая границы графиков должны быть невидимы, каждый график быть с заголовком, шкалы графиков должны быть подписаны.\n",
    "5. Постройте столбчатую диаграмму для каждого года в отдельном графике."
   ]
  },
  {
   "cell_type": "code",
   "execution_count": 29,
   "metadata": {},
   "outputs": [
    {
     "data": {
      "text/html": [
       "<div>\n",
       "<style scoped>\n",
       "    .dataframe tbody tr th:only-of-type {\n",
       "        vertical-align: middle;\n",
       "    }\n",
       "\n",
       "    .dataframe tbody tr th {\n",
       "        vertical-align: top;\n",
       "    }\n",
       "\n",
       "    .dataframe thead th {\n",
       "        text-align: right;\n",
       "    }\n",
       "</style>\n",
       "<table border=\"1\" class=\"dataframe\">\n",
       "  <thead>\n",
       "    <tr style=\"text-align: right;\">\n",
       "      <th></th>\n",
       "      <th>name</th>\n",
       "      <th>sex</th>\n",
       "      <th>number</th>\n",
       "      <th>year</th>\n",
       "      <th>letter</th>\n",
       "    </tr>\n",
       "  </thead>\n",
       "  <tbody>\n",
       "    <tr>\n",
       "      <th>0</th>\n",
       "      <td>Mary</td>\n",
       "      <td>F</td>\n",
       "      <td>7065</td>\n",
       "      <td>1880</td>\n",
       "      <td>M</td>\n",
       "    </tr>\n",
       "    <tr>\n",
       "      <th>1</th>\n",
       "      <td>Anna</td>\n",
       "      <td>F</td>\n",
       "      <td>2604</td>\n",
       "      <td>1880</td>\n",
       "      <td>A</td>\n",
       "    </tr>\n",
       "    <tr>\n",
       "      <th>2</th>\n",
       "      <td>Emma</td>\n",
       "      <td>F</td>\n",
       "      <td>2003</td>\n",
       "      <td>1880</td>\n",
       "      <td>E</td>\n",
       "    </tr>\n",
       "    <tr>\n",
       "      <th>3</th>\n",
       "      <td>Elizabeth</td>\n",
       "      <td>F</td>\n",
       "      <td>1939</td>\n",
       "      <td>1880</td>\n",
       "      <td>E</td>\n",
       "    </tr>\n",
       "    <tr>\n",
       "      <th>4</th>\n",
       "      <td>Minnie</td>\n",
       "      <td>F</td>\n",
       "      <td>1746</td>\n",
       "      <td>1880</td>\n",
       "      <td>M</td>\n",
       "    </tr>\n",
       "    <tr>\n",
       "      <th>...</th>\n",
       "      <td>...</td>\n",
       "      <td>...</td>\n",
       "      <td>...</td>\n",
       "      <td>...</td>\n",
       "      <td>...</td>\n",
       "    </tr>\n",
       "    <tr>\n",
       "      <th>33833</th>\n",
       "      <td>Zymaire</td>\n",
       "      <td>M</td>\n",
       "      <td>5</td>\n",
       "      <td>2010</td>\n",
       "      <td>Z</td>\n",
       "    </tr>\n",
       "    <tr>\n",
       "      <th>33834</th>\n",
       "      <td>Zyonne</td>\n",
       "      <td>M</td>\n",
       "      <td>5</td>\n",
       "      <td>2010</td>\n",
       "      <td>Z</td>\n",
       "    </tr>\n",
       "    <tr>\n",
       "      <th>33835</th>\n",
       "      <td>Zyquarius</td>\n",
       "      <td>M</td>\n",
       "      <td>5</td>\n",
       "      <td>2010</td>\n",
       "      <td>Z</td>\n",
       "    </tr>\n",
       "    <tr>\n",
       "      <th>33836</th>\n",
       "      <td>Zyran</td>\n",
       "      <td>M</td>\n",
       "      <td>5</td>\n",
       "      <td>2010</td>\n",
       "      <td>Z</td>\n",
       "    </tr>\n",
       "    <tr>\n",
       "      <th>33837</th>\n",
       "      <td>Zzyzx</td>\n",
       "      <td>M</td>\n",
       "      <td>5</td>\n",
       "      <td>2010</td>\n",
       "      <td>Z</td>\n",
       "    </tr>\n",
       "  </tbody>\n",
       "</table>\n",
       "<p>1690784 rows × 5 columns</p>\n",
       "</div>"
      ],
      "text/plain": [
       "            name sex  number  year letter\n",
       "0           Mary   F    7065  1880      M\n",
       "1           Anna   F    2604  1880      A\n",
       "2           Emma   F    2003  1880      E\n",
       "3      Elizabeth   F    1939  1880      E\n",
       "4         Minnie   F    1746  1880      M\n",
       "...          ...  ..     ...   ...    ...\n",
       "33833    Zymaire   M       5  2010      Z\n",
       "33834     Zyonne   M       5  2010      Z\n",
       "33835  Zyquarius   M       5  2010      Z\n",
       "33836      Zyran   M       5  2010      Z\n",
       "33837      Zzyzx   M       5  2010      Z\n",
       "\n",
       "[1690784 rows x 5 columns]"
      ]
     },
     "execution_count": 29,
     "metadata": {},
     "output_type": "execute_result"
    }
   ],
   "source": [
    "# ( ͡° ͜ʖ ͡°)づ ━━ ✫・*。\n",
    "babies['letter'] = babies['name'].str.slice(stop=1)\n",
    "babies"
   ]
  },
  {
   "cell_type": "code",
   "execution_count": 30,
   "metadata": {},
   "outputs": [
    {
     "data": {
      "text/html": [
       "<div>\n",
       "<style scoped>\n",
       "    .dataframe tbody tr th:only-of-type {\n",
       "        vertical-align: middle;\n",
       "    }\n",
       "\n",
       "    .dataframe tbody tr th {\n",
       "        vertical-align: top;\n",
       "    }\n",
       "\n",
       "    .dataframe thead th {\n",
       "        text-align: right;\n",
       "    }\n",
       "</style>\n",
       "<table border=\"1\" class=\"dataframe\">\n",
       "  <thead>\n",
       "    <tr style=\"text-align: right;\">\n",
       "      <th></th>\n",
       "      <th>letter</th>\n",
       "      <th>year</th>\n",
       "      <th>number</th>\n",
       "    </tr>\n",
       "  </thead>\n",
       "  <tbody>\n",
       "    <tr>\n",
       "      <th>2</th>\n",
       "      <td>A</td>\n",
       "      <td>2000</td>\n",
       "      <td>457852</td>\n",
       "    </tr>\n",
       "    <tr>\n",
       "      <th>5</th>\n",
       "      <td>B</td>\n",
       "      <td>2000</td>\n",
       "      <td>183405</td>\n",
       "    </tr>\n",
       "    <tr>\n",
       "      <th>8</th>\n",
       "      <td>C</td>\n",
       "      <td>2000</td>\n",
       "      <td>301016</td>\n",
       "    </tr>\n",
       "    <tr>\n",
       "      <th>11</th>\n",
       "      <td>D</td>\n",
       "      <td>2000</td>\n",
       "      <td>227893</td>\n",
       "    </tr>\n",
       "    <tr>\n",
       "      <th>14</th>\n",
       "      <td>E</td>\n",
       "      <td>2000</td>\n",
       "      <td>181334</td>\n",
       "    </tr>\n",
       "  </tbody>\n",
       "</table>\n",
       "</div>"
      ],
      "text/plain": [
       "   letter  year  number\n",
       "2       A  2000  457852\n",
       "5       B  2000  183405\n",
       "8       C  2000  301016\n",
       "11      D  2000  227893\n",
       "14      E  2000  181334"
      ]
     },
     "execution_count": 30,
     "metadata": {},
     "output_type": "execute_result"
    }
   ],
   "source": [
    "babies_first = babies[babies['year'].isin([1900, 1950, 2000])].groupby(['letter', 'year'], as_index=False)['number'].sum()\n",
    "babies_first_1900 = babies_first.query('year == 1900')\n",
    "babies_first_1950 = babies_first.query('year == 1950')\n",
    "babies_first_2000 = babies_first.query('year == 2000')\n",
    "babies_first_2000.head()"
   ]
  },
  {
   "cell_type": "code",
   "execution_count": 31,
   "metadata": {},
   "outputs": [
    {
     "data": {
      "image/png": "[encoded data removed]",
      "text/plain": [
       "<Figure size 720x648 with 3 Axes>"
      ]
     },
     "metadata": {
      "needs_background": "light"
     },
     "output_type": "display_data"
    }
   ],
   "source": [
    "fig, ax = plt.subplots(3, 1, figsize=(10,9))\n",
    "fig.subplots_adjust(hspace = 0.75)\n",
    "\n",
    "ax[0].bar(babies_first_1900['letter'], babies_first_1900['number'])\n",
    "ax[0].set_title('1900 год', fontsize=12, pad=5)\n",
    "\n",
    "ax[1].bar(babies_first_1950['letter'], babies_first_1950['number'])\n",
    "ax[1].set_title('1950 год', fontsize=12, pad=5)\n",
    "\n",
    "ax[2].bar(babies_first_2000['letter'], babies_first_2000['number'])\n",
    "ax[2].set_title('2000 год', fontsize=12, pad=5)\n",
    "#ax[0].set_title('Тренд рождаемости для девочек', fontsize=12, pad=5)\n",
    "\n",
    "\n",
    "for p in range(3):\n",
    "    ax[p].set_xlabel('Первая буква имени')\n",
    "    ax[p].set_ylabel('Количество\\nноворожденных')\n",
    "    #ax[p].set_ylim(0, 500000)\n",
    "    for s in ['top', 'right']:\n",
    "        ax[p].spines[s].set_visible(False)\n",
    "        \n",
    "plt.suptitle('Популярность первых букв в именах новорожденных', fontsize = 14);"
   ]
  },
  {
   "cell_type": "markdown",
   "metadata": {},
   "source": [
    "__Задание 5. (3 балла)__\n",
    "\n",
    "1. Разделите данные на 10 равных временных промежутков (например, 1880 - 1889, 1900 - 1919). Если 10 равных промежутков не получается, то не учитывайте последние несколько лет.\n",
    "2. Для каждого временного промежутка найдите самые популярные женские и мужские имена (по одному). Итого, у вас должно получиться 20 имен (имена могут повторяться). \n",
    "Выведите их значения: в формате \"С 1880 до 1889 самым популярным женским именем было Mary, мужским - John\" (10 строк одна под другой).\n",
    "3. Создайте фигуру matplotlib с 2 горизонтальными графиками один под другим.\n",
    "4. В одном графике постройте линейные тренды за все время для найденных женских имен, а во втором для мужских. Каждое имя своим цветом.\n",
    "5. Верхняя и правая границы графиков должны быть невидимы, каждый график быть с заголовком, шкалы графиков должны быть подписаны, у графиков должна быть легенда.\n",
    "6. Прочитайте ответ на [stackoverflow](https://stackoverflow.com/questions/24988448/how-to-draw-vertical-lines-on-a-given-plot-in-matplotlib), как добавлять на график статические линии. Добавьте на оба графика *тонкие серые* вертикальные линии, которые должны обозначать границы ваших временных промежутков (например, 1900, 1910 и т.д.)"
   ]
  },
  {
   "cell_type": "code",
   "execution_count": 32,
   "metadata": {},
   "outputs": [],
   "source": [
    "# ( ͡° ͜ʖ ͡°)づ ━━ ✫・*。\n",
    "\n",
    "babies_100 = babies.query('year < 1980').copy()\n",
    "babies_100['decade'] = pd.cut(babies_100['year'], \n",
    "                              bins=np.arange(1880, 1990, 10), right=False).astype('str') # Странно работало с категориями\n"
   ]
  },
  {
   "cell_type": "code",
   "execution_count": 33,
   "metadata": {
    "scrolled": true
   },
   "outputs": [
    {
     "data": {
      "text/html": [
       "<div>\n",
       "<style scoped>\n",
       "    .dataframe tbody tr th:only-of-type {\n",
       "        vertical-align: middle;\n",
       "    }\n",
       "\n",
       "    .dataframe tbody tr th {\n",
       "        vertical-align: top;\n",
       "    }\n",
       "\n",
       "    .dataframe thead th {\n",
       "        text-align: right;\n",
       "    }\n",
       "</style>\n",
       "<table border=\"1\" class=\"dataframe\">\n",
       "  <thead>\n",
       "    <tr style=\"text-align: right;\">\n",
       "      <th>sex</th>\n",
       "      <th>decade</th>\n",
       "      <th>F</th>\n",
       "      <th>M</th>\n",
       "      <th>start</th>\n",
       "      <th>end</th>\n",
       "    </tr>\n",
       "  </thead>\n",
       "  <tbody>\n",
       "    <tr>\n",
       "      <th>0</th>\n",
       "      <td>[1880, 1890)</td>\n",
       "      <td>Mary</td>\n",
       "      <td>John</td>\n",
       "      <td>1880</td>\n",
       "      <td>1890</td>\n",
       "    </tr>\n",
       "    <tr>\n",
       "      <th>1</th>\n",
       "      <td>[1890, 1900)</td>\n",
       "      <td>Mary</td>\n",
       "      <td>John</td>\n",
       "      <td>1890</td>\n",
       "      <td>1900</td>\n",
       "    </tr>\n",
       "    <tr>\n",
       "      <th>2</th>\n",
       "      <td>[1900, 1910)</td>\n",
       "      <td>Mary</td>\n",
       "      <td>John</td>\n",
       "      <td>1900</td>\n",
       "      <td>1910</td>\n",
       "    </tr>\n",
       "    <tr>\n",
       "      <th>3</th>\n",
       "      <td>[1910, 1920)</td>\n",
       "      <td>Mary</td>\n",
       "      <td>John</td>\n",
       "      <td>1910</td>\n",
       "      <td>1920</td>\n",
       "    </tr>\n",
       "    <tr>\n",
       "      <th>4</th>\n",
       "      <td>[1920, 1930)</td>\n",
       "      <td>Mary</td>\n",
       "      <td>Robert</td>\n",
       "      <td>1920</td>\n",
       "      <td>1930</td>\n",
       "    </tr>\n",
       "    <tr>\n",
       "      <th>5</th>\n",
       "      <td>[1930, 1940)</td>\n",
       "      <td>Mary</td>\n",
       "      <td>Robert</td>\n",
       "      <td>1930</td>\n",
       "      <td>1940</td>\n",
       "    </tr>\n",
       "    <tr>\n",
       "      <th>6</th>\n",
       "      <td>[1940, 1950)</td>\n",
       "      <td>Mary</td>\n",
       "      <td>James</td>\n",
       "      <td>1940</td>\n",
       "      <td>1950</td>\n",
       "    </tr>\n",
       "    <tr>\n",
       "      <th>7</th>\n",
       "      <td>[1950, 1960)</td>\n",
       "      <td>Mary</td>\n",
       "      <td>James</td>\n",
       "      <td>1950</td>\n",
       "      <td>1960</td>\n",
       "    </tr>\n",
       "    <tr>\n",
       "      <th>8</th>\n",
       "      <td>[1960, 1970)</td>\n",
       "      <td>Lisa</td>\n",
       "      <td>Michael</td>\n",
       "      <td>1960</td>\n",
       "      <td>1970</td>\n",
       "    </tr>\n",
       "    <tr>\n",
       "      <th>9</th>\n",
       "      <td>[1970, 1980)</td>\n",
       "      <td>Jennifer</td>\n",
       "      <td>Michael</td>\n",
       "      <td>1970</td>\n",
       "      <td>1980</td>\n",
       "    </tr>\n",
       "  </tbody>\n",
       "</table>\n",
       "</div>"
      ],
      "text/plain": [
       "sex        decade         F        M  start   end\n",
       "0    [1880, 1890)      Mary     John   1880  1890\n",
       "1    [1890, 1900)      Mary     John   1890  1900\n",
       "2    [1900, 1910)      Mary     John   1900  1910\n",
       "3    [1910, 1920)      Mary     John   1910  1920\n",
       "4    [1920, 1930)      Mary   Robert   1920  1930\n",
       "5    [1930, 1940)      Mary   Robert   1930  1940\n",
       "6    [1940, 1950)      Mary    James   1940  1950\n",
       "7    [1950, 1960)      Mary    James   1950  1960\n",
       "8    [1960, 1970)      Lisa  Michael   1960  1970\n",
       "9    [1970, 1980)  Jennifer  Michael   1970  1980"
      ]
     },
     "execution_count": 33,
     "metadata": {},
     "output_type": "execute_result"
    }
   ],
   "source": [
    "babies_by_decade = babies_100.groupby(['decade', 'sex', 'name'], as_index=False)['number'].sum()\n",
    "\n",
    "\n",
    "top_names = babies_by_decade.groupby(['sex', 'decade'], \n",
    "                         as_index=False).apply(lambda x:\n",
    "                                               x.sort_values(by='number', ascending=False).head(1))\\\n",
    ".pivot(index='decade', columns='sex', values='name').reset_index()\n",
    "\n",
    "top_names['start'] = top_names['decade'].str.slice(1, 5).apply(lambda x: int(x))\n",
    "top_names['end'] = top_names['decade'].str.slice(7, 11).apply(lambda x: int(x))\n",
    "top_names"
   ]
  },
  {
   "cell_type": "code",
   "execution_count": 34,
   "metadata": {},
   "outputs": [
    {
     "name": "stdout",
     "output_type": "stream",
     "text": [
      "C 1880 до 1890 самым популярным женским именем было \"Mary\", мужским - \"John\"\n",
      "C 1890 до 1900 самым популярным женским именем было \"Mary\", мужским - \"John\"\n",
      "C 1900 до 1910 самым популярным женским именем было \"Mary\", мужским - \"John\"\n",
      "C 1910 до 1920 самым популярным женским именем было \"Mary\", мужским - \"John\"\n",
      "C 1920 до 1930 самым популярным женским именем было \"Mary\", мужским - \"Robert\"\n",
      "C 1930 до 1940 самым популярным женским именем было \"Mary\", мужским - \"Robert\"\n",
      "C 1940 до 1950 самым популярным женским именем было \"Mary\", мужским - \"James\"\n",
      "C 1950 до 1960 самым популярным женским именем было \"Mary\", мужским - \"James\"\n",
      "C 1960 до 1970 самым популярным женским именем было \"Lisa\", мужским - \"Michael\"\n",
      "C 1970 до 1980 самым популярным женским именем было \"Jennifer\", мужским - \"Michael\"\n"
     ]
    }
   ],
   "source": [
    "\n",
    "\n",
    "for index, row in top_names.iterrows():\n",
    "    print('C %s до %s самым популярным женским именем было \"%s\", мужским - \"%s\"' \n",
    "          %(row['start'], row['end'], row['F'], row['M']))"
   ]
  },
  {
   "cell_type": "code",
   "execution_count": 35,
   "metadata": {},
   "outputs": [
    {
     "data": {
      "text/html": [
       "<div>\n",
       "<style scoped>\n",
       "    .dataframe tbody tr th:only-of-type {\n",
       "        vertical-align: middle;\n",
       "    }\n",
       "\n",
       "    .dataframe tbody tr th {\n",
       "        vertical-align: top;\n",
       "    }\n",
       "\n",
       "    .dataframe thead th {\n",
       "        text-align: right;\n",
       "    }\n",
       "</style>\n",
       "<table border=\"1\" class=\"dataframe\">\n",
       "  <thead>\n",
       "    <tr style=\"text-align: right;\">\n",
       "      <th></th>\n",
       "      <th>year</th>\n",
       "      <th>name</th>\n",
       "      <th>number</th>\n",
       "    </tr>\n",
       "  </thead>\n",
       "  <tbody>\n",
       "    <tr>\n",
       "      <th>0</th>\n",
       "      <td>1880</td>\n",
       "      <td>Mary</td>\n",
       "      <td>7065</td>\n",
       "    </tr>\n",
       "    <tr>\n",
       "      <th>1</th>\n",
       "      <td>1881</td>\n",
       "      <td>Mary</td>\n",
       "      <td>6919</td>\n",
       "    </tr>\n",
       "    <tr>\n",
       "      <th>2</th>\n",
       "      <td>1882</td>\n",
       "      <td>Mary</td>\n",
       "      <td>8149</td>\n",
       "    </tr>\n",
       "    <tr>\n",
       "      <th>3</th>\n",
       "      <td>1883</td>\n",
       "      <td>Mary</td>\n",
       "      <td>8012</td>\n",
       "    </tr>\n",
       "    <tr>\n",
       "      <th>4</th>\n",
       "      <td>1884</td>\n",
       "      <td>Mary</td>\n",
       "      <td>9217</td>\n",
       "    </tr>\n",
       "    <tr>\n",
       "      <th>...</th>\n",
       "      <td>...</td>\n",
       "      <td>...</td>\n",
       "      <td>...</td>\n",
       "    </tr>\n",
       "    <tr>\n",
       "      <th>326</th>\n",
       "      <td>2009</td>\n",
       "      <td>Lisa</td>\n",
       "      <td>419</td>\n",
       "    </tr>\n",
       "    <tr>\n",
       "      <th>327</th>\n",
       "      <td>2009</td>\n",
       "      <td>Mary</td>\n",
       "      <td>3132</td>\n",
       "    </tr>\n",
       "    <tr>\n",
       "      <th>328</th>\n",
       "      <td>2010</td>\n",
       "      <td>Jennifer</td>\n",
       "      <td>2601</td>\n",
       "    </tr>\n",
       "    <tr>\n",
       "      <th>329</th>\n",
       "      <td>2010</td>\n",
       "      <td>Lisa</td>\n",
       "      <td>388</td>\n",
       "    </tr>\n",
       "    <tr>\n",
       "      <th>330</th>\n",
       "      <td>2010</td>\n",
       "      <td>Mary</td>\n",
       "      <td>2826</td>\n",
       "    </tr>\n",
       "  </tbody>\n",
       "</table>\n",
       "<p>331 rows × 3 columns</p>\n",
       "</div>"
      ],
      "text/plain": [
       "     year      name  number\n",
       "0    1880      Mary    7065\n",
       "1    1881      Mary    6919\n",
       "2    1882      Mary    8149\n",
       "3    1883      Mary    8012\n",
       "4    1884      Mary    9217\n",
       "..    ...       ...     ...\n",
       "326  2009      Lisa     419\n",
       "327  2009      Mary    3132\n",
       "328  2010  Jennifer    2601\n",
       "329  2010      Lisa     388\n",
       "330  2010      Mary    2826\n",
       "\n",
       "[331 rows x 3 columns]"
      ]
     },
     "execution_count": 35,
     "metadata": {},
     "output_type": "execute_result"
    }
   ],
   "source": [
    "girls_data = babies[(babies['sex'] == 'F') & (babies['name'].isin(top_names['F'].unique()))]\\\n",
    ".groupby(['year', 'name'], as_index=False)['number'].sum()\n",
    "girls_data['name'] = girls_data['name'].astype('category')\n",
    "girls_data"
   ]
  },
  {
   "cell_type": "code",
   "execution_count": 36,
   "metadata": {},
   "outputs": [
    {
     "data": {
      "text/html": [
       "<div>\n",
       "<style scoped>\n",
       "    .dataframe tbody tr th:only-of-type {\n",
       "        vertical-align: middle;\n",
       "    }\n",
       "\n",
       "    .dataframe tbody tr th {\n",
       "        vertical-align: top;\n",
       "    }\n",
       "\n",
       "    .dataframe thead th {\n",
       "        text-align: right;\n",
       "    }\n",
       "</style>\n",
       "<table border=\"1\" class=\"dataframe\">\n",
       "  <thead>\n",
       "    <tr style=\"text-align: right;\">\n",
       "      <th></th>\n",
       "      <th>year</th>\n",
       "      <th>name</th>\n",
       "      <th>number</th>\n",
       "    </tr>\n",
       "  </thead>\n",
       "  <tbody>\n",
       "    <tr>\n",
       "      <th>0</th>\n",
       "      <td>1880</td>\n",
       "      <td>James</td>\n",
       "      <td>5927</td>\n",
       "    </tr>\n",
       "    <tr>\n",
       "      <th>1</th>\n",
       "      <td>1880</td>\n",
       "      <td>John</td>\n",
       "      <td>9655</td>\n",
       "    </tr>\n",
       "    <tr>\n",
       "      <th>2</th>\n",
       "      <td>1880</td>\n",
       "      <td>Michael</td>\n",
       "      <td>354</td>\n",
       "    </tr>\n",
       "    <tr>\n",
       "      <th>3</th>\n",
       "      <td>1880</td>\n",
       "      <td>Robert</td>\n",
       "      <td>2416</td>\n",
       "    </tr>\n",
       "    <tr>\n",
       "      <th>4</th>\n",
       "      <td>1881</td>\n",
       "      <td>James</td>\n",
       "      <td>5442</td>\n",
       "    </tr>\n",
       "    <tr>\n",
       "      <th>...</th>\n",
       "      <td>...</td>\n",
       "      <td>...</td>\n",
       "      <td>...</td>\n",
       "    </tr>\n",
       "    <tr>\n",
       "      <th>519</th>\n",
       "      <td>2009</td>\n",
       "      <td>Robert</td>\n",
       "      <td>7777</td>\n",
       "    </tr>\n",
       "    <tr>\n",
       "      <th>520</th>\n",
       "      <td>2010</td>\n",
       "      <td>James</td>\n",
       "      <td>13714</td>\n",
       "    </tr>\n",
       "    <tr>\n",
       "      <th>521</th>\n",
       "      <td>2010</td>\n",
       "      <td>John</td>\n",
       "      <td>11424</td>\n",
       "    </tr>\n",
       "    <tr>\n",
       "      <th>522</th>\n",
       "      <td>2010</td>\n",
       "      <td>Michael</td>\n",
       "      <td>17133</td>\n",
       "    </tr>\n",
       "    <tr>\n",
       "      <th>523</th>\n",
       "      <td>2010</td>\n",
       "      <td>Robert</td>\n",
       "      <td>7471</td>\n",
       "    </tr>\n",
       "  </tbody>\n",
       "</table>\n",
       "<p>524 rows × 3 columns</p>\n",
       "</div>"
      ],
      "text/plain": [
       "     year     name  number\n",
       "0    1880    James    5927\n",
       "1    1880     John    9655\n",
       "2    1880  Michael     354\n",
       "3    1880   Robert    2416\n",
       "4    1881    James    5442\n",
       "..    ...      ...     ...\n",
       "519  2009   Robert    7777\n",
       "520  2010    James   13714\n",
       "521  2010     John   11424\n",
       "522  2010  Michael   17133\n",
       "523  2010   Robert    7471\n",
       "\n",
       "[524 rows x 3 columns]"
      ]
     },
     "execution_count": 36,
     "metadata": {},
     "output_type": "execute_result"
    }
   ],
   "source": [
    "boys_data = babies[(babies['sex'] == 'M') & (babies['name'].isin(top_names['M'].unique()))]\\\n",
    ".groupby(['year', 'name'], as_index=False)['number'].sum()\n",
    "boys_data['name'] = boys_data['name'].astype('category')\n",
    "boys_data"
   ]
  },
  {
   "cell_type": "code",
   "execution_count": 39,
   "metadata": {},
   "outputs": [
    {
     "data": {
      "image/png": "[encoded data removed]",
      "text/plain": [
       "<Figure size 720x648 with 2 Axes>"
      ]
     },
     "metadata": {
      "needs_background": "light"
     },
     "output_type": "display_data"
    }
   ],
   "source": [
    "fig, ax = plt.subplots(2, 1, figsize=(10,9))\n",
    "fig.subplots_adjust(hspace = 0.5)\n",
    "\n",
    "for index, name in enumerate(top_names['F'].unique()):\n",
    "    data = girls_data[girls_data['name'] == name]\n",
    "    ax[0].plot(data['year'], data['number'], label=name, color='C'+str(9-index))\n",
    "ax[0].legend(frameon=False)\n",
    "ax[0].set_title('Девочки')\n",
    "\n",
    "\n",
    "\n",
    "for index, name in enumerate(top_names['M'].unique()):\n",
    "    data = boys_data[boys_data['name'] == name]\n",
    "    ax[1].plot(data['year'], data['number'], label=name, color='C'+str(index))\n",
    "ax[1].legend(frameon=False)\n",
    "ax[1].set_title('Мальчики')\n",
    "\n",
    "\n",
    "\n",
    "for p in range(2):\n",
    "    ax[p].set_xlabel('Год')\n",
    "    ax[p].set_ylabel('Количество\\nноворожденных')    \n",
    "    for s in ['top', 'right']:\n",
    "        ax[p].spines[s].set_visible(False)\n",
    "    for year in top_names['end'].unique():\n",
    "        ax[p].axvline(year, color='darkgray', linestyle=':', linewidth=0.2)\n",
    "\n",
    "\n",
    "plt.suptitle('Популярность самых распространенных имен новорожденных в США', fontsize = 14);"
   ]
  }
 ],
 "metadata": {
  "colab": {
   "name": "HW 2.ipynb",
   "provenance": [],
   "version": "0.3.2"
  },
  "kernelspec": {
   "display_name": "Python 3",
   "language": "python",
   "name": "python3"
  },
  "language_info": {
   "codemirror_mode": {
    "name": "ipython",
    "version": 3
   },
   "file_extension": ".py",
   "mimetype": "text/x-python",
   "name": "python",
   "nbconvert_exporter": "python",
   "pygments_lexer": "ipython3",
   "version": "3.7.3"
  }
 },
 "nbformat": 4,
 "nbformat_minor": 2
}

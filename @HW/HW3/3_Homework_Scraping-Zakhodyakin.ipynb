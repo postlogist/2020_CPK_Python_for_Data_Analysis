{
 "cells": [
  {
   "cell_type": "markdown",
   "metadata": {},
   "source": [
    "Программа повышения квалификации (научно-педагогических) работников НИУ ВШЭ\n",
    "\n",
    "# Python для исследователей\n",
    "\n",
    "\n",
    "Домашняя работа # 3, часть 1  \n",
    "Автор: Михаил Густокашин\n",
    "\n",
    "#### Disclaimer\n",
    "Задание разбито на две части, не забудьте про второй блокнот!\n",
    "\n",
    "Всего в этой части можно набрать 5.5 баллов, максимальная оценка за обе части - 10 баллов."
   ]
  },
  {
   "cell_type": "markdown",
   "metadata": {},
   "source": [
    "*Выполнил: Заходякин Глеб Викторович, школа логистики*"
   ]
  },
  {
   "cell_type": "markdown",
   "metadata": {},
   "source": [
    "### Задание 1. Скрейпинг cтраницы (0.5 балла)\n",
    "\n",
    "Мы сохранили страницу с википедии про языки программирования и сохранили по адресу https://stepik.org/media/attachments/lesson/209717/1.html\n",
    "Скачайте её с помощью скрипта на Питоне и посчитайте, какой язык упоминается чаще Python или C++ (ответ должен быть одной из этих двух строк). Необходимо просто подсчитать количество вхождений слова Python или C++ как подстроки. Тут не нужно пользоваться парсингом и bs, работайте со строками."
   ]
  },
  {
   "cell_type": "code",
   "execution_count": 15,
   "metadata": {},
   "outputs": [
    {
     "name": "stdout",
     "output_type": "stream",
     "text": [
      "C++\n"
     ]
    }
   ],
   "source": [
    "# ваше решение здесь\n",
    "import requests\n",
    "import re\n",
    "url1 = 'https://stepik.org/media/attachments/lesson/209717/1.html'\n",
    "text1 = requests.get(url1).text\n",
    "python_strings = re.findall('python', text1.lower())\n",
    "cpp_strings = re.findall(r'c\\+\\+', text1.lower())\n",
    "\n",
    "print(\"%s\" % (\"Python\" if len(python_strings) > len(cpp_strings) else \"C++\") )"
   ]
  },
  {
   "cell_type": "markdown",
   "metadata": {},
   "source": [
    "### Задание 2. Автоматизируем написание html скрипта (2 балла)\n",
    "В этой задаче вам необходимо научиться генерировать html-код на питоне и сдать на проверку html-файл, в котором будет таблица размером 10 на 10, которая должна содержать таблицу умножения для чисел от 1 до 10. При открытии вашего файла в браузере это должно выглядеть примерно так:\n",
    "\n",
    "![](table.jpg)\n",
    "\n",
    "```\n",
    "1. Ваш файл должен начинаться с тегов <html> и <body> и заканчиваться </body> и </html>.\n",
    "2. Для создания таблицы можно пользоваться тегами <table> (создание таблицы), \n",
    "<tr> (создание строки в таблице) и <td> (создание отдельной ячейки). \n",
    "Все открытые теги нужно закрыть, причем сделать это нужно в правильном порядке.\n",
    "3. Пожалуйста, не используйте никаких украшений и других тегов.\n",
    "```\n",
    "Ниже напишите код, который генерирует html и записывает его в файл, и приложите к архиву с вашим блокнотом файл **output2.html**\n"
   ]
  },
  {
   "cell_type": "code",
   "execution_count": 23,
   "metadata": {},
   "outputs": [],
   "source": [
    "# ваше решение здесь\n",
    "\n",
    "with open('output2.html', 'w') as fh:\n",
    "    fh.writelines('<html>\\n<body>\\n<table>')\n",
    "    for r in range(10):\n",
    "        fh.writelines('\\n<tr>\\n')\n",
    "        for c in range(10):\n",
    "            if r == 0:\n",
    "                val = c + 1 #строка заголовка\n",
    "            else:\n",
    "                if c == 0: # первый столбец\n",
    "                    val = r + 1\n",
    "                else:\n",
    "                    val = (r + 1) * (c + 1)\n",
    "            fh.write('<td>%s</td>\\n' % val)\n",
    "        fh.writelines('</tr>\\n')\n",
    "    fh.writelines('</table>\\n</body>\\n</html>')"
   ]
  },
  {
   "cell_type": "markdown",
   "metadata": {},
   "source": [
    "### Задание 3. Скрэйпинг ссылок (2 балла)\n",
    "\n",
    "*1 балл*  \n",
    "Мы сохранили статью с википедии, она доступна по ссылке https://stepik.org/media/attachments/lesson/258943/Moscow.html\n",
    "\n",
    "Вам необходимо обработать ее с помощью BeautifulSoup и подсчитать все внутренние ссылки, которые не содержат в себе двоеточия (не являются ссылкой на техническую статью в википедии) и не начинаются с символа #.\n",
    "\n",
    "Под ссылкой понимается содержимое аттрибута href тега a. Ссылка называется внешней, если она ведет на другой сайт (т.е. начинается с http:// или https://). Все остальные ссылки являются внутренними.\n",
    "Вам могут быть полезны методы find_all для супа (он позволяет найти все теги на странице), метод has_attr для тега (проверяет есть ли такой атрибут у тега) и доступ к атрибуту тега по аналогии со словарем.\n",
    "В качестве ответа выведите количество внутренних ссылок, удовлетворяющих условию.\n",
    "\n",
    "*1 балл*  \n",
    "В этой задаче достаточно обернуть в функцию то, что делает предыдущая и вызвать подсчет числа внутренних ссылок для двух статей: https://stepik.org/media/attachments/lesson/258943/Moscow.html и https://stepik.org/media/attachments/lesson/258944/New-York.html\n",
    "В качестве ответа на задачу выведите два числа через пробел.\n"
   ]
  },
  {
   "cell_type": "markdown",
   "metadata": {},
   "source": [
    "**Примечание к решению:**\n",
    "Если искать внутренние ссылки по правилам, описанным в задании, то находятся ссылки на внешние сайты, записанные некорректно, без указания протокола. Например, такие:  \n",
    "//creativecommons.org/licenses/by-sa/3.0/  \n",
    "//foundation.wikimedia.org/wiki/Terms_of_Use  \n",
    "//foundation.wikimedia.org/wiki/Privacy_policy  \n",
    "Я их отфильтровал. \n",
    "Также по правилам, описанным в задании теряются ссылки на файлы, которые являются на самом деле внутренними. В моем ответе их тоже нет"
   ]
  },
  {
   "cell_type": "code",
   "execution_count": 100,
   "metadata": {},
   "outputs": [],
   "source": [
    "# Часть 1\n",
    "# Ваше решение здесь\n",
    "from bs4 import BeautifulSoup\n",
    "\n",
    "link = 'https://stepik.org/media/attachments/lesson/258943/Moscow.html'\n",
    "\n",
    "def count_internal_links(link):\n",
    "    page = requests.get(link).text\n",
    "    soup = BeautifulSoup(page, 'lxml')\n",
    "    \n",
    "    links = []\n",
    "    for link in soup.find_all('a'):\n",
    "        if link.has_attr('href'): # есть атрибут href\n",
    "            url = link.get('href')\n",
    "            if not url.startswith('#') and not url.startswith('http') \\\n",
    "            and not url.startswith(r'//') \\\n",
    "            and url.find(':') < 0: # если ссылка не содержит\n",
    "                links.append(url)\n",
    "    return len(links)"
   ]
  },
  {
   "cell_type": "code",
   "execution_count": 101,
   "metadata": {},
   "outputs": [
    {
     "data": {
      "text/plain": [
       "1972"
      ]
     },
     "execution_count": 101,
     "metadata": {},
     "output_type": "execute_result"
    }
   ],
   "source": [
    "count_internal_links(link)"
   ]
  },
  {
   "cell_type": "code",
   "execution_count": 102,
   "metadata": {},
   "outputs": [
    {
     "name": "stdout",
     "output_type": "stream",
     "text": [
      "1972 3196\n"
     ]
    }
   ],
   "source": [
    "# Часть 2:\n",
    "link3a = 'https://stepik.org/media/attachments/lesson/258943/Moscow.html'\n",
    "link3b = 'https://stepik.org/media/attachments/lesson/258944/New-York.html'\n",
    "\n",
    "print(count_internal_links(link3a), count_internal_links(link3b))"
   ]
  },
  {
   "cell_type": "markdown",
   "metadata": {},
   "source": [
    "См. выше примечание к решению относительно того, что считать внутренней ссылкой."
   ]
  },
  {
   "cell_type": "markdown",
   "metadata": {},
   "source": [
    "### Задание 4. Скрейпинг таблицы (1 балл)\n",
    "\n",
    "В файле https://stepik.org/media/attachments/lesson/209723/3.html находится одна таблица. Просуммируйте все числа в ней и введите в качестве ответа одно число - эту сумму. Для доступа к ячейкам используйте возможности BeautifulSoup.\n"
   ]
  },
  {
   "cell_type": "code",
   "execution_count": 106,
   "metadata": {},
   "outputs": [
    {
     "name": "stdout",
     "output_type": "stream",
     "text": [
      "1005425\n"
     ]
    }
   ],
   "source": [
    "# решение здесь\n",
    "link = 'https://stepik.org/media/attachments/lesson/209723/3.html'\n",
    "\n",
    "page = requests.get(link).text\n",
    "soup = BeautifulSoup(page, 'lxml')\n",
    "\n",
    "total = 0\n",
    "for cell in soup.find_all('td'):\n",
    "    total += int(cell.get_text())\n",
    "    \n",
    "print(total)"
   ]
  }
 ],
 "metadata": {
  "kernelspec": {
   "display_name": "Python 3",
   "language": "python",
   "name": "python3"
  },
  "language_info": {
   "codemirror_mode": {
    "name": "ipython",
    "version": 3
   },
   "file_extension": ".py",
   "mimetype": "text/x-python",
   "name": "python",
   "nbconvert_exporter": "python",
   "pygments_lexer": "ipython3",
   "version": "3.7.3"
  }
 },
 "nbformat": 4,
 "nbformat_minor": 2
}

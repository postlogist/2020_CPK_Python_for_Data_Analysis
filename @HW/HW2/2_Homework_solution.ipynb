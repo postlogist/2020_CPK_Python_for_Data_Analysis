{
 "cells": [
  {
   "cell_type": "markdown",
   "metadata": {},
   "source": [
    "Программа повышения квалификации (научно-педагогических) работников НИУ ВШЭ\n",
    "\n",
    "# Python для исследователей\n",
    "\n",
    "Домашняя работа # 2\n",
    "\n",
    "*Автор: Рогович Татьяна, НИУ ВШЭ*\n",
    "\n",
    "#### Disclaimer\n",
    "В некоторых заданиях нужно считывать файлы и записывать ответ в файл. Пожалуйста, читайте файлы из той же папки, где лежит к ним блокнот (не прописывайте к ним полный путь). Файл с ответом нужно вложить в архив с блокнотом и архив добавить в Dropbox.\n",
    "\n",
    "Всего можно набрать 11 баллов, максимальная оценка за работу - 10."
   ]
  },
  {
   "cell_type": "markdown",
   "metadata": {},
   "source": [
    "# Задание 1: Turtle (2 балла)\n",
    "\n",
    "У кого-то может не установиться нужный модуль, а ошибки бывают слишком экзотические, поэтому не мучайтесь с установкой, если вдруг сразу и легко не получилось, а сделайте это задание на [jupyter.org/try](jupyter.org/try) (нужно выбрать classic notebook - это онлайн демо-версия нашего привычного ноутбука). Там тоже нужно установить модуль (но он грузится не к вам на компьютер, поэтому проблем не будет), а дальше все как в задании. После того как код заработает, скопируйте его в этот блокнот.\n",
    "\n",
    "Для выполнения этого задания нужно установить и импортировать модуль turtle - это черепашка с привязанной к спине кисточкой, движения которой мы программируем. Исполните следующую ячейку, чтобы установить нужный модуль.\n",
    "\n",
    "[Документация](https://github.com/takluyver/mobilechelonian)"
   ]
  },
  {
   "cell_type": "code",
   "execution_count": null,
   "metadata": {},
   "outputs": [],
   "source": [
    "!pip install mobilechelonian"
   ]
  },
  {
   "cell_type": "markdown",
   "metadata": {},
   "source": [
    "Ниже показан пример, как нарисовать квадрат."
   ]
  },
  {
   "cell_type": "code",
   "execution_count": null,
   "metadata": {},
   "outputs": [],
   "source": [
    "from mobilechelonian import Turtle # импортируем модуль для рисования\n",
    "\n",
    "t = Turtle() # создаем класс нашей черепашки\n",
    "\n",
    "t.speed(1) # задаем скорость\n",
    "t.pendown() # ставим \"кисть\" на холст\n",
    "t.forward(100) # идем вперед на 100 шагов\n",
    "t.right(90) # поворачиваем на 90 градусов вправо\n",
    "t.forward(100)\n",
    "t.right(90)\n",
    "t.forward(100)\n",
    "t.right(90)\n",
    "t.forward(100)\n",
    "t.penup() # поднимаем кисть"
   ]
  },
  {
   "cell_type": "markdown",
   "metadata": {},
   "source": [
    "Теперь то же самое с циклом. Также мы убрали команды penup и pendown, потому что по умолчанию кисть стоит на холсте, и в этой программе эта операция излишня."
   ]
  },
  {
   "cell_type": "code",
   "execution_count": null,
   "metadata": {},
   "outputs": [],
   "source": [
    "from mobilechelonian import Turtle # импортируем модуль для рисования\n",
    "\n",
    "t = Turtle() # создаем класс нашей черепашки\n",
    "\n",
    "t.speed(5) # задаем скорость\n",
    "t.forward(100)\n",
    "\n",
    "for i in range(3):\n",
    "    t.right(90)\n",
    "    t.forward(100)"
   ]
  },
  {
   "cell_type": "markdown",
   "metadata": {},
   "source": [
    "Рисуем круг."
   ]
  },
  {
   "cell_type": "code",
   "execution_count": null,
   "metadata": {},
   "outputs": [],
   "source": [
    "t = Turtle() # создаем класс нашей черепашки\n",
    "\n",
    "t.speed(5) # задаем скорость\n",
    "\n",
    "t.penup() # поднимаем кисть с холста, проходим вперед ничего не рисуя, чтобы наш круг точно вместился\n",
    "t.left(90) # поворачиваем\n",
    "t.forward(200) # идем вперед\n",
    "t.right(90) # опять поворачиваем\n",
    "t.pendown() # ставим кисть обратно на холст, иначе не будет рисовать\n",
    "colours = [\"yellow\", \"gold\", \"orange\", \"red\", \"maroon\", \"violet\", \"magenta\", \"gray\", \"white\"]\n",
    "\n",
    "for i in range (0,180):\n",
    "    t.pencolor(colours[i%7]) # есть список цветов, выбираем цвет в зависимости от i\n",
    "    t.right(2) # поворачиваемся на два градус\n",
    "    t.forward(5) # проходим 5 единиц"
   ]
  },
  {
   "cell_type": "markdown",
   "metadata": {},
   "source": [
    "#### Лепесток (1 балл)\n",
    "Вам задана функция left_turn(), которая рисует дугу. \n",
    "Создайте функцию petal, которая будет, используя функцию left_turn(), рисовать лепесток целиком и возвращать черепашку в центр цветка.\n",
    "\n",
    "Запустив функцию petal в цикле нарисуйте цветок с пятью лепестками (см. картинку).\n",
    "![](https://github.com/rogovich/2020_DPO_PythonProg/blob/master/@Problems/petal.png?raw=true)"
   ]
  },
  {
   "cell_type": "code",
   "execution_count": null,
   "metadata": {},
   "outputs": [],
   "source": [
    "# дополните код в этой ячейке\n",
    "t = Turtle()\n",
    "t.speed(5)\n",
    "t.pencolor('magenta')\n",
    "\n",
    "def left_turn():\n",
    "    for i in range(10):\n",
    "        t.forward(15)\n",
    "        t.left(9)\n",
    "        \n",
    "for i in range(5):\n",
    "    left_turn()\n",
    "    t.left(90)\n",
    "    left_turn()\n",
    "    t.left(90/5)"
   ]
  },
  {
   "cell_type": "markdown",
   "metadata": {},
   "source": [
    "#### Звезда (1 балл)\n",
    "Напишите функцию, которая берет аргументом число - количество вершин звезды. Ваша функция должна рисовать звезду с заданным количеством вершин. Не со всеми числами функция будет работать корректно, поэтому проверьте ее работу для 5, 9 и 15 вершин (в трех разных ячейках). Длина луча 100 единиц.\n",
    "\n",
    "*Подсказка:* Угол поворота черепашки зависит от количества вершин - она поворачивается на 180 градусов минус 180 градусов разделенные на количество вершин."
   ]
  },
  {
   "cell_type": "code",
   "execution_count": null,
   "metadata": {},
   "outputs": [],
   "source": [
    "# ваше решение здесь\n",
    "\n",
    "t = Turtle()\n",
    "t.speed(5)\n",
    "\n",
    "# пример, как нарисовать треугольник (это на самом деле релевантно!)\n",
    "for i in range(3):\n",
    "    t.right(180 - 180/3) \n",
    "    t.forward(100)\n",
    "    \n",
    "def points(n):\n",
    "    t = Turtle()\n",
    "    t.speed(5)\n",
    "    for i in range(n):  # change to range(7)\n",
    "        t.right(180 - 180/n) # adjust this angle\n",
    "        t.forward(100)\n",
    "        \n",
    "points(5)"
   ]
  },
  {
   "cell_type": "markdown",
   "metadata": {},
   "source": [
    "# Задание 2: Язык племени Мумба-юмба (2.5 балла)"
   ]
  },
  {
   "cell_type": "markdown",
   "metadata": {},
   "source": [
    "Дан текст на языке племени Мумба-Юмба. Запишите в файл все уникальные слова, встречающиеся в тексте, разделяя их пробелом. Слова должны быть отсортированы по убыванию их количества появления в тексте, а при одинаковой частоте появления — в алфавитном порядке.\n",
    "\n",
    "Словом считается последовательность непробельных символов идущих подряд, слова разделены одним или большим числом пробелов или символами конца строки.\n",
    "\n",
    "*Подсказка.* После того, как вы создадите словарь всех слов, вам захочется отсортировать его по частоте встречаемости слова. \n",
    "Вызвав метод dict.items() от вашего словаря вы получите список кортежей вида [('what', 2), ('hi', 2), ('is', 1)]. Чтобы получилось нужная сортировка такой список нужно сначала отсортировать по алфавиту от a до z (первый элемент), а затем по убыванию их количества появления в тексте. Эту задачу можно решить через две сортировки (и не забудьте про параметр key во второй!).\n",
    "\n",
    "*Подсказка 2.* Когда будете записывать слова в файл, не забудьте, что после последнего слова пробела быть не должно.\n",
    "\n",
    "**Входной файл: problem2.txt**  \n",
    "**Приложите к блокноту файл с ответом: output2.txt**\n",
    "\n",
    "Первое слово в правильном ответе: qzjijwnklo, последнее: zzzsrymltasziudkfpqn"
   ]
  },
  {
   "cell_type": "code",
   "execution_count": null,
   "metadata": {},
   "outputs": [],
   "source": [
    "# ваше решение здесь\n",
    "words = {}\n",
    "\n",
    "with open('problem2.txt') as fh:\n",
    "    for line in fh.readlines():\n",
    "        for word in line.strip().split():\n",
    "            words[word] = words.get(word, 0) + 1\n",
    "ordered = sorted(words.items(), key = lambda x: x[0])   \n",
    "ordered_q = sorted(ordered, key=lambda x: x[1], reverse = True)\n",
    "\n",
    "fh = open('test2.txt', 'w')\n",
    "for idx in range(len(ordered)):\n",
    "    if idx != len(ordered) - 1:\n",
    "        fh.write(ordered_q[idx][0] + ' ')\n",
    "    else:\n",
    "        fh.write(ordered_q[idx][0])\n",
    "        \n",
    "fh.close()"
   ]
  },
  {
   "cell_type": "markdown",
   "metadata": {},
   "source": [
    "# Задание 3. Сумма строк (1 балл)\n",
    "\n",
    "Дан файл, каждая строка которого может содержать одно или несколько целых чисел, разделенных одним или несколькими пробелами.\n",
    "\n",
    "Вычислите сумму чисел в каждой строке и выведите эти суммы через пробел (для каждой строки выводится сумма чисел в этой строке).\n",
    "\n",
    "В этой задаче вам нужно подсчитать ответ для данного входного файла. \n",
    "\n",
    "**Входной файл: problem3.txt**  \n",
    "**Ответ выведите в блокноте. **\n",
    "\n",
    "Первое число в ответе: 34568147, последнее: 111\n",
    "\n",
    "Например, если бы содержимое входного файла было следующим:\n",
    "\n",
    "```\n",
    "2 2\n",
    " 3    4\n",
    " 1       5\n",
    "```\n",
    "то в качестве ответа необходимо было бы сдать последовательность чисел\n",
    "\n",
    "4 7 6"
   ]
  },
  {
   "cell_type": "code",
   "execution_count": null,
   "metadata": {},
   "outputs": [],
   "source": [
    "# ваше решение здесь\n",
    "with open('problem3.txt') as fh:\n",
    "    for line in fh:\n",
    "        print(sum(map(int, line.strip().split())), end=' ')"
   ]
  },
  {
   "cell_type": "markdown",
   "metadata": {},
   "source": [
    "# Задание 4: буквы, строки и слова (1.5 балла)\n",
    "Дан файл. Определите сколько в нем букв (латинского алфавита), слов, строк. Выведите три найденных числа в формате, приведенном в примере. Словом считается последовательность больших и маленьких латинских букв. Все остальные символы считаются разделителями слов. Если будете решать регулярками, то будьте аккуратны, потому что некоторые выражения \"захватывают\" кроме букв лишние символы. Если будете пользоваться методами строк, то .isalpha() проверяет на то, что строка является буквой.\n",
    "\n",
    "Пример входного файла:\n",
    "```\n",
    "Beautiful is better than ugly.\n",
    "Explicit is better than implicit.\n",
    "Simple is better than complex.\n",
    "Complex is better than complicated.\n",
    "```\n",
    "Пример ответа:\n",
    "\n",
    "```\n",
    "Input file contains:\n",
    "108 letters \n",
    "20 words \n",
    "4 lines \n",
    "```\n",
    "\n",
    "**Входной файл: problem4.txt**  \n",
    "**Ответ нужно вывести в блокноте по образцу в примере**\n",
    "\n",
    "В количестве букв первая цифра 4, а последняя 3.  \n",
    "В количестве слов: 1 и 6.  \n",
    "В количестве строк: 1 и 0.  "
   ]
  },
  {
   "cell_type": "code",
   "execution_count": null,
   "metadata": {},
   "outputs": [],
   "source": [
    "# Ваше решение здесь\n",
    "import re\n",
    "with open('problem4.txt') as fh:\n",
    "    letters = 0\n",
    "    words = 0\n",
    "    lines = fh.readlines()\n",
    "    for line in lines:\n",
    "        letters += len(re.findall(r'[a-zA-Z]', line.strip()))\n",
    "        words += len(re.findall(r'[a-zA-Z]+', line.strip()))\n",
    "\n",
    "print('Input file contains:')\n",
    "print(letters, 'letters')\n",
    "print(words, 'words')\n",
    "print(len(lines), 'lines')"
   ]
  },
  {
   "cell_type": "markdown",
   "metadata": {},
   "source": [
    "# Задание 5. Вася-завхоз (3 балла)\n",
    "\n",
    "Васю назначили завхозом в туристической группе и он подошёл к подготовке ответственно, составив справочник продуктов с указанием калорийности на 100 грамм, а также содержание белков, жиров и углеводов на 100 грамм продукта. Ему не удалось найти всю информацию, поэтому некоторые ячейки остались незаполненными (можно считать их значение равным нулю). Также он использовал какой-то странный офисный пакет и разделял целую и дробную часть чисел запятой. Упорядочите продукты по убыванию количества углеводов на 100 грамм. В случае, если продукты имеют одинаковую калорийность - упорядочите их по названию.\n",
    "\n",
    "*Подсказка:* сортировка здесь очень похожа на то, что вы делали с языком племени мумба-юмба.\n",
    "\n",
    "В качестве ответа необходимо вывести названия продуктов, по одному в строке.\n",
    "\n",
    "**Входной файл: problem5.csv**  \n",
    "**Ответ нужно вывести в блокноте**\n"
   ]
  },
  {
   "cell_type": "code",
   "execution_count": null,
   "metadata": {},
   "outputs": [],
   "source": [
    "# ваше решение здесь\n",
    "file = open('problem5.txt', 'r', encoding='UTF-8')\n",
    "\n",
    "items = []\n",
    "\n",
    "for line in file.readlines()[1:]:\n",
    "    items.append([line.split(',')[0], line.split(',')[-1].strip()])\n",
    "to_file = sorted(sorted(items, key=lambda x: x[0]),\n",
    "                 key=lambda x: x[1],\n",
    "                 reverse=True)\n",
    "\n",
    "with open('output5.txt', 'w') as f:\n",
    "    for line in to_file:\n",
    "        f.write(line[0] + '\\n')"
   ]
  },
  {
   "cell_type": "markdown",
   "metadata": {},
   "source": [
    "### Задание 6. Слова на а и е (1 балл)"
   ]
  },
  {
   "cell_type": "markdown",
   "metadata": {},
   "source": [
    "Найдите в тексте слова, начинающиеся на а и на е c помощью *методов строк*. \n",
    "В ответе выведите найденные слова через пробел."
   ]
  },
  {
   "cell_type": "code",
   "execution_count": null,
   "metadata": {},
   "outputs": [],
   "source": [
    "text = \"The following example creates an ArrayList with a capacity of 50 elements.\\\n",
    "        Four elements are then added to the ArrayList and the ArrayList is trimmed accordingly.\"\n",
    "# ваше решение\n",
    "words=[]\n",
    "for word in text.lower().replace('.','').split():\n",
    "    if word.startswith('a') | word.startswith('e'):\n",
    "        words.append(word)\n",
    "print(*words)"
   ]
  },
  {
   "cell_type": "markdown",
   "metadata": {},
   "source": [
    "Найдите в тексте слова, начинающиеся на а и на е c помощью *регулярных выражений*.\n",
    "В ответе выведите найденные слова через пробел."
   ]
  },
  {
   "cell_type": "code",
   "execution_count": null,
   "metadata": {},
   "outputs": [],
   "source": [
    "import re\n",
    "text = '''\n",
    "        Ihr naht euch wieder, schwankende Gestalten,\n",
    "        Die früh sich einst dem trüben Blick gezeigt.\n",
    "        Versuch’ ich wohl, euch diesmal festzuhalten?\n",
    "        Fühl’ ich mein Herz noch jenem Wahn geneigt?\n",
    "        '''\n",
    "# ваше решение\n",
    "letter=re.findall(r'\\b[e|E|a|A]\\w+\\b',text)\n",
    "print(*letter)"
   ]
  }
 ],
 "metadata": {
  "kernelspec": {
   "display_name": "Python 3",
   "language": "python",
   "name": "python3"
  },
  "language_info": {
   "codemirror_mode": {
    "name": "ipython",
    "version": 3
   },
   "file_extension": ".py",
   "mimetype": "text/x-python",
   "name": "python",
   "nbconvert_exporter": "python",
   "pygments_lexer": "ipython3",
   "version": "3.8.3"
  }
 },
 "nbformat": 4,
 "nbformat_minor": 4
}

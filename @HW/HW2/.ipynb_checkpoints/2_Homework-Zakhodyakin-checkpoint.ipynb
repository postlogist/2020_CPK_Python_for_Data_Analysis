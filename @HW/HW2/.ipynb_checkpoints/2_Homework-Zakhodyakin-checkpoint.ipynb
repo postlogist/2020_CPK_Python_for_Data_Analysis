{
 "cells": [
  {
   "cell_type": "markdown",
   "metadata": {},
   "source": [
    "Программа повышения квалификации (научно-педагогических) работников НИУ ВШЭ\n",
    "\n",
    "# Python для исследователей\n",
    "\n",
    "Домашняя работа # 2\n",
    "\n",
    "*Автор: Рогович Татьяна, НИУ ВШЭ*\n",
    "\n",
    "#### Disclaimer\n",
    "В некоторых заданиях нужно считывать файлы и записывать ответ в файл. Пожалуйста, читайте файлы из той же папки, где лежит к ним блокнот (не прописывайте к ним полный путь). Файл с ответом нужно вложить в архив с блокнотом и архив добавить в Dropbox.\n",
    "\n",
    "Всего можно набрать 11 баллов, максимальная оценка за работу - 10."
   ]
  },
  {
   "cell_type": "markdown",
   "metadata": {},
   "source": [
    "*Выполнил: Заходякин Глеб Викторович, школа логистики*"
   ]
  },
  {
   "cell_type": "markdown",
   "metadata": {},
   "source": [
    "# Задание 1: Turtle (2 балла)\n",
    "\n",
    "У кого-то может не установиться нужный модуль, а ошибки бывают слишком экзотические, поэтому не мучайтесь с установкой, если вдруг сразу и легко не получилось, а сделайте это задание на [jupyter.org/try](jupyter.org/try) (нужно выбрать classic notebook - это онлайн демо-версия нашего привычного ноутбука). Там тоже нужно установить модуль (но он грузится не к вам на компьютер, поэтому проблем не будет), а дальше все как в задании. После того как код заработает, скопируйте его в этот блокнот.\n",
    "\n",
    "Для выполнения этого задания нужно установить и импортировать модуль turtle - это черепашка с привязанной к спине кисточкой, движения которой мы программируем. Исполните следующую ячейку, чтобы установить нужный модуль.\n",
    "\n",
    "[Документация](https://github.com/takluyver/mobilechelonian)"
   ]
  },
  {
   "cell_type": "code",
   "execution_count": 1,
   "metadata": {},
   "outputs": [
    {
     "name": "stdout",
     "output_type": "stream",
     "text": [
      "Collecting mobilechelonian\n",
      "  Downloading mobilechelonian-0.5-py2.py3-none-any.whl (94 kB)\n",
      "Requirement already satisfied: ipywidgets>=7.0.0 in c:\\anaconda3\\envs\\fkn\\lib\\site-packages (from mobilechelonian) (7.5.1)\n",
      "Requirement already satisfied: IPython in c:\\anaconda3\\envs\\fkn\\lib\\site-packages (from mobilechelonian) (7.13.0)\n",
      "Requirement already satisfied: nbformat>=4.2.0 in c:\\anaconda3\\envs\\fkn\\lib\\site-packages (from ipywidgets>=7.0.0->mobilechelonian) (5.0.4)\n",
      "Requirement already satisfied: widgetsnbextension~=3.5.0 in c:\\anaconda3\\envs\\fkn\\lib\\site-packages (from ipywidgets>=7.0.0->mobilechelonian) (3.5.1)\n",
      "Requirement already satisfied: traitlets>=4.3.1 in c:\\anaconda3\\envs\\fkn\\lib\\site-packages (from ipywidgets>=7.0.0->mobilechelonian) (4.3.3)\n",
      "Requirement already satisfied: ipykernel>=4.5.1 in c:\\anaconda3\\envs\\fkn\\lib\\site-packages (from ipywidgets>=7.0.0->mobilechelonian) (5.1.4)\n",
      "Requirement already satisfied: decorator in c:\\anaconda3\\envs\\fkn\\lib\\site-packages (from IPython->mobilechelonian) (4.4.2)\n",
      "Requirement already satisfied: pickleshare in c:\\anaconda3\\envs\\fkn\\lib\\site-packages (from IPython->mobilechelonian) (0.7.5)\n",
      "Requirement already satisfied: pygments in c:\\anaconda3\\envs\\fkn\\lib\\site-packages (from IPython->mobilechelonian) (2.6.1)\n",
      "Requirement already satisfied: backcall in c:\\anaconda3\\envs\\fkn\\lib\\site-packages (from IPython->mobilechelonian) (0.1.0)\n",
      "Requirement already satisfied: setuptools>=18.5 in c:\\anaconda3\\envs\\fkn\\lib\\site-packages (from IPython->mobilechelonian) (46.1.3.post20200330)\n",
      "Requirement already satisfied: colorama; sys_platform == \"win32\" in c:\\anaconda3\\envs\\fkn\\lib\\site-packages (from IPython->mobilechelonian) (0.4.3)\n",
      "Requirement already satisfied: prompt-toolkit!=3.0.0,!=3.0.1,<3.1.0,>=2.0.0 in c:\\anaconda3\\envs\\fkn\\lib\\site-packages (from IPython->mobilechelonian) (3.0.4)\n",
      "Requirement already satisfied: jedi>=0.10 in c:\\anaconda3\\envs\\fkn\\lib\\site-packages (from IPython->mobilechelonian) (0.15.2)\n",
      "Requirement already satisfied: ipython-genutils in c:\\anaconda3\\envs\\fkn\\lib\\site-packages (from nbformat>=4.2.0->ipywidgets>=7.0.0->mobilechelonian) (0.2.0)\n",
      "Requirement already satisfied: jsonschema!=2.5.0,>=2.4 in c:\\anaconda3\\envs\\fkn\\lib\\site-packages (from nbformat>=4.2.0->ipywidgets>=7.0.0->mobilechelonian) (3.2.0)\n",
      "Requirement already satisfied: jupyter-core in c:\\anaconda3\\envs\\fkn\\lib\\site-packages (from nbformat>=4.2.0->ipywidgets>=7.0.0->mobilechelonian) (4.6.3)\n",
      "Requirement already satisfied: notebook>=4.4.1 in c:\\anaconda3\\envs\\fkn\\lib\\site-packages (from widgetsnbextension~=3.5.0->ipywidgets>=7.0.0->mobilechelonian) (6.0.3)\n",
      "Requirement already satisfied: six in c:\\anaconda3\\envs\\fkn\\lib\\site-packages (from traitlets>=4.3.1->ipywidgets>=7.0.0->mobilechelonian) (1.14.0)\n",
      "Requirement already satisfied: jupyter-client in c:\\anaconda3\\envs\\fkn\\lib\\site-packages (from ipykernel>=4.5.1->ipywidgets>=7.0.0->mobilechelonian) (6.1.2)\n",
      "Requirement already satisfied: tornado>=4.2 in c:\\anaconda3\\envs\\fkn\\lib\\site-packages (from ipykernel>=4.5.1->ipywidgets>=7.0.0->mobilechelonian) (6.0.4)\n",
      "Requirement already satisfied: wcwidth in c:\\anaconda3\\envs\\fkn\\lib\\site-packages (from prompt-toolkit!=3.0.0,!=3.0.1,<3.1.0,>=2.0.0->IPython->mobilechelonian) (0.1.9)\n",
      "Requirement already satisfied: parso>=0.5.2 in c:\\anaconda3\\envs\\fkn\\lib\\site-packages (from jedi>=0.10->IPython->mobilechelonian) (0.5.2)\n",
      "Requirement already satisfied: pyrsistent>=0.14.0 in c:\\anaconda3\\envs\\fkn\\lib\\site-packages (from jsonschema!=2.5.0,>=2.4->nbformat>=4.2.0->ipywidgets>=7.0.0->mobilechelonian) (0.16.0)\n",
      "Requirement already satisfied: attrs>=17.4.0 in c:\\anaconda3\\envs\\fkn\\lib\\site-packages (from jsonschema!=2.5.0,>=2.4->nbformat>=4.2.0->ipywidgets>=7.0.0->mobilechelonian) (19.3.0)\n",
      "Requirement already satisfied: importlib-metadata; python_version < \"3.8\" in c:\\anaconda3\\envs\\fkn\\lib\\site-packages (from jsonschema!=2.5.0,>=2.4->nbformat>=4.2.0->ipywidgets>=7.0.0->mobilechelonian) (1.5.0)\n",
      "Requirement already satisfied: pywin32>=1.0; sys_platform == \"win32\" in c:\\anaconda3\\envs\\fkn\\lib\\site-packages (from jupyter-core->nbformat>=4.2.0->ipywidgets>=7.0.0->mobilechelonian) (227)\n",
      "Requirement already satisfied: prometheus-client in c:\\anaconda3\\envs\\fkn\\lib\\site-packages (from notebook>=4.4.1->widgetsnbextension~=3.5.0->ipywidgets>=7.0.0->mobilechelonian) (0.7.1)\n",
      "Requirement already satisfied: Send2Trash in c:\\anaconda3\\envs\\fkn\\lib\\site-packages (from notebook>=4.4.1->widgetsnbextension~=3.5.0->ipywidgets>=7.0.0->mobilechelonian) (1.5.0)\n",
      "Requirement already satisfied: pyzmq>=17 in c:\\anaconda3\\envs\\fkn\\lib\\site-packages (from notebook>=4.4.1->widgetsnbextension~=3.5.0->ipywidgets>=7.0.0->mobilechelonian) (18.1.1)\n",
      "Requirement already satisfied: terminado>=0.8.1 in c:\\anaconda3\\envs\\fkn\\lib\\site-packages (from notebook>=4.4.1->widgetsnbextension~=3.5.0->ipywidgets>=7.0.0->mobilechelonian) (0.8.3)\n",
      "Requirement already satisfied: jinja2 in c:\\anaconda3\\envs\\fkn\\lib\\site-packages (from notebook>=4.4.1->widgetsnbextension~=3.5.0->ipywidgets>=7.0.0->mobilechelonian) (2.11.1)\n",
      "Requirement already satisfied: nbconvert in c:\\anaconda3\\envs\\fkn\\lib\\site-packages (from notebook>=4.4.1->widgetsnbextension~=3.5.0->ipywidgets>=7.0.0->mobilechelonian) (5.6.1)\n",
      "Requirement already satisfied: python-dateutil>=2.1 in c:\\anaconda3\\envs\\fkn\\lib\\site-packages (from jupyter-client->ipykernel>=4.5.1->ipywidgets>=7.0.0->mobilechelonian) (2.8.1)\n",
      "Requirement already satisfied: zipp>=0.5 in c:\\anaconda3\\envs\\fkn\\lib\\site-packages (from importlib-metadata; python_version < \"3.8\"->jsonschema!=2.5.0,>=2.4->nbformat>=4.2.0->ipywidgets>=7.0.0->mobilechelonian) (2.2.0)\n",
      "Requirement already satisfied: MarkupSafe>=0.23 in c:\\anaconda3\\envs\\fkn\\lib\\site-packages (from jinja2->notebook>=4.4.1->widgetsnbextension~=3.5.0->ipywidgets>=7.0.0->mobilechelonian) (1.1.1)\n",
      "Requirement already satisfied: defusedxml in c:\\anaconda3\\envs\\fkn\\lib\\site-packages (from nbconvert->notebook>=4.4.1->widgetsnbextension~=3.5.0->ipywidgets>=7.0.0->mobilechelonian) (0.6.0)\n",
      "Requirement already satisfied: bleach in c:\\anaconda3\\envs\\fkn\\lib\\site-packages (from nbconvert->notebook>=4.4.1->widgetsnbextension~=3.5.0->ipywidgets>=7.0.0->mobilechelonian) (3.1.4)\n",
      "Requirement already satisfied: mistune<2,>=0.8.1 in c:\\anaconda3\\envs\\fkn\\lib\\site-packages (from nbconvert->notebook>=4.4.1->widgetsnbextension~=3.5.0->ipywidgets>=7.0.0->mobilechelonian) (0.8.4)\n",
      "Requirement already satisfied: testpath in c:\\anaconda3\\envs\\fkn\\lib\\site-packages (from nbconvert->notebook>=4.4.1->widgetsnbextension~=3.5.0->ipywidgets>=7.0.0->mobilechelonian) (0.4.4)\n",
      "Requirement already satisfied: pandocfilters>=1.4.1 in c:\\anaconda3\\envs\\fkn\\lib\\site-packages (from nbconvert->notebook>=4.4.1->widgetsnbextension~=3.5.0->ipywidgets>=7.0.0->mobilechelonian) (1.4.2)\n",
      "Requirement already satisfied: entrypoints>=0.2.2 in c:\\anaconda3\\envs\\fkn\\lib\\site-packages (from nbconvert->notebook>=4.4.1->widgetsnbextension~=3.5.0->ipywidgets>=7.0.0->mobilechelonian) (0.3)\n",
      "Requirement already satisfied: webencodings in c:\\anaconda3\\envs\\fkn\\lib\\site-packages (from bleach->nbconvert->notebook>=4.4.1->widgetsnbextension~=3.5.0->ipywidgets>=7.0.0->mobilechelonian) (0.5.1)\n",
      "Installing collected packages: mobilechelonian\n",
      "Successfully installed mobilechelonian-0.5\n"
     ]
    }
   ],
   "source": [
    "#!pip install mobilechelonian"
   ]
  },
  {
   "cell_type": "markdown",
   "metadata": {},
   "source": [
    "Ниже показан пример, как нарисовать квадрат."
   ]
  },
  {
   "cell_type": "code",
   "execution_count": 49,
   "metadata": {},
   "outputs": [
    {
     "data": {
      "application/vnd.jupyter.widget-view+json": {
       "model_id": "8f63e636e01b4eb0876cf4ab5d0b0907",
       "version_major": 2,
       "version_minor": 0
      },
      "text/plain": [
       "Turtle()"
      ]
     },
     "metadata": {},
     "output_type": "display_data"
    }
   ],
   "source": [
    "from mobilechelonian import Turtle # импортируем модуль для рисования\n",
    "\n",
    "t = Turtle() # создаем класс нашей черепашки\n",
    "\n",
    "t.speed(5) # задаем скорость\n",
    "t.pendown() # ставим \"кисть\" на холст\n",
    "t.forward(100) # идем вперед на 100 шагов\n",
    "t.right(90) # поворачиваем на 90 градусов вправо\n",
    "t.forward(100)\n",
    "t.right(90)\n",
    "t.forward(100)\n",
    "t.right(90)\n",
    "t.forward(100)\n",
    "t.penup() # поднимаем кисть"
   ]
  },
  {
   "cell_type": "markdown",
   "metadata": {},
   "source": [
    "Теперь то же самое с циклом. Также мы убрали команды penup и pendown, потому что по умолчанию кисть стоит на холсте, и в этой программе эта операция излишня."
   ]
  },
  {
   "cell_type": "code",
   "execution_count": 50,
   "metadata": {},
   "outputs": [
    {
     "data": {
      "application/vnd.jupyter.widget-view+json": {
       "model_id": "bba26ffe063d4b45806b919a39b47b24",
       "version_major": 2,
       "version_minor": 0
      },
      "text/plain": [
       "Turtle()"
      ]
     },
     "metadata": {},
     "output_type": "display_data"
    }
   ],
   "source": [
    "from mobilechelonian import Turtle # импортируем модуль для рисования\n",
    "\n",
    "t = Turtle() # создаем класс нашей черепашки\n",
    "\n",
    "t.speed(5) # задаем скорость\n",
    "t.forward(100)\n",
    "\n",
    "for i in range(3):\n",
    "    t.right(90)\n",
    "    t.forward(100)"
   ]
  },
  {
   "cell_type": "markdown",
   "metadata": {},
   "source": [
    "Рисуем круг."
   ]
  },
  {
   "cell_type": "code",
   "execution_count": 51,
   "metadata": {},
   "outputs": [
    {
     "data": {
      "application/vnd.jupyter.widget-view+json": {
       "model_id": "d5e4d40ec5064fd4ad39792f2c43096b",
       "version_major": 2,
       "version_minor": 0
      },
      "text/plain": [
       "Turtle()"
      ]
     },
     "metadata": {},
     "output_type": "display_data"
    }
   ],
   "source": [
    "t = Turtle() # создаем класс нашей черепашки\n",
    "\n",
    "t.speed(5) # задаем скорость\n",
    "\n",
    "t.penup() # поднимаем кисть с холста, проходим вперед ничего не рисуя, чтобы наш круг точно вместился\n",
    "t.left(90) # поворачиваем\n",
    "t.forward(200) # идем вперед\n",
    "t.right(90) # опять поворачиваем\n",
    "t.pendown() # ставим кисть обратно на холст, иначе не будет рисовать\n",
    "colours = [\"yellow\", \"gold\", \"orange\", \"red\", \"maroon\", \"violet\", \"magenta\", \"gray\", \"white\"]\n",
    "\n",
    "for i in range (0,180):\n",
    "    t.pencolor(colours[i%7]) # есть список цветов, выбираем цвет в зависимости от i\n",
    "    t.right(2) # поворачиваемся на два градус\n",
    "    t.forward(5) # проходим 5 единиц"
   ]
  },
  {
   "cell_type": "markdown",
   "metadata": {},
   "source": [
    "#### Лепесток (1 балл)\n",
    "Вам задана функция left_turn(), которая рисует дугу. \n",
    "Создайте функцию petal, которая будет, используя функцию left_turn(), рисовать лепесток целиком и возвращать черепашку в центр цветка.\n",
    "\n",
    "Запустив функцию petal в цикле нарисуйте цветок с пятью лепестками (см. картинку).\n",
    "![](https://github.com/rogovich/2020_DPO_PythonProg/blob/master/@Problems/petal.png?raw=true)"
   ]
  },
  {
   "cell_type": "code",
   "execution_count": 2,
   "metadata": {},
   "outputs": [
    {
     "ename": "NameError",
     "evalue": "name 'Turtle' is not defined",
     "output_type": "error",
     "traceback": [
      "\u001b[1;31m---------------------------------------------------------------------------\u001b[0m",
      "\u001b[1;31mNameError\u001b[0m                                 Traceback (most recent call last)",
      "\u001b[1;32m<ipython-input-2-849de2682135>\u001b[0m in \u001b[0;36m<module>\u001b[1;34m\u001b[0m\n\u001b[0;32m      1\u001b[0m \u001b[1;31m# дополните код в этой ячейке\u001b[0m\u001b[1;33m\u001b[0m\u001b[1;33m\u001b[0m\u001b[1;33m\u001b[0m\u001b[0m\n\u001b[1;32m----> 2\u001b[1;33m \u001b[0mt\u001b[0m \u001b[1;33m=\u001b[0m \u001b[0mTurtle\u001b[0m\u001b[1;33m(\u001b[0m\u001b[1;33m)\u001b[0m\u001b[1;33m\u001b[0m\u001b[1;33m\u001b[0m\u001b[0m\n\u001b[0m\u001b[0;32m      3\u001b[0m \u001b[0mt\u001b[0m\u001b[1;33m.\u001b[0m\u001b[0mspeed\u001b[0m\u001b[1;33m(\u001b[0m\u001b[1;36m5\u001b[0m\u001b[1;33m)\u001b[0m\u001b[1;33m\u001b[0m\u001b[1;33m\u001b[0m\u001b[0m\n\u001b[0;32m      4\u001b[0m \u001b[0mt\u001b[0m\u001b[1;33m.\u001b[0m\u001b[0mpencolor\u001b[0m\u001b[1;33m(\u001b[0m\u001b[1;34m'magenta'\u001b[0m\u001b[1;33m)\u001b[0m\u001b[1;33m\u001b[0m\u001b[1;33m\u001b[0m\u001b[0m\n\u001b[0;32m      5\u001b[0m \u001b[1;33m\u001b[0m\u001b[0m\n",
      "\u001b[1;31mNameError\u001b[0m: name 'Turtle' is not defined"
     ]
    }
   ],
   "source": [
    "# дополните код в этой ячейке\n",
    "t = Turtle()\n",
    "t.speed(5)\n",
    "t.pencolor('magenta')\n",
    "\n",
    "def left_turn():\n",
    "    for i in range(10):\n",
    "        t.forward(15)\n",
    "        t.left(9)\n",
    "        \n",
    "left_turn()"
   ]
  },
  {
   "cell_type": "markdown",
   "metadata": {},
   "source": [
    "#### Звезда (1 балл)\n",
    "Напишите функцию, которая берет аргументом число - количество вершин звезды. Ваша функция должна рисовать звезду с заданным количеством вершин. Не со всеми числами функция будет работать корректно, поэтому проверьте ее работу для 5, 9 и 15 вершин (в трех разных ячейках). Длина луча 100 единиц.\n",
    "\n",
    "*Подсказка:* Угол поворота черепашки зависит от количества вершин - она поворачивается на 180 градусов минус 180 градусов разделенные на количество вершин."
   ]
  },
  {
   "cell_type": "code",
   "execution_count": 30,
   "metadata": {},
   "outputs": [
    {
     "data": {
      "application/vnd.jupyter.widget-view+json": {
       "model_id": "f39520dfa35643dcac87c0e11f7ac843",
       "version_major": 2,
       "version_minor": 0
      },
      "text/plain": [
       "Turtle()"
      ]
     },
     "metadata": {},
     "output_type": "display_data"
    }
   ],
   "source": [
    "# ваше решение здесь\n",
    "\n",
    "t = Turtle()\n",
    "t.speed(5)\n",
    "\n",
    "# пример, как нарисовать треугольник (это на самом деле релевантно!)\n",
    "for i in range(3):\n",
    "    t.right(180 - 180/3) \n",
    "    t.forward(100)"
   ]
  },
  {
   "cell_type": "markdown",
   "metadata": {},
   "source": [
    "# Задание 2: Язык племени Мумба-юмба (2.5 балла)"
   ]
  },
  {
   "cell_type": "markdown",
   "metadata": {},
   "source": [
    "Дан текст на языке племени Мумба-Юмба. Запишите в файл все уникальные слова, встречающиеся в тексте, разделяя их пробелом. Слова должны быть отсортированы по убыванию их количества появления в тексте, а при одинаковой частоте появления — в алфавитном порядке.\n",
    "\n",
    "Словом считается последовательность непробельных символов идущих подряд, слова разделены одним или большим числом пробелов или символами конца строки.\n",
    "\n",
    "*Подсказка.* После того, как вы создадите словарь всех слов, вам захочется отсортировать его по частоте встречаемости слова. \n",
    "Вызвав метод dict.items() от вашего словаря вы получите список кортежей вида [('what', 2), ('hi', 2), ('is', 1)]. Чтобы получилось нужная сортировка такой список нужно сначала отсортировать по алфавиту от a до z (первый элемент), а затем по убыванию их количества появления в тексте. Эту задачу можно решить через две сортировки (и не забудьте про параметр key во второй!).\n",
    "\n",
    "*Подсказка 2.* Когда будете записывать слова в файл, не забудьте, что после последнего слова пробела быть не должно.\n",
    "\n",
    "**Входной файл: problem2.txt**  \n",
    "**Приложите к блокноту файл с ответом: output2.txt**\n",
    "\n",
    "Первое слово в правильном ответе: qzjijwnklo, последнее: zzzsrymltasziudkfpqn"
   ]
  },
  {
   "cell_type": "code",
   "execution_count": 80,
   "metadata": {},
   "outputs": [],
   "source": [
    "# ваше решение здесь\n",
    "# Словарь с частотой слов\n",
    "words = {}\n",
    "with open('problem2.txt', 'r', encoding='utf-8') as fh:\n",
    "    for line in fh.readlines():\n",
    "        for word in line.split():\n",
    "            if words.get(word):\n",
    "                words[word] += 1\n",
    "            else:\n",
    "                words[word] = 1\n",
    "\n",
    "# Получаем сортированный список слов\n",
    "words_sorted = []\n",
    "for word, frequency in sorted(sorted(words.items()),\n",
    "                              key = lambda x: x[1], reverse=True):\n",
    "    words_sorted.append(word)\n",
    "    #print(word, frequency)\n",
    "    \n",
    "    \n",
    "# Выводим результат в файл\n",
    "with open('output2.txt', 'w', encoding='utf-8') as fh:\n",
    "    fh.write(' '.join(words_sorted))"
   ]
  },
  {
   "cell_type": "markdown",
   "metadata": {},
   "source": [
    "# Задание 3. Сумма строк (1 балл)\n",
    "\n",
    "Дан файл, каждая строка которого может содержать одно или несколько целых чисел, разделенных одним или несколькими пробелами.\n",
    "\n",
    "Вычислите сумму чисел в каждой строке и выведите эти суммы через пробел (для каждой строки выводится сумма чисел в этой строке).\n",
    "\n",
    "В этой задаче вам нужно подсчитать ответ для данного входного файла. \n",
    "\n",
    "**Входной файл: problem3.txt**  \n",
    "**Ответ выведите в блокноте. **\n",
    "\n",
    "Первое число в ответе: 34568147, последнее: 111\n",
    "\n",
    "Например, если бы содержимое входного файла было следующим:\n",
    "\n",
    "```\n",
    "2 2\n",
    " 3    4\n",
    " 1       5\n",
    "```\n",
    "то в качестве ответа необходимо было бы сдать последовательность чисел\n",
    "\n",
    "4 7 6"
   ]
  },
  {
   "cell_type": "code",
   "execution_count": 82,
   "metadata": {},
   "outputs": [
    {
     "name": "stdout",
     "output_type": "stream",
     "text": [
      "34568147 255016 5617498 0 31397 17 10119996 111 "
     ]
    }
   ],
   "source": [
    "# ваше решение здесь\n",
    "with open('problem3.txt', 'r', encoding='utf-8') as fh:\n",
    "    for line in fh.readlines():\n",
    "        print(sum([int(s) for s in line.split()]), end=' ')\n",
    "            \n",
    "            "
   ]
  },
  {
   "cell_type": "markdown",
   "metadata": {},
   "source": [
    "# Задание 4: буквы, строки и слова (1.5 балла)\n",
    "Дан файл. Определите сколько в нем букв (латинского алфавита), слов, строк. Выведите три найденных числа в формате, приведенном в примере. Словом считается последовательность больших и маленьких латинских букв. Все остальные символы считаются разделителями слов. Если будете решать регулярками, то будьте аккуратны, потому что некоторые выражения \"захватывают\" кроме букв лишние символы. Если будете пользоваться методами строк, то .isalpha() проверяет на то, что строка является буквой.\n",
    "\n",
    "Пример входного файла:\n",
    "```\n",
    "Beautiful is better than ugly.\n",
    "Explicit is better than implicit.\n",
    "Simple is better than complex.\n",
    "Complex is better than complicated.\n",
    "```\n",
    "Пример ответа:\n",
    "\n",
    "```\n",
    "Input file contains:\n",
    "108 letters \n",
    "20 words \n",
    "4 lines \n",
    "```\n",
    "\n",
    "**Входной файл: problem4.txt**  \n",
    "**Ответ нужно вывести в блокноте по образцу в примере**\n",
    "\n",
    "В количестве букв первая цифра 4, а последняя 3.  \n",
    "В количестве слов: 1 и 6.  \n",
    "В количестве строк: 1 и 0.  "
   ]
  },
  {
   "cell_type": "code",
   "execution_count": 117,
   "metadata": {},
   "outputs": [
    {
     "name": "stdout",
     "output_type": "stream",
     "text": [
      "Input file contains:\n",
      "44473 letters\n",
      "11496 words\n",
      "1000 lines\n"
     ]
    }
   ],
   "source": [
    "# Ваше решение здесь\n",
    "import re\n",
    "\n",
    "with open('problem4.txt', 'r', encoding='utf-8') as fh:\n",
    "    text = fh.read()\n",
    "\n",
    "print('Input file contains:')\n",
    "\n",
    "print(\"%d letters\" % sum([c.isalpha() for c in text])) # исключаем не-буквы\n",
    "print(\"%d words\" % len(re.findall('([a-zA-Z]+)[^a-zA-Z]', text))) # просто .split() не делит слова с апострофами\n",
    "print(\"%d lines\" % len(re.findall(r'.+\\n', text))) # .split() отделяет последнюю пустую строку"
   ]
  },
  {
   "cell_type": "markdown",
   "metadata": {},
   "source": [
    "# Задание 5. Вася-завхоз (3 балла)\n",
    "\n",
    "Васю назначили завхозом в туристической группе и он подошёл к подготовке ответственно, составив справочник продуктов с указанием калорийности на 100 грамм, а также содержание белков, жиров и углеводов на 100 грамм продукта. Ему не удалось найти всю информацию, поэтому некоторые ячейки остались незаполненными (можно считать их значение равным нулю). Также он использовал какой-то странный офисный пакет и разделял целую и дробную часть чисел запятой. Упорядочите продукты по убыванию количества углеводов на 100 грамм. В случае, если продукты имеют одинаковую калорийность - упорядочите их по названию.\n",
    "\n",
    "*Подсказка:* сортировка здесь очень похожа на то, что вы делали с языком племени мумба-юмба.\n",
    "\n",
    "В качестве ответа необходимо вывести названия продуктов, по одному в строке.\n",
    "\n",
    "**Входной файл: problem5.csv**  \n",
    "**Ответ нужно вывести в блокноте**\n"
   ]
  },
  {
   "cell_type": "code",
   "execution_count": 24,
   "metadata": {},
   "outputs": [],
   "source": [
    "# ваше решение здесь"
   ]
  },
  {
   "cell_type": "markdown",
   "metadata": {},
   "source": [
    "### # Задание 6. Слова на а и е (1 балл)"
   ]
  },
  {
   "cell_type": "markdown",
   "metadata": {},
   "source": [
    "Найдите в тексте слова, начинающиеся на а и на е c помощью *методов строк*. \n",
    "В ответе выведите найденные слова через пробел."
   ]
  },
  {
   "cell_type": "code",
   "execution_count": 55,
   "metadata": {},
   "outputs": [],
   "source": [
    "text = \"The following example creates an ArrayList with a capacity of 50 elements.\\\n",
    "        Four elements are then added to the ArrayList and the ArrayList is trimmed accordingly.\"\n",
    "# ваше решение"
   ]
  },
  {
   "cell_type": "code",
   "execution_count": 43,
   "metadata": {},
   "outputs": [
    {
     "name": "stdout",
     "output_type": "stream",
     "text": [
      "example an ArrayList a elements elements are added ArrayList and ArrayList accordingly\n"
     ]
    }
   ],
   "source": [
    "# Я не придумал, как можно убрать точки в конце слов более простым методом.\n",
    "print(*[''.join([c for c in w if c.isalpha()]) \n",
    "        for w in text.split() if w[0].lower() in ['a', 'e']],\n",
    "     sep = ' ')"
   ]
  },
  {
   "cell_type": "markdown",
   "metadata": {},
   "source": [
    "Найдите в тексте слова, начинающиеся на а и на е c помощью *регулярных выражений*.\n",
    "В ответе выведите найденные слова через пробел."
   ]
  },
  {
   "cell_type": "code",
   "execution_count": 58,
   "metadata": {},
   "outputs": [],
   "source": [
    "import re\n",
    "text = '''\n",
    "        Ihr naht euch wieder, schwankende Gestalten,\n",
    "        Die früh sich einst dem trüben Blick gezeigt.\n",
    "        Versuch’ ich wohl, euch diesmal festzuhalten?\n",
    "        Fühl’ ich mein Herz noch jenem Wahn geneigt?\n",
    "        '''\n",
    "# ваше решение"
   ]
  },
  {
   "cell_type": "code",
   "execution_count": 59,
   "metadata": {},
   "outputs": [
    {
     "name": "stdout",
     "output_type": "stream",
     "text": [
      "euch einst euch\n"
     ]
    }
   ],
   "source": [
    "print(*re.findall(r'\\b[aeAE][a-zA-Zа-яА-ЯёЁ]*', text),\n",
    "      sep = ' ')"
   ]
  },
  {
   "cell_type": "markdown",
   "metadata": {},
   "source": [
    "Или так, если могут быть цифры в середине слов, типа как здесь https://www.bbc.com/news/world-us-canada-52557291"
   ]
  },
  {
   "cell_type": "code",
   "execution_count": 62,
   "metadata": {},
   "outputs": [
    {
     "name": "stdout",
     "output_type": "stream",
     "text": [
      "euch einst euch\n"
     ]
    }
   ],
   "source": [
    "print(*re.findall(r'\\b[aeAE]\\w*', text),\n",
    "      sep = ' ')"
   ]
  }
 ],
 "metadata": {
  "kernelspec": {
   "display_name": "Python 3",
   "language": "python",
   "name": "python3"
  },
  "language_info": {
   "codemirror_mode": {
    "name": "ipython",
    "version": 3
   },
   "file_extension": ".py",
   "mimetype": "text/x-python",
   "name": "python",
   "nbconvert_exporter": "python",
   "pygments_lexer": "ipython3",
   "version": "3.7.3"
  }
 },
 "nbformat": 4,
 "nbformat_minor": 2
}

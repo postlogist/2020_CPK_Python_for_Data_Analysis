{
 "cells": [
  {
   "cell_type": "markdown",
   "metadata": {},
   "source": [
    "Программа повышения квалификации (научно-педагогических) работников НИУ ВШЭ\n",
    "\n",
    "# Python для исследователей\n",
    "\n",
    "Домашняя работа # 2\n",
    "\n",
    "*Автор: Рогович Татьяна, НИУ ВШЭ*\n",
    "\n",
    "#### Disclaimer\n",
    "В некоторых заданиях нужно считывать файлы и записывать ответ в файл. Пожалуйста, читайте файлы из той же папки, где лежит к ним блокнот (не прописывайте к ним полный путь). Файл с ответом нужно вложить в архив с блокнотом и архив добавить в Dropbox.\n",
    "\n",
    "Всего можно набрать 11 баллов, максимальная оценка за работу - 10."
   ]
  },
  {
   "cell_type": "markdown",
   "metadata": {},
   "source": [
    "*Выполнил: Заходякин Глеб Викторович, школа логистики*"
   ]
  },
  {
   "cell_type": "markdown",
   "metadata": {},
   "source": [
    "# Задание 1: Turtle (2 балла)\n",
    "\n",
    "У кого-то может не установиться нужный модуль, а ошибки бывают слишком экзотические, поэтому не мучайтесь с установкой, если вдруг сразу и легко не получилось, а сделайте это задание на [jupyter.org/try](jupyter.org/try) (нужно выбрать classic notebook - это онлайн демо-версия нашего привычного ноутбука). Там тоже нужно установить модуль (но он грузится не к вам на компьютер, поэтому проблем не будет), а дальше все как в задании. После того как код заработает, скопируйте его в этот блокнот.\n",
    "\n",
    "Для выполнения этого задания нужно установить и импортировать модуль turtle - это черепашка с привязанной к спине кисточкой, движения которой мы программируем. Исполните следующую ячейку, чтобы установить нужный модуль.\n",
    "\n",
    "[Документация](https://github.com/takluyver/mobilechelonian)"
   ]
  },
  {
   "cell_type": "code",
   "execution_count": 1,
   "metadata": {},
   "outputs": [],
   "source": [
    "#!pip install mobilechelonian"
   ]
  },
  {
   "cell_type": "markdown",
   "metadata": {},
   "source": [
    "Ниже показан пример, как нарисовать квадрат."
   ]
  },
  {
   "cell_type": "code",
   "execution_count": 2,
   "metadata": {},
   "outputs": [
    {
     "data": {
      "application/vnd.jupyter.widget-view+json": {
       "model_id": "e4ec59d928b84e229285976b8e89adb0",
       "version_major": 2,
       "version_minor": 0
      },
      "text/plain": [
       "Turtle()"
      ]
     },
     "metadata": {},
     "output_type": "display_data"
    }
   ],
   "source": [
    "from mobilechelonian import Turtle # импортируем модуль для рисования\n",
    "\n",
    "t = Turtle() # создаем класс нашей черепашки\n",
    "\n",
    "t.speed(5) # задаем скорость\n",
    "t.pendown() # ставим \"кисть\" на холст\n",
    "t.forward(100) # идем вперед на 100 шагов\n",
    "t.right(90) # поворачиваем на 90 градусов вправо\n",
    "t.forward(100)\n",
    "t.right(90)\n",
    "t.forward(100)\n",
    "t.right(90)\n",
    "t.forward(100)\n",
    "t.penup() # поднимаем кисть"
   ]
  },
  {
   "cell_type": "markdown",
   "metadata": {},
   "source": [
    "Теперь то же самое с циклом. Также мы убрали команды penup и pendown, потому что по умолчанию кисть стоит на холсте, и в этой программе эта операция излишня."
   ]
  },
  {
   "cell_type": "code",
   "execution_count": 3,
   "metadata": {},
   "outputs": [
    {
     "data": {
      "application/vnd.jupyter.widget-view+json": {
       "model_id": "e1388228b96c4866a2c4f4a9c29ca469",
       "version_major": 2,
       "version_minor": 0
      },
      "text/plain": [
       "Turtle()"
      ]
     },
     "metadata": {},
     "output_type": "display_data"
    }
   ],
   "source": [
    "from mobilechelonian import Turtle # импортируем модуль для рисования\n",
    "\n",
    "t = Turtle() # создаем класс нашей черепашки\n",
    "\n",
    "t.speed(5) # задаем скорость\n",
    "t.forward(100)\n",
    "\n",
    "for i in range(3):\n",
    "    t.right(90)\n",
    "    t.forward(100)"
   ]
  },
  {
   "cell_type": "markdown",
   "metadata": {},
   "source": [
    "Рисуем круг."
   ]
  },
  {
   "cell_type": "code",
   "execution_count": 4,
   "metadata": {},
   "outputs": [
    {
     "data": {
      "application/vnd.jupyter.widget-view+json": {
       "model_id": "cce7edd8fd074f1d905159c1741fb36d",
       "version_major": 2,
       "version_minor": 0
      },
      "text/plain": [
       "Turtle()"
      ]
     },
     "metadata": {},
     "output_type": "display_data"
    }
   ],
   "source": [
    "t = Turtle() # создаем класс нашей черепашки\n",
    "\n",
    "t.speed(50) # задаем скорость\n",
    "\n",
    "t.penup() # поднимаем кисть с холста, проходим вперед ничего не рисуя, чтобы наш круг точно вместился\n",
    "t.left(90) # поворачиваем\n",
    "t.forward(200) # идем вперед\n",
    "t.right(90) # опять поворачиваем\n",
    "t.pendown() # ставим кисть обратно на холст, иначе не будет рисовать\n",
    "colours = [\"yellow\", \"gold\", \"orange\", \"red\", \"maroon\", \"violet\", \"magenta\", \"gray\", \"white\"]\n",
    "\n",
    "for i in range (0,180):\n",
    "    t.pencolor(colours[i%7]) # есть список цветов, выбираем цвет в зависимости от i\n",
    "    t.right(2) # поворачиваемся на два градус\n",
    "    t.forward(5) # проходим 5 единиц"
   ]
  },
  {
   "cell_type": "markdown",
   "metadata": {},
   "source": [
    "#### Лепесток (1 балл)\n",
    "Вам задана функция left_turn(), которая рисует дугу. \n",
    "Создайте функцию petal, которая будет, используя функцию left_turn(), рисовать лепесток целиком и возвращать черепашку в центр цветка.\n",
    "\n",
    "Запустив функцию petal в цикле нарисуйте цветок с пятью лепестками (см. картинку).\n",
    "![](https://github.com/rogovich/2020_DPO_PythonProg/blob/master/@Problems/petal.png?raw=true)"
   ]
  },
  {
   "cell_type": "code",
   "execution_count": 5,
   "metadata": {},
   "outputs": [
    {
     "data": {
      "application/vnd.jupyter.widget-view+json": {
       "model_id": "af8ee1b80cb14427ae09859151e34917",
       "version_major": 2,
       "version_minor": 0
      },
      "text/plain": [
       "Turtle()"
      ]
     },
     "metadata": {},
     "output_type": "display_data"
    }
   ],
   "source": [
    "# дополните код в этой ячейке\n",
    "t = Turtle()\n",
    "t.speed(5)\n",
    "t.pencolor('black')\n",
    "\n",
    "def left_turn():\n",
    "    for i in range(10):\n",
    "        t.forward(20)\n",
    "        t.left(9)\n",
    "\n",
    "for petal in range(5):\n",
    "    for turn in range(2):\n",
    "        left_turn()\n",
    "        t.left(90)\n",
    "    t.left(72)"
   ]
  },
  {
   "cell_type": "markdown",
   "metadata": {},
   "source": [
    "#### Звезда (1 балл)\n",
    "Напишите функцию, которая берет аргументом число - количество вершин звезды. Ваша функция должна рисовать звезду с заданным количеством вершин. Не со всеми числами функция будет работать корректно, поэтому проверьте ее работу для 5, 9 и 15 вершин (в трех разных ячейках). Длина луча 100 единиц.\n",
    "\n",
    "*Подсказка:* Угол поворота черепашки зависит от количества вершин - она поворачивается на 180 градусов минус 180 градусов разделенные на количество вершин."
   ]
  },
  {
   "cell_type": "code",
   "execution_count": 6,
   "metadata": {},
   "outputs": [
    {
     "data": {
      "application/vnd.jupyter.widget-view+json": {
       "model_id": "61a26b7b96d646008aeba9bb27dfe7ec",
       "version_major": 2,
       "version_minor": 0
      },
      "text/plain": [
       "Turtle()"
      ]
     },
     "metadata": {},
     "output_type": "display_data"
    }
   ],
   "source": [
    "# ваше решение здесь\n",
    "\n",
    "t = Turtle()\n",
    "t.speed(5)\n",
    "\n",
    "# пример, как нарисовать треугольник (это на самом деле релевантно!)\n",
    "for i in range(3):\n",
    "    t.right(180 - 180/3) \n",
    "    t.forward(150)"
   ]
  },
  {
   "cell_type": "code",
   "execution_count": 7,
   "metadata": {},
   "outputs": [
    {
     "data": {
      "application/vnd.jupyter.widget-view+json": {
       "model_id": "db536c2819ca4a44b894705c335db66d",
       "version_major": 2,
       "version_minor": 0
      },
      "text/plain": [
       "Turtle()"
      ]
     },
     "metadata": {},
     "output_type": "display_data"
    }
   ],
   "source": [
    "def draw_star(n_rays):\n",
    "    t = Turtle()\n",
    "    t.speed(5)\n",
    "    # подвинем точку начала вправо, чтобы сделать звезду крупнее\n",
    "    t.penup() \n",
    "    t.forward(100) \n",
    "    t.pendown()\n",
    "    for i in range(n_rays):\n",
    "        t.right(180 - 180/n_rays)\n",
    "        t.forward(200)\n",
    "    \n",
    "\n",
    "draw_star(5)"
   ]
  },
  {
   "cell_type": "code",
   "execution_count": 8,
   "metadata": {},
   "outputs": [
    {
     "data": {
      "application/vnd.jupyter.widget-view+json": {
       "model_id": "58057e35c6464b378b0d72d4821325e4",
       "version_major": 2,
       "version_minor": 0
      },
      "text/plain": [
       "Turtle()"
      ]
     },
     "metadata": {},
     "output_type": "display_data"
    }
   ],
   "source": [
    "draw_star(9)"
   ]
  },
  {
   "cell_type": "code",
   "execution_count": 9,
   "metadata": {},
   "outputs": [
    {
     "data": {
      "application/vnd.jupyter.widget-view+json": {
       "model_id": "d3046011904f47699ff08af501d20307",
       "version_major": 2,
       "version_minor": 0
      },
      "text/plain": [
       "Turtle()"
      ]
     },
     "metadata": {},
     "output_type": "display_data"
    }
   ],
   "source": [
    "draw_star(15)"
   ]
  },
  {
   "cell_type": "markdown",
   "metadata": {},
   "source": [
    "# Задание 2: Язык племени Мумба-юмба (2.5 балла)"
   ]
  },
  {
   "cell_type": "markdown",
   "metadata": {},
   "source": [
    "Дан текст на языке племени Мумба-Юмба. Запишите в файл все уникальные слова, встречающиеся в тексте, разделяя их пробелом. Слова должны быть отсортированы по убыванию их количества появления в тексте, а при одинаковой частоте появления — в алфавитном порядке.\n",
    "\n",
    "Словом считается последовательность непробельных символов идущих подряд, слова разделены одним или большим числом пробелов или символами конца строки.\n",
    "\n",
    "*Подсказка.* После того, как вы создадите словарь всех слов, вам захочется отсортировать его по частоте встречаемости слова. \n",
    "Вызвав метод dict.items() от вашего словаря вы получите список кортежей вида [('what', 2), ('hi', 2), ('is', 1)]. Чтобы получилось нужная сортировка такой список нужно сначала отсортировать по алфавиту от a до z (первый элемент), а затем по убыванию их количества появления в тексте. Эту задачу можно решить через две сортировки (и не забудьте про параметр key во второй!).\n",
    "\n",
    "*Подсказка 2.* Когда будете записывать слова в файл, не забудьте, что после последнего слова пробела быть не должно.\n",
    "\n",
    "**Входной файл: problem2.txt**  \n",
    "**Приложите к блокноту файл с ответом: output2.txt**\n",
    "\n",
    "Первое слово в правильном ответе: qzjijwnklo, последнее: zzzsrymltasziudkfpqn"
   ]
  },
  {
   "cell_type": "code",
   "execution_count": 10,
   "metadata": {},
   "outputs": [],
   "source": [
    "# ваше решение здесь\n",
    "# Словарь с частотой слов\n",
    "words = {}\n",
    "with open('problem2.txt', 'r', encoding='utf-8') as fh:\n",
    "    for line in fh.readlines():\n",
    "        for word in line.split():\n",
    "            if words.get(word):\n",
    "                words[word] += 1\n",
    "            else:\n",
    "                words[word] = 1\n",
    "\n",
    "# Получаем сортированный список слов\n",
    "words_sorted = []\n",
    "for word, frequency in sorted(sorted(words.items()),\n",
    "                              key = lambda x: x[1], reverse=True):\n",
    "    words_sorted.append(word)\n",
    "    #print(word, frequency)\n",
    "    \n",
    "    \n",
    "# Выводим результат в файл\n",
    "with open('output2.txt', 'w', encoding='utf-8') as fh:\n",
    "    fh.write(' '.join(words_sorted))"
   ]
  },
  {
   "cell_type": "markdown",
   "metadata": {},
   "source": [
    "# Задание 3. Сумма строк (1 балл)\n",
    "\n",
    "Дан файл, каждая строка которого может содержать одно или несколько целых чисел, разделенных одним или несколькими пробелами.\n",
    "\n",
    "Вычислите сумму чисел в каждой строке и выведите эти суммы через пробел (для каждой строки выводится сумма чисел в этой строке).\n",
    "\n",
    "В этой задаче вам нужно подсчитать ответ для данного входного файла. \n",
    "\n",
    "**Входной файл: problem3.txt**  \n",
    "**Ответ выведите в блокноте. **\n",
    "\n",
    "Первое число в ответе: 34568147, последнее: 111\n",
    "\n",
    "Например, если бы содержимое входного файла было следующим:\n",
    "\n",
    "```\n",
    "2 2\n",
    " 3    4\n",
    " 1       5\n",
    "```\n",
    "то в качестве ответа необходимо было бы сдать последовательность чисел\n",
    "\n",
    "4 7 6"
   ]
  },
  {
   "cell_type": "code",
   "execution_count": 11,
   "metadata": {},
   "outputs": [
    {
     "name": "stdout",
     "output_type": "stream",
     "text": [
      "34568147 255016 5617498 0 31397 17 10119996 111 "
     ]
    }
   ],
   "source": [
    "# ваше решение здесь\n",
    "with open('problem3.txt', 'r', encoding='utf-8') as fh:\n",
    "    for line in fh.readlines():\n",
    "        print(sum([int(s) for s in line.split()]), end=' ')\n",
    "            \n",
    "            "
   ]
  },
  {
   "cell_type": "markdown",
   "metadata": {},
   "source": [
    "# Задание 4: буквы, строки и слова (1.5 балла)\n",
    "Дан файл. Определите сколько в нем букв (латинского алфавита), слов, строк. Выведите три найденных числа в формате, приведенном в примере. Словом считается последовательность больших и маленьких латинских букв. Все остальные символы считаются разделителями слов. Если будете решать регулярками, то будьте аккуратны, потому что некоторые выражения \"захватывают\" кроме букв лишние символы. Если будете пользоваться методами строк, то .isalpha() проверяет на то, что строка является буквой.\n",
    "\n",
    "Пример входного файла:\n",
    "```\n",
    "Beautiful is better than ugly.\n",
    "Explicit is better than implicit.\n",
    "Simple is better than complex.\n",
    "Complex is better than complicated.\n",
    "```\n",
    "Пример ответа:\n",
    "\n",
    "```\n",
    "Input file contains:\n",
    "108 letters \n",
    "20 words \n",
    "4 lines \n",
    "```\n",
    "\n",
    "**Входной файл: problem4.txt**  \n",
    "**Ответ нужно вывести в блокноте по образцу в примере**\n",
    "\n",
    "В количестве букв первая цифра 4, а последняя 3.  \n",
    "В количестве слов: 1 и 6.  \n",
    "В количестве строк: 1 и 0.  "
   ]
  },
  {
   "cell_type": "code",
   "execution_count": 12,
   "metadata": {},
   "outputs": [
    {
     "name": "stdout",
     "output_type": "stream",
     "text": [
      "Input file contains:\n",
      "44473 letters\n",
      "11496 words\n",
      "1000 lines\n"
     ]
    }
   ],
   "source": [
    "# Ваше решение здесь\n",
    "import re\n",
    "\n",
    "with open('problem4.txt', 'r', encoding='utf-8') as fh:\n",
    "    text = fh.read()\n",
    "\n",
    "print('Input file contains:')\n",
    "\n",
    "print(\"%d letters\" % sum([c.isalpha() for c in text])) # исключаем не-буквы\n",
    "print(\"%d words\" % len(re.findall('([a-zA-Z]+)[^a-zA-Z]', text))) # просто .split() не делит слова с апострофами\n",
    "print(\"%d lines\" % len(re.findall(r'.+\\n', text))) # .split() отделяет последнюю пустую строку"
   ]
  },
  {
   "cell_type": "markdown",
   "metadata": {},
   "source": [
    "# Задание 5. Вася-завхоз (3 балла)\n",
    "\n",
    "Васю назначили завхозом в туристической группе и он подошёл к подготовке ответственно, составив справочник продуктов с указанием калорийности на 100 грамм, а также содержание белков, жиров и углеводов на 100 грамм продукта. Ему не удалось найти всю информацию, поэтому некоторые ячейки остались незаполненными (можно считать их значение равным нулю). Также он использовал какой-то странный офисный пакет и разделял целую и дробную часть чисел запятой. Упорядочите продукты по убыванию количества углеводов на 100 грамм. В случае, если продукты имеют одинаковую калорийность - упорядочите их по названию.\n",
    "\n",
    "*Подсказка:* сортировка здесь очень похожа на то, что вы делали с языком племени мумба-юмба.\n",
    "\n",
    "В качестве ответа необходимо вывести названия продуктов, по одному в строке.\n",
    "\n",
    "**Входной файл: problem5.csv**  \n",
    "**Ответ нужно вывести в блокноте**\n"
   ]
  },
  {
   "cell_type": "code",
   "execution_count": 13,
   "metadata": {},
   "outputs": [
    {
     "name": "stdout",
     "output_type": "stream",
     "text": [
      "Рис пропаренный Увелка\n",
      "Кус Кус\n",
      "Крупа гречневая\n",
      "Капеллини Макфа\n",
      "Каша Быстров\n",
      "Сухарики ржаные Finn Crisp\n",
      "Сухарики ржаные с семечками\n",
      "Суп говяжий с картофелем галагала\n",
      "Суп куриный с картофелем галагала\n",
      "Суп-харчо \"Острый\"\n",
      "Козинак арахисовый\n",
      "Суп-гуляш галагала\n",
      "Борщ Московский Галагала\n",
      "Суп гороховый с копченостями\n",
      "Суп гороховый с копченостями галагала\n",
      "Шоколад молочный миндаль\n",
      "Шоколад молочный какао\n",
      "Хлебцы с чесноком и луком\n",
      "Суп томатный с рисом\n",
      "Шоколад ремесленный\n",
      "Козинак подсолнечный\n",
      "Сухофрукты\n",
      "Хлебцы льняные \"Тайские\"\n",
      "Омлет с грибами галагала\n",
      "Омлет с копченостями галагала\n",
      "Хлебцы льняные Морские\n",
      "Балык \"Королевский\"\n",
      "Говядина Кронидов\n",
      "Говядина сублимрованная\n",
      "Картофель сушеный\n",
      "Колбаса с/к \"Еврейская полусухая\"\n",
      "Паутина\n",
      "Свинина Кронидов\n",
      "Свинина сублимрованная\n",
      "Сыр Гауда\n",
      "Сыр Маасдам\n",
      "Сыр Чеддер\n"
     ]
    }
   ],
   "source": [
    "# ваше решение здесь\n",
    "# Словарь с содержанием углеводов\n",
    "food_carbs = []\n",
    "\n",
    "# Читаем данные о калорийности\n",
    "with open('problem5.csv', 'r', encoding='utf-8') as fh:\n",
    "    for line in fh.readlines()[1:]: #пропускаем строку заголовков\n",
    "        tokens = line.split(',')\n",
    "        food = tokens[0].strip()\n",
    "        carbs = tokens[-1].strip() # всегда получается 5 токенов, но есть не содержащие числа\n",
    "        if len(carbs) > 1:\n",
    "            carbs = float(carbs)\n",
    "        else:\n",
    "            carbs = 0        \n",
    "        food_carbs.append([food, carbs])\n",
    "        \n",
    "# Сортируем продукты по алфавиту\n",
    "food_carbs = sorted(food_carbs) \n",
    "\n",
    "# Сортируем продукты по содержанию углеводов\n",
    "sorted_by_carbs = sorted(food_carbs, key = lambda x: x[1], reverse=True)\n",
    "        \n",
    "\n",
    "# Печатаем:\n",
    "for f in sorted_by_carbs:\n",
    "    print(f[0])"
   ]
  },
  {
   "cell_type": "markdown",
   "metadata": {},
   "source": [
    "# Задание 6. Слова на а и е (1 балл)"
   ]
  },
  {
   "cell_type": "markdown",
   "metadata": {},
   "source": [
    "Найдите в тексте слова, начинающиеся на а и на е c помощью *методов строк*. \n",
    "В ответе выведите найденные слова через пробел."
   ]
  },
  {
   "cell_type": "code",
   "execution_count": 14,
   "metadata": {},
   "outputs": [],
   "source": [
    "text = \"The following example creates an ArrayList with a capacity of 50 elements.\\\n",
    "        Four elements are then added to the ArrayList and the ArrayList is trimmed accordingly.\"\n",
    "# ваше решение"
   ]
  },
  {
   "cell_type": "code",
   "execution_count": 15,
   "metadata": {},
   "outputs": [
    {
     "name": "stdout",
     "output_type": "stream",
     "text": [
      "example an ArrayList a elements elements are added ArrayList and ArrayList accordingly\n"
     ]
    }
   ],
   "source": [
    "# Я не придумал, как можно убрать точки в конце слов более простым методом.\n",
    "print(*[''.join([c for c in w if c.isalpha()]) \n",
    "        for w in text.split() if w[0].lower() in ['a', 'e']],\n",
    "     sep = ' ')"
   ]
  },
  {
   "cell_type": "markdown",
   "metadata": {},
   "source": [
    "Найдите в тексте слова, начинающиеся на а и на е c помощью *регулярных выражений*.\n",
    "В ответе выведите найденные слова через пробел."
   ]
  },
  {
   "cell_type": "code",
   "execution_count": 16,
   "metadata": {},
   "outputs": [],
   "source": [
    "import re\n",
    "text = '''\n",
    "        Ihr naht euch wieder, schwankende Gestalten,\n",
    "        Die früh sich einst dem trüben Blick gezeigt.\n",
    "        Versuch’ ich wohl, euch diesmal festzuhalten?\n",
    "        Fühl’ ich mein Herz noch jenem Wahn geneigt?\n",
    "        '''\n",
    "# ваше решение"
   ]
  },
  {
   "cell_type": "code",
   "execution_count": 17,
   "metadata": {},
   "outputs": [
    {
     "name": "stdout",
     "output_type": "stream",
     "text": [
      "euch einst euch\n"
     ]
    }
   ],
   "source": [
    "print(*re.findall(r'\\b[aeAE][a-zA-Zа-яА-ЯёЁ]*', text),\n",
    "      sep = ' ')"
   ]
  },
  {
   "cell_type": "markdown",
   "metadata": {},
   "source": [
    "Или так, если могут быть цифры в середине слов, типа как здесь https://www.bbc.com/news/world-us-canada-52557291"
   ]
  },
  {
   "cell_type": "code",
   "execution_count": 18,
   "metadata": {},
   "outputs": [
    {
     "name": "stdout",
     "output_type": "stream",
     "text": [
      "euch einst euch\n"
     ]
    }
   ],
   "source": [
    "print(*re.findall(r'\\b[aeAE]\\w*', text),\n",
    "      sep = ' ')"
   ]
  }
 ],
 "metadata": {
  "kernelspec": {
   "display_name": "Python 3",
   "language": "python",
   "name": "python3"
  },
  "language_info": {
   "codemirror_mode": {
    "name": "ipython",
    "version": 3
   },
   "file_extension": ".py",
   "mimetype": "text/x-python",
   "name": "python",
   "nbconvert_exporter": "python",
   "pygments_lexer": "ipython3",
   "version": "3.8.3"
  }
 },
 "nbformat": 4,
 "nbformat_minor": 4
}

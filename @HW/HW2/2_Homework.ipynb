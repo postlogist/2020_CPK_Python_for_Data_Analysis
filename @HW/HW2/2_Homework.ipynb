{
 "cells": [
  {
   "cell_type": "markdown",
   "metadata": {},
   "source": [
    "Программа повышения квалификации (научно-педагогических) работников НИУ ВШЭ\n",
    "\n",
    "# Python для исследователей\n",
    "\n",
    "Домашняя работа # 2\n",
    "\n",
    "*Автор: Рогович Татьяна, НИУ ВШЭ*\n",
    "\n",
    "#### Disclaimer\n",
    "В некоторых заданиях нужно считывать файлы и записывать ответ в файл. Пожалуйста, читайте файлы из той же папки, где лежит к ним блокнот (не прописывайте к ним полный путь). Файл с ответом нужно вложить в архив с блокнотом и архив добавить в Dropbox.\n",
    "\n",
    "Всего можно набрать 11 баллов, максимальная оценка за работу - 10."
   ]
  },
  {
   "cell_type": "markdown",
   "metadata": {},
   "source": [
    "# Задание 1: Turtle (2 балла)\n",
    "\n",
    "У кого-то может не установиться нужный модуль, а ошибки бывают слишком экзотические, поэтому не мучайтесь с установкой, если вдруг сразу и легко не получилось, а сделайте это задание на [jupyter.org/try](jupyter.org/try) (нужно выбрать classic notebook - это онлайн демо-версия нашего привычного ноутбука). Там тоже нужно установить модуль (но он грузится не к вам на компьютер, поэтому проблем не будет), а дальше все как в задании. После того как код заработает, скопируйте его в этот блокнот.\n",
    "\n",
    "Для выполнения этого задания нужно установить и импортировать модуль turtle - это черепашка с привязанной к спине кисточкой, движения которой мы программируем. Исполните следующую ячейку, чтобы установить нужный модуль.\n",
    "\n",
    "[Документация](https://github.com/takluyver/mobilechelonian)"
   ]
  },
  {
   "cell_type": "code",
   "execution_count": 1,
   "metadata": {},
   "outputs": [
    {
     "name": "stdout",
     "output_type": "stream",
     "text": [
      "Requirement already satisfied: mobilechelonian in c:\\users\\rogov\\anaconda3\\lib\\site-packages (0.5)\n",
      "Requirement already satisfied: IPython in c:\\users\\rogov\\anaconda3\\lib\\site-packages (from mobilechelonian) (6.4.0)\n",
      "Requirement already satisfied: ipywidgets>=7.0.0 in c:\\users\\rogov\\anaconda3\\lib\\site-packages (from mobilechelonian) (7.2.1)\n",
      "Requirement already satisfied: jedi>=0.10 in c:\\users\\rogov\\anaconda3\\lib\\site-packages (from IPython->mobilechelonian) (0.12.0)\n",
      "Requirement already satisfied: pickleshare in c:\\users\\rogov\\anaconda3\\lib\\site-packages (from IPython->mobilechelonian) (0.7.4)\n",
      "Requirement already satisfied: prompt-toolkit<2.0.0,>=1.0.15 in c:\\users\\rogov\\anaconda3\\lib\\site-packages (from IPython->mobilechelonian) (1.0.15)\n",
      "Requirement already satisfied: decorator in c:\\users\\rogov\\anaconda3\\lib\\site-packages (from IPython->mobilechelonian) (4.3.0)\n",
      "Requirement already satisfied: pygments in c:\\users\\rogov\\anaconda3\\lib\\site-packages (from IPython->mobilechelonian) (2.2.0)\n",
      "Requirement already satisfied: setuptools>=18.5 in c:\\users\\rogov\\anaconda3\\lib\\site-packages (from IPython->mobilechelonian) (41.0.1)\n",
      "Requirement already satisfied: colorama; sys_platform == \"win32\" in c:\\users\\rogov\\anaconda3\\lib\\site-packages (from IPython->mobilechelonian) (0.3.9)\n",
      "Requirement already satisfied: backcall in c:\\users\\rogov\\anaconda3\\lib\\site-packages (from IPython->mobilechelonian) (0.1.0)\n",
      "Requirement already satisfied: simplegeneric>0.8 in c:\\users\\rogov\\anaconda3\\lib\\site-packages (from IPython->mobilechelonian) (0.8.1)\n",
      "Requirement already satisfied: traitlets>=4.2 in c:\\users\\rogov\\anaconda3\\lib\\site-packages (from IPython->mobilechelonian) (4.3.2)\n",
      "Requirement already satisfied: ipykernel>=4.5.1 in c:\\users\\rogov\\anaconda3\\lib\\site-packages (from ipywidgets>=7.0.0->mobilechelonian) (4.8.2)\n",
      "Requirement already satisfied: nbformat>=4.2.0 in c:\\users\\rogov\\anaconda3\\lib\\site-packages (from ipywidgets>=7.0.0->mobilechelonian) (4.4.0)\n",
      "Requirement already satisfied: widgetsnbextension~=3.2.0 in c:\\users\\rogov\\anaconda3\\lib\\site-packages (from ipywidgets>=7.0.0->mobilechelonian) (3.2.1)\n",
      "Requirement already satisfied: parso>=0.2.0 in c:\\users\\rogov\\anaconda3\\lib\\site-packages (from jedi>=0.10->IPython->mobilechelonian) (0.2.0)\n",
      "Requirement already satisfied: six>=1.9.0 in c:\\users\\rogov\\anaconda3\\lib\\site-packages (from prompt-toolkit<2.0.0,>=1.0.15->IPython->mobilechelonian) (1.11.0)\n",
      "Requirement already satisfied: wcwidth in c:\\users\\rogov\\anaconda3\\lib\\site-packages (from prompt-toolkit<2.0.0,>=1.0.15->IPython->mobilechelonian) (0.1.7)\n",
      "Requirement already satisfied: ipython_genutils in c:\\users\\rogov\\anaconda3\\lib\\site-packages (from traitlets>=4.2->IPython->mobilechelonian) (0.2.0)\n",
      "Requirement already satisfied: jupyter_client in c:\\users\\rogov\\anaconda3\\lib\\site-packages (from ipykernel>=4.5.1->ipywidgets>=7.0.0->mobilechelonian) (5.2.3)\n",
      "Requirement already satisfied: tornado>=4.0 in c:\\users\\rogov\\anaconda3\\lib\\site-packages (from ipykernel>=4.5.1->ipywidgets>=7.0.0->mobilechelonian) (5.0.2)\n",
      "Requirement already satisfied: jsonschema!=2.5.0,>=2.4 in c:\\users\\rogov\\anaconda3\\lib\\site-packages (from nbformat>=4.2.0->ipywidgets>=7.0.0->mobilechelonian) (2.6.0)\n",
      "Requirement already satisfied: jupyter_core in c:\\users\\rogov\\anaconda3\\lib\\site-packages (from nbformat>=4.2.0->ipywidgets>=7.0.0->mobilechelonian) (4.4.0)\n",
      "Requirement already satisfied: notebook>=4.4.1 in c:\\users\\rogov\\anaconda3\\lib\\site-packages (from widgetsnbextension~=3.2.0->ipywidgets>=7.0.0->mobilechelonian) (5.5.0)\n",
      "Requirement already satisfied: pyzmq>=13 in c:\\users\\rogov\\anaconda3\\lib\\site-packages (from jupyter_client->ipykernel>=4.5.1->ipywidgets>=7.0.0->mobilechelonian) (17.0.0)\n",
      "Requirement already satisfied: python-dateutil>=2.1 in c:\\users\\rogov\\anaconda3\\lib\\site-packages (from jupyter_client->ipykernel>=4.5.1->ipywidgets>=7.0.0->mobilechelonian) (2.7.3)\n",
      "Requirement already satisfied: terminado>=0.8.1 in c:\\users\\rogov\\anaconda3\\lib\\site-packages (from notebook>=4.4.1->widgetsnbextension~=3.2.0->ipywidgets>=7.0.0->mobilechelonian) (0.8.1)\n",
      "Requirement already satisfied: nbconvert in c:\\users\\rogov\\anaconda3\\lib\\site-packages (from notebook>=4.4.1->widgetsnbextension~=3.2.0->ipywidgets>=7.0.0->mobilechelonian) (5.3.1)\n",
      "Requirement already satisfied: jinja2 in c:\\users\\rogov\\anaconda3\\lib\\site-packages (from notebook>=4.4.1->widgetsnbextension~=3.2.0->ipywidgets>=7.0.0->mobilechelonian) (2.10)\n",
      "Requirement already satisfied: Send2Trash in c:\\users\\rogov\\anaconda3\\lib\\site-packages (from notebook>=4.4.1->widgetsnbextension~=3.2.0->ipywidgets>=7.0.0->mobilechelonian) (1.5.0)\n",
      "Requirement already satisfied: mistune>=0.7.4 in c:\\users\\rogov\\anaconda3\\lib\\site-packages (from nbconvert->notebook>=4.4.1->widgetsnbextension~=3.2.0->ipywidgets>=7.0.0->mobilechelonian) (0.8.3)\n",
      "Requirement already satisfied: entrypoints>=0.2.2 in c:\\users\\rogov\\anaconda3\\lib\\site-packages (from nbconvert->notebook>=4.4.1->widgetsnbextension~=3.2.0->ipywidgets>=7.0.0->mobilechelonian) (0.2.3)\n",
      "Requirement already satisfied: bleach in c:\\users\\rogov\\anaconda3\\lib\\site-packages (from nbconvert->notebook>=4.4.1->widgetsnbextension~=3.2.0->ipywidgets>=7.0.0->mobilechelonian) (2.1.3)\n",
      "Requirement already satisfied: pandocfilters>=1.4.1 in c:\\users\\rogov\\anaconda3\\lib\\site-packages (from nbconvert->notebook>=4.4.1->widgetsnbextension~=3.2.0->ipywidgets>=7.0.0->mobilechelonian) (1.4.2)\n",
      "Requirement already satisfied: testpath in c:\\users\\rogov\\anaconda3\\lib\\site-packages (from nbconvert->notebook>=4.4.1->widgetsnbextension~=3.2.0->ipywidgets>=7.0.0->mobilechelonian) (0.3.1)\n",
      "Requirement already satisfied: MarkupSafe>=0.23 in c:\\users\\rogov\\anaconda3\\lib\\site-packages (from jinja2->notebook>=4.4.1->widgetsnbextension~=3.2.0->ipywidgets>=7.0.0->mobilechelonian) (1.0)\n",
      "Requirement already satisfied: html5lib!=1.0b1,!=1.0b2,!=1.0b3,!=1.0b4,!=1.0b5,!=1.0b6,!=1.0b7,!=1.0b8,>=0.99999999pre in c:\\users\\rogov\\anaconda3\\lib\\site-packages (from bleach->nbconvert->notebook>=4.4.1->widgetsnbextension~=3.2.0->ipywidgets>=7.0.0->mobilechelonian) (1.0.1)\n",
      "Requirement already satisfied: webencodings in c:\\users\\rogov\\anaconda3\\lib\\site-packages (from html5lib!=1.0b1,!=1.0b2,!=1.0b3,!=1.0b4,!=1.0b5,!=1.0b6,!=1.0b7,!=1.0b8,>=0.99999999pre->bleach->nbconvert->notebook>=4.4.1->widgetsnbextension~=3.2.0->ipywidgets>=7.0.0->mobilechelonian) (0.5.1)\n"
     ]
    },
    {
     "name": "stderr",
     "output_type": "stream",
     "text": [
      "WARNING: You are using pip version 20.1; however, version 20.1.1 is available.\n",
      "You should consider upgrading via the 'c:\\users\\rogov\\anaconda3\\python.exe -m pip install --upgrade pip' command.\n"
     ]
    }
   ],
   "source": [
    "!pip install mobilechelonian"
   ]
  },
  {
   "cell_type": "markdown",
   "metadata": {},
   "source": [
    "Ниже показан пример, как нарисовать квадрат."
   ]
  },
  {
   "cell_type": "code",
   "execution_count": 4,
   "metadata": {},
   "outputs": [
    {
     "data": {
      "application/vnd.jupyter.widget-view+json": {
       "model_id": "1fb5fc8cb128432fa4bddeb6bf5d273e",
       "version_major": 2,
       "version_minor": 0
      },
      "text/plain": [
       "Turtle()"
      ]
     },
     "metadata": {},
     "output_type": "display_data"
    }
   ],
   "source": [
    "from mobilechelonian import Turtle # импортируем модуль для рисования\n",
    "\n",
    "t = Turtle() # создаем класс нашей черепашки\n",
    "\n",
    "t.speed(1) # задаем скорость\n",
    "t.pendown() # ставим \"кисть\" на холст\n",
    "t.forward(100) # идем вперед на 100 шагов\n",
    "t.right(90) # поворачиваем на 90 градусов вправо\n",
    "t.forward(100)\n",
    "t.right(90)\n",
    "t.forward(100)\n",
    "t.right(90)\n",
    "t.forward(100)\n",
    "t.penup() # поднимаем кисть"
   ]
  },
  {
   "cell_type": "markdown",
   "metadata": {},
   "source": [
    "Теперь то же самое с циклом. Также мы убрали команды penup и pendown, потому что по умолчанию кисть стоит на холсте, и в этой программе эта операция излишня."
   ]
  },
  {
   "cell_type": "code",
   "execution_count": 5,
   "metadata": {},
   "outputs": [
    {
     "data": {
      "application/vnd.jupyter.widget-view+json": {
       "model_id": "146dc07662604b00b55a0be9eeb37037",
       "version_major": 2,
       "version_minor": 0
      },
      "text/plain": [
       "Turtle()"
      ]
     },
     "metadata": {},
     "output_type": "display_data"
    }
   ],
   "source": [
    "from mobilechelonian import Turtle # импортируем модуль для рисования\n",
    "\n",
    "t = Turtle() # создаем класс нашей черепашки\n",
    "\n",
    "t.speed(5) # задаем скорость\n",
    "t.forward(100)\n",
    "\n",
    "for i in range(3):\n",
    "    t.right(90)\n",
    "    t.forward(100)"
   ]
  },
  {
   "cell_type": "markdown",
   "metadata": {},
   "source": [
    "Рисуем круг."
   ]
  },
  {
   "cell_type": "code",
   "execution_count": 6,
   "metadata": {},
   "outputs": [
    {
     "data": {
      "application/vnd.jupyter.widget-view+json": {
       "model_id": "bd5ca9be2b0148daa45bc7f5a4d5bb4b",
       "version_major": 2,
       "version_minor": 0
      },
      "text/plain": [
       "Turtle()"
      ]
     },
     "metadata": {},
     "output_type": "display_data"
    }
   ],
   "source": [
    "t = Turtle() # создаем класс нашей черепашки\n",
    "\n",
    "t.speed(5) # задаем скорость\n",
    "\n",
    "t.penup() # поднимаем кисть с холста, проходим вперед ничего не рисуя, чтобы наш круг точно вместился\n",
    "t.left(90) # поворачиваем\n",
    "t.forward(200) # идем вперед\n",
    "t.right(90) # опять поворачиваем\n",
    "t.pendown() # ставим кисть обратно на холст, иначе не будет рисовать\n",
    "colours = [\"yellow\", \"gold\", \"orange\", \"red\", \"maroon\", \"violet\", \"magenta\", \"gray\", \"white\"]\n",
    "\n",
    "for i in range (0,180):\n",
    "    t.pencolor(colours[i%7]) # есть список цветов, выбираем цвет в зависимости от i\n",
    "    t.right(2) # поворачиваемся на два градус\n",
    "    t.forward(5) # проходим 5 единиц"
   ]
  },
  {
   "cell_type": "markdown",
   "metadata": {},
   "source": [
    "#### Лепесток (1 балл)\n",
    "Вам задана функция left_turn(), которая рисует дугу. \n",
    "Создайте функцию petal, которая будет, используя функцию left_turn(), рисовать лепесток целиком и возвращать черепашку в центр цветка.\n",
    "\n",
    "Запустив функцию petal в цикле нарисуйте цветок с пятью лепестками (см. картинку).\n",
    "![](https://github.com/rogovich/2020_DPO_PythonProg/blob/master/@Problems/petal.png?raw=true)"
   ]
  },
  {
   "cell_type": "code",
   "execution_count": 7,
   "metadata": {},
   "outputs": [
    {
     "data": {
      "application/vnd.jupyter.widget-view+json": {
       "model_id": "434660b0366741cb9059ce6cbb3ade94",
       "version_major": 2,
       "version_minor": 0
      },
      "text/plain": [
       "Turtle()"
      ]
     },
     "metadata": {},
     "output_type": "display_data"
    }
   ],
   "source": [
    "# дополните код в этой ячейке\n",
    "t = Turtle()\n",
    "t.speed(5)\n",
    "t.pencolor('magenta')\n",
    "\n",
    "def left_turn():\n",
    "    for i in range(10):\n",
    "        t.forward(15)\n",
    "        t.left(9)\n",
    "        \n",
    "left_turn()"
   ]
  },
  {
   "cell_type": "markdown",
   "metadata": {},
   "source": [
    "#### Звезда (1 балл)\n",
    "Напишите функцию, которая берет аргументом число - количество вершин звезды. Ваша функция должна рисовать звезду с заданным количеством вершин. Не со всеми числами функция будет работать корректно, поэтому проверьте ее работу для 5, 9 и 15 вершин (в трех разных ячейках). Длина луча 100 единиц.\n",
    "\n",
    "*Подсказка:* Угол поворота черепашки зависит от количества вершин - она поворачивается на 180 градусов минус 180 градусов разделенные на количество вершин."
   ]
  },
  {
   "cell_type": "code",
   "execution_count": 8,
   "metadata": {},
   "outputs": [
    {
     "data": {
      "application/vnd.jupyter.widget-view+json": {
       "model_id": "6013331d15364210ae5fbabb1fd8c455",
       "version_major": 2,
       "version_minor": 0
      },
      "text/plain": [
       "Turtle()"
      ]
     },
     "metadata": {},
     "output_type": "display_data"
    }
   ],
   "source": [
    "# ваше решение здесь\n",
    "\n",
    "t = Turtle()\n",
    "t.speed(5)\n",
    "\n",
    "# пример, как нарисовать треугольник (это на самом деле релевантно!)\n",
    "for i in range(3):\n",
    "    t.right(180 - 180/3) \n",
    "    t.forward(100)"
   ]
  },
  {
   "cell_type": "markdown",
   "metadata": {},
   "source": [
    "# Задание 2: Язык племени Мумба-юмба (2.5 балла)"
   ]
  },
  {
   "cell_type": "markdown",
   "metadata": {},
   "source": [
    "Дан текст на языке племени Мумба-Юмба. Запишите в файл все уникальные слова, встречающиеся в тексте, разделяя их пробелом. Слова должны быть отсортированы по убыванию их количества появления в тексте, а при одинаковой частоте появления — в алфавитном порядке.\n",
    "\n",
    "Словом считается последовательность непробельных символов идущих подряд, слова разделены одним или большим числом пробелов или символами конца строки.\n",
    "\n",
    "*Подсказка.* После того, как вы создадите словарь всех слов, вам захочется отсортировать его по частоте встречаемости слова. \n",
    "Вызвав метод dict.items() от вашего словаря вы получите список кортежей вида [('what', 2), ('hi', 2), ('is', 1)]. Чтобы получилось нужная сортировка такой список нужно сначала отсортировать по алфавиту от a до z (первый элемент), а затем по убыванию их количества появления в тексте. Эту задачу можно решить через две сортировки (и не забудьте про параметр key во второй!).\n",
    "\n",
    "*Подсказка 2.* Когда будете записывать слова в файл, не забудьте, что после последнего слова пробела быть не должно.\n",
    "\n",
    "**Входной файл: problem2.txt**  \n",
    "**Приложите к блокноту файл с ответом: output2.txt**\n",
    "\n",
    "Первое слово в правильном ответе: qzjijwnklo, последнее: zzzsrymltasziudkfpqn"
   ]
  },
  {
   "cell_type": "code",
   "execution_count": 9,
   "metadata": {},
   "outputs": [],
   "source": [
    "# ваше решение здесь"
   ]
  },
  {
   "cell_type": "markdown",
   "metadata": {},
   "source": [
    "# Задание 3. Сумма строк (1 балл)\n",
    "\n",
    "Дан файл, каждая строка которого может содержать одно или несколько целых чисел, разделенных одним или несколькими пробелами.\n",
    "\n",
    "Вычислите сумму чисел в каждой строке и выведите эти суммы через пробел (для каждой строки выводится сумма чисел в этой строке).\n",
    "\n",
    "В этой задаче вам нужно подсчитать ответ для данного входного файла. \n",
    "\n",
    "**Входной файл: problem3.txt**  \n",
    "**Ответ выведите в блокноте. **\n",
    "\n",
    "Первое число в ответе: 34568147, последнее: 111\n",
    "\n",
    "Например, если бы содержимое входного файла было следующим:\n",
    "\n",
    "```\n",
    "2 2\n",
    " 3    4\n",
    " 1       5\n",
    "```\n",
    "то в качестве ответа необходимо было бы сдать последовательность чисел\n",
    "\n",
    "4 7 6"
   ]
  },
  {
   "cell_type": "code",
   "execution_count": 7,
   "metadata": {},
   "outputs": [],
   "source": [
    "# ваше решение здесь"
   ]
  },
  {
   "cell_type": "markdown",
   "metadata": {},
   "source": [
    "# Задание 4: буквы, строки и слова (1.5 балла)\n",
    "Дан файл. Определите сколько в нем букв (латинского алфавита), слов, строк. Выведите три найденных числа в формате, приведенном в примере. Словом считается последовательность больших и маленьких латинских букв. Все остальные символы считаются разделителями слов. Если будете решать регулярками, то будьте аккуратны, потому что некоторые выражения \"захватывают\" кроме букв лишние символы. Если будете пользоваться методами строк, то .isalpha() проверяет на то, что строка является буквой.\n",
    "\n",
    "Пример входного файла:\n",
    "```\n",
    "Beautiful is better than ugly.\n",
    "Explicit is better than implicit.\n",
    "Simple is better than complex.\n",
    "Complex is better than complicated.\n",
    "```\n",
    "Пример ответа:\n",
    "\n",
    "```\n",
    "Input file contains:\n",
    "108 letters \n",
    "20 words \n",
    "4 lines \n",
    "```\n",
    "\n",
    "**Входной файл: problem4.txt**  \n",
    "**Ответ нужно вывести в блокноте по образцу в примере**\n",
    "\n",
    "В количестве букв первая цифра 4, а последняя 3.  \n",
    "В количестве слов: 1 и 6.  \n",
    "В количестве строк: 1 и 0.  "
   ]
  },
  {
   "cell_type": "code",
   "execution_count": 8,
   "metadata": {},
   "outputs": [],
   "source": [
    "# Ваше решение здесь"
   ]
  },
  {
   "cell_type": "markdown",
   "metadata": {},
   "source": [
    "# Задание 5. Вася-завхоз (3 балла)\n",
    "\n",
    "Васю назначили завхозом в туристической группе и он подошёл к подготовке ответственно, составив справочник продуктов с указанием калорийности на 100 грамм, а также содержание белков, жиров и углеводов на 100 грамм продукта. Ему не удалось найти всю информацию, поэтому некоторые ячейки остались незаполненными (можно считать их значение равным нулю). Также он использовал какой-то странный офисный пакет и разделял целую и дробную часть чисел запятой. Упорядочите продукты по убыванию количества углеводов на 100 грамм. В случае, если продукты имеют одинаковую калорийность - упорядочите их по названию.\n",
    "\n",
    "*Подсказка:* сортировка здесь очень похожа на то, что вы делали с языком племени мумба-юмба.\n",
    "\n",
    "В качестве ответа необходимо вывести названия продуктов, по одному в строке.\n",
    "\n",
    "**Входной файл: problem5.csv**  \n",
    "**Ответ нужно вывести в блокноте**\n"
   ]
  },
  {
   "cell_type": "code",
   "execution_count": 24,
   "metadata": {},
   "outputs": [],
   "source": [
    "# ваше решение здесь"
   ]
  },
  {
   "cell_type": "markdown",
   "metadata": {},
   "source": [
    "### Задание 6. Слова на а и е (1 балл)"
   ]
  },
  {
   "cell_type": "markdown",
   "metadata": {},
   "source": [
    "Найдите в тексте слова, начинающиеся на а и на е c помощью *методов строк*. \n",
    "В ответе выведите найденные слова через пробел."
   ]
  },
  {
   "cell_type": "code",
   "execution_count": 31,
   "metadata": {},
   "outputs": [],
   "source": [
    "text = \"The following example creates an ArrayList with a capacity of 50 elements.\\\n",
    "        Four elements are then added to the ArrayList and the ArrayList is trimmed accordingly.\"\n",
    "# ваше решение"
   ]
  },
  {
   "cell_type": "markdown",
   "metadata": {},
   "source": [
    "Найдите в тексте слова, начинающиеся на а и на е c помощью *регулярных выражений*.\n",
    "В ответе выведите найденные слова через пробел."
   ]
  },
  {
   "cell_type": "code",
   "execution_count": 25,
   "metadata": {},
   "outputs": [],
   "source": [
    "import re\n",
    "text = '''\n",
    "        Ihr naht euch wieder, schwankende Gestalten,\n",
    "        Die früh sich einst dem trüben Blick gezeigt.\n",
    "        Versuch’ ich wohl, euch diesmal festzuhalten?\n",
    "        Fühl’ ich mein Herz noch jenem Wahn geneigt?\n",
    "        '''\n",
    "# ваше решение"
   ]
  }
 ],
 "metadata": {
  "kernelspec": {
   "display_name": "Python 3",
   "language": "python",
   "name": "python3"
  },
  "language_info": {
   "codemirror_mode": {
    "name": "ipython",
    "version": 3
   },
   "file_extension": ".py",
   "mimetype": "text/x-python",
   "name": "python",
   "nbconvert_exporter": "python",
   "pygments_lexer": "ipython3",
   "version": "3.6.5"
  }
 },
 "nbformat": 4,
 "nbformat_minor": 2
}

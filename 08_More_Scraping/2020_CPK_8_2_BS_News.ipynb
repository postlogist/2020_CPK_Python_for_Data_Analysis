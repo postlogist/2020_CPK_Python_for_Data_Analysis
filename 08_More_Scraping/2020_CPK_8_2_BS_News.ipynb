{
 "cells": [
  {
   "cell_type": "markdown",
   "metadata": {},
   "source": [
    "Программа повышения квалификации (научно-педагогических) работников НИУ ВШЭ\n",
    "\n",
    "# Python для исследователей\n",
    "\n",
    "*Автор: Алла Тамбовцева, НИУ ВШЭ*  \n",
    "\n",
    "## Web-scraping: скрэйпинг новостного сайта"
   ]
  },
  {
   "cell_type": "markdown",
   "metadata": {},
   "source": [
    "Мы уже немного познакомились со структурой html-файлов, теперь попробуем выгрузить информацию из реальной страницы, а точнее, с реального сайта [nplus1.ru](https://nplus1.ru/).\n",
    "\n",
    "**Наша задача:** выгрузить недавние новости в датафрейм `pandas`, чтобы потом сохранить все в csv-файл.\n",
    "\n",
    "Сначала сгрузим весь html-код страницы и сохраним его в отдельную переменную. Для этого нам понадобится библиотека `requests`. Импортируем её:"
   ]
  },
  {
   "cell_type": "code",
   "execution_count": 1,
   "metadata": {},
   "outputs": [],
   "source": [
    "import requests"
   ]
  },
  {
   "cell_type": "markdown",
   "metadata": {},
   "source": [
    "Сохраним ссылку на главную страницу сайта в переменную `url` для удобства и выгрузим страницу. (Разумеется, это будет работать при подключении к интернету. Если соединение будет отключено, Python выдаст `NewConnectionError`)."
   ]
  },
  {
   "cell_type": "code",
   "execution_count": 2,
   "metadata": {},
   "outputs": [],
   "source": [
    "url = 'https://nplus1.ru/' # сохраняем\n",
    "page = requests.get(url) # загружаем страницу по ссылке"
   ]
  },
  {
   "cell_type": "markdown",
   "metadata": {},
   "source": [
    "Если мы просто посмотрим на объект, мы ничего особенного не увидим:"
   ]
  },
  {
   "cell_type": "code",
   "execution_count": 3,
   "metadata": {},
   "outputs": [
    {
     "data": {
      "text/plain": [
       "<Response [200]>"
      ]
     },
     "execution_count": 3,
     "metadata": {},
     "output_type": "execute_result"
    }
   ],
   "source": [
    "page  # response 200 - страница загружена"
   ]
  },
  {
   "cell_type": "markdown",
   "metadata": {},
   "source": [
    "Импортируем функцию `BeautifulSoup` из библиотеки `bs4` (от *beautifulsoup4*) и заберём со страницы `page` код html в виде текста. "
   ]
  },
  {
   "cell_type": "code",
   "execution_count": 3,
   "metadata": {},
   "outputs": [],
   "source": [
    "from bs4 import BeautifulSoup  # не спрашивайте, почему BeautifulSoup"
   ]
  },
  {
   "cell_type": "code",
   "execution_count": 4,
   "metadata": {},
   "outputs": [],
   "source": [
    "soup = BeautifulSoup(page.text, 'lxml')"
   ]
  },
  {
   "cell_type": "markdown",
   "metadata": {},
   "source": [
    "Если выведем `soup` на экран, мы увидим то же самое, что в режиме разработчика или в режиме происмотра исходного кода (`view-source` через *Ctrl+U* в Google Chrome)."
   ]
  },
  {
   "cell_type": "code",
   "execution_count": null,
   "metadata": {},
   "outputs": [],
   "source": [
    "# soup"
   ]
  },
  {
   "cell_type": "markdown",
   "metadata": {},
   "source": [
    "Для просмотра выглядит не очень удобно.  «Причешем» наш `soup` – воспользуемся методом `.prettify()` в сочетании с функцией `print()`."
   ]
  },
  {
   "cell_type": "code",
   "execution_count": null,
   "metadata": {},
   "outputs": [],
   "source": [
    "# print(soup.prettify())"
   ]
  },
  {
   "cell_type": "markdown",
   "metadata": {},
   "source": [
    "В такой выдаче ориентироваться гораздо удобнее (но при желании, то же можно увидеть в браузере, на большом экране)."
   ]
  },
  {
   "cell_type": "markdown",
   "metadata": {},
   "source": [
    "Чтобы сгрузить все новости с главной страницы сайта, нужно собрать все ссылки на страницы с этими новостями. Ссылки в html-файле всегда заключены в тэг `<a></a>` и имеют атрибут `href`. Посмотрим на кусочки кода, соответствующие всем ссылкам на главной странице сайта:"
   ]
  },
  {
   "cell_type": "code",
   "execution_count": 6,
   "metadata": {},
   "outputs": [
    {
     "name": "stdout",
     "output_type": "stream",
     "text": [
      "#\n",
      "/\n",
      "#\n",
      "#\n",
      "/rubric/astronomy\n",
      "/rubric/physics\n",
      "/rubric/biology\n",
      "/rubric/robots-drones\n",
      "/theme/explainatorium\n",
      "/theme/bookshelf\n",
      "/theme/Courses\n",
      "/theme/coronavirus-history\n",
      "/\n",
      "#\n",
      "/rubric/astronomy\n",
      "/rubric/physics\n",
      "/rubric/biology\n",
      "/rubric/robots-drones\n",
      "#\n",
      "/theme/explainatorium\n",
      "/theme/bookshelf\n",
      "/theme/Courses\n",
      "/theme/coronavirus-history\n",
      "https://nplus1.ru/blog/2020/04/02/marsphone\n",
      "https://nplus1.ru/blog/2020/04/02/marsphone\n",
      "https://nplus1.ru/blog/2020/04/02/low\n",
      "https://nplus1.ru/blog/2020/03/23/pompeiis-best-houses\n",
      "https://nplus1.ru/blog/2020/03/22/infodemia\n",
      "https://nplus1.ru/blog/2020/03/17/isolation-and-iss\n",
      "https://nplus1.ru/blog/2020/03/16/ludere-ridere-occest-vivere\n",
      "https://nplus1.ru/blog/2020/03/12/onemoredelay\n",
      "https://nplus1.ru/blog/2020/03/12/public-opinion-yudin\n",
      "https://nplus1.ru/blog/2020/03/06/death-from-the-skies\n",
      "https://nplus1.ru/blog/2020/04/06/maps-of-meaning\n",
      "/news/2020/04/08/three-fireballs-europe\n",
      "/news/2020/04/08/apple-patent\n",
      "/news/2020/04/08/modernize\n",
      "/news/2020/04/08/no-chronic-diseases\n",
      "/news/2020/04/08/Maxwell-demon-measurement\n",
      "/news/2020/04/08/ATLAS-no-bright\n",
      "/news/2020/04/08/skyguardian\n",
      "/material/2020/04/06/weapons\n",
      "/rubric/weapon\n",
      "/material/2020/04/04/citi-surge-pricing\n",
      "/rubric/partners\n",
      "/theme/math\n",
      "/news/2020/04/07/innovative-birds\n",
      "/news/2020/04/07/giant-viruses-metabolism\n",
      "/news/2020/04/07/background-greenscreen\n",
      "/news/2020/04/07/volcano-global-warming\n",
      "/news/2020/04/07/classical-learning\n",
      "/news/2020/04/07/gripen\n",
      "/blog/2020/04/07/troubled-oculudentavis\n",
      "/blog/2020/04/06/maps-of-meaning\n",
      "/news/2020/04/02/films-to-science\n",
      "/rubric/mezzanine\n",
      "/news/2020/03/31/hightech-garbage\n",
      "/rubric/gadgets\n",
      "/news/2020/04/07/polyamorphous-so2\n",
      "/news/2020/04/07/chinese-wild-blueberry\n",
      "/news/2020/04/07/Venus-magma-oceans\n",
      "/news/2020/04/07/penguin-watch\n",
      "/news/2020/04/07/starliner\n",
      "/news/2020/04/07/network\n",
      "/blog/2020/04/02/marsphone\n",
      "/blog/2020/01/30/2019-nCoV\n",
      "/material/2020/04/01/ecovirus\n",
      "/rubric/ecology\n",
      "/theme/coronavirus-history\n",
      "/material/2020/03/25/coronavirus-is-not-man-made\n",
      "/rubric/biology\n",
      "/theme/coronavirus-history\n",
      "/news/2020/04/08/Maxwell-demon-measurement\n",
      "/material/2020/04/04/citi-surge-pricing\n",
      "/news/2020/04/03/sperm-trans-fertility\n",
      "/news/2020/04/07/polyamorphous-so2\n",
      "/news/2020/04/01/mistery-of-colours\n",
      "/news/2020/03/31/deep-carbon\n",
      "/news/2020/03/31/asteroid-impact-models\n",
      "/news/2020/03/31/mind-reading\n",
      "/news/2020/04/07/giant-viruses-metabolism\n",
      "/news/2020/04/03/life-in-solid-rock-deep-beneath-sea\n",
      "https://nplus1.ru/blog/2020/04/02/marsphone\n",
      "https://nplus1.ru/blog/2020/04/02/marsphone\n",
      "https://nplus1.ru/blog/2020/04/02/low\n",
      "https://nplus1.ru/blog/2020/03/23/pompeiis-best-houses\n",
      "https://nplus1.ru/blog/2020/03/22/infodemia\n",
      "https://nplus1.ru/blog/2020/03/17/isolation-and-iss\n",
      "https://nplus1.ru/blog/2020/03/16/ludere-ridere-occest-vivere\n",
      "https://nplus1.ru/blog/2020/03/12/onemoredelay\n",
      "https://nplus1.ru/blog/2020/03/12/public-opinion-yudin\n",
      "https://nplus1.ru/blog/2020/03/06/death-from-the-skies\n",
      "https://nplus1.ru/blog/2020/04/06/maps-of-meaning\n",
      "/\n",
      "/about\n",
      "/adv\n",
      "/rules\n",
      "/vacancy\n",
      "/difficult\n",
      "https://nplus1.ru/personal-data-policy\n",
      "#\n",
      "https://t.me/nplusone\n",
      "http://vk.com/nplusone\n",
      "https://www.facebook.com/nplusone\n",
      "https://twitter.com/nplusodin\n",
      "https://ok.ru/nplus1\n",
      "https://soundcloud.com/nplus_1\n",
      "/rss\n"
     ]
    }
   ],
   "source": [
    "for link in soup.find_all('a'):\n",
    "    print(link.get('href'))"
   ]
  },
  {
   "cell_type": "markdown",
   "metadata": {},
   "source": [
    "Ссылок много. Но нам нужны только новости – ссылки, которые начинаются со слова `/news`. Добавим условие: будем выбирать только те ссылки, в которых есть `/news`. Создадим пустой список `urls` и будем добавлять в него только ссылки, которые удовлетворяют этому условию."
   ]
  },
  {
   "cell_type": "code",
   "execution_count": 5,
   "metadata": {},
   "outputs": [
    {
     "data": {
      "text/plain": [
       "['/news/2020/06/01/parenting-cognition',\n",
       " '/news/2020/06/01/vtol',\n",
       " '/news/2020/06/01/early-postmortem-interval',\n",
       " '/news/2020/06/01/prospective-memory-and-procrastination',\n",
       " '/news/2020/06/01/gray-hair',\n",
       " '/news/2020/06/01/jet-fuel',\n",
       " '/news/2020/06/01/robusta-coffee-warming-stress',\n",
       " '/news/2020/06/01/transport',\n",
       " '/news/2020/05/31/bh-outburst',\n",
       " '/news/2020/05/31/crew-dragon-docking',\n",
       " '/news/2020/05/30/crew-dragon-first-flight',\n",
       " '/news/2020/05/30/sans-forgetica',\n",
       " '/news/2020/05/30/sex-on-hippocampus',\n",
       " '/news/2020/05/30/ceramic-ris-effect',\n",
       " '/news/2020/05/30/starship-fail-again',\n",
       " '/news/2020/05/30/westerlund-2-hubble',\n",
       " '/news/2020/05/29/exoskeleton-gloves',\n",
       " '/news/2020/05/29/ancient-millipede',\n",
       " '/news/2020/05/29/hahaha',\n",
       " '/news/2020/05/25/QND-metamaterial',\n",
       " '/news/2020/05/28/isolde-radioactive-molecule',\n",
       " '/news/2020/05/26/bn-graphene-valleytronics',\n",
       " '/news/2020/05/29/meta-helmeta',\n",
       " '/news/2020/05/26/moral-choice-machine',\n",
       " '/news/2020/05/26/black-hole-flickering']"
      ]
     },
     "execution_count": 5,
     "metadata": {},
     "output_type": "execute_result"
    }
   ],
   "source": [
    "urls = []\n",
    "\n",
    "for link in soup.find_all('a'):\n",
    "    if '/news' in link.get('href'):\n",
    "        urls.append(link.get('href'))\n",
    "urls"
   ]
  },
  {
   "cell_type": "markdown",
   "metadata": {},
   "source": [
    "Ссылки, которые у нас есть в списке `urls`, относительные: они неполные, начало ссылки (название сайта) отсутствует. Давайте превратим их в абсолютные ‒ склеим с ссылкой https://nplus1.ru."
   ]
  },
  {
   "cell_type": "code",
   "execution_count": 6,
   "metadata": {},
   "outputs": [
    {
     "data": {
      "text/plain": [
       "['https://nplus1.ru/news/2020/06/01/parenting-cognition',\n",
       " 'https://nplus1.ru/news/2020/06/01/vtol',\n",
       " 'https://nplus1.ru/news/2020/06/01/early-postmortem-interval',\n",
       " 'https://nplus1.ru/news/2020/06/01/prospective-memory-and-procrastination',\n",
       " 'https://nplus1.ru/news/2020/06/01/gray-hair',\n",
       " 'https://nplus1.ru/news/2020/06/01/jet-fuel',\n",
       " 'https://nplus1.ru/news/2020/06/01/robusta-coffee-warming-stress',\n",
       " 'https://nplus1.ru/news/2020/06/01/transport',\n",
       " 'https://nplus1.ru/news/2020/05/31/bh-outburst',\n",
       " 'https://nplus1.ru/news/2020/05/31/crew-dragon-docking',\n",
       " 'https://nplus1.ru/news/2020/05/30/crew-dragon-first-flight',\n",
       " 'https://nplus1.ru/news/2020/05/30/sans-forgetica',\n",
       " 'https://nplus1.ru/news/2020/05/30/sex-on-hippocampus',\n",
       " 'https://nplus1.ru/news/2020/05/30/ceramic-ris-effect',\n",
       " 'https://nplus1.ru/news/2020/05/30/starship-fail-again',\n",
       " 'https://nplus1.ru/news/2020/05/30/westerlund-2-hubble',\n",
       " 'https://nplus1.ru/news/2020/05/29/exoskeleton-gloves',\n",
       " 'https://nplus1.ru/news/2020/05/29/ancient-millipede',\n",
       " 'https://nplus1.ru/news/2020/05/29/hahaha',\n",
       " 'https://nplus1.ru/news/2020/05/25/QND-metamaterial',\n",
       " 'https://nplus1.ru/news/2020/05/28/isolde-radioactive-molecule',\n",
       " 'https://nplus1.ru/news/2020/05/26/bn-graphene-valleytronics',\n",
       " 'https://nplus1.ru/news/2020/05/29/meta-helmeta',\n",
       " 'https://nplus1.ru/news/2020/05/26/moral-choice-machine',\n",
       " 'https://nplus1.ru/news/2020/05/26/black-hole-flickering']"
      ]
     },
     "execution_count": 6,
     "metadata": {},
     "output_type": "execute_result"
    }
   ],
   "source": [
    "full_urls = []\n",
    "\n",
    "for u in urls:\n",
    "    res = 'https://nplus1.ru' + u\n",
    "    full_urls.append(res) \n",
    "\n",
    "full_urls"
   ]
  },
  {
   "cell_type": "markdown",
   "metadata": {},
   "source": [
    "Теперь наша задача сводится к следующему: изучить одну страницу с новостью, научиться из нее вытаскивать текст и всю необходимую информацию, а потом применить весь набор действий к каждой ссылке из `full_urls` в цикле. Посмотрим на новость с индексом 1, у вас может быть другая, новости обновляются."
   ]
  },
  {
   "cell_type": "code",
   "execution_count": 7,
   "metadata": {},
   "outputs": [],
   "source": [
    "url0 = full_urls[1]\n",
    "\n",
    "page0 = requests.get(url0)\n",
    "soup0 = BeautifulSoup(page0.text, 'lxml')"
   ]
  },
  {
   "cell_type": "markdown",
   "metadata": {},
   "source": [
    "В коде каждой страницы с новостью есть часть с мета-информацией: датой, именем автора и проч. Такая информация окружена тэгом `<meta></meta>`. Посмотрим:"
   ]
  },
  {
   "cell_type": "code",
   "execution_count": 8,
   "metadata": {},
   "outputs": [
    {
     "data": {
      "text/plain": [
       "[<meta charset=\"utf-8\"/>,\n",
       " <meta content=\"ie=edge\" http-equiv=\"x-ua-compatible\"/>,\n",
       " <meta content=\"width=device-width, initial-scale=1\" name=\"viewport\"/>,\n",
       " <meta content=\"yes\" name=\"apple-mobile-web-app-capable\"/>,\n",
       " <meta content=\"black\" name=\"apple-mobile-web-app-status-bar-style\"/>,\n",
       " <meta content=\"2020-06-01\" itemprop=\"datePublished\"/>,\n",
       " <meta content=\"Василий Сычев\" name=\"mediator_author\"/>,\n",
       " <meta content=\"Новые аппараты должны будут заменить ScanEagle самолетного типа\" name=\"description\"/>,\n",
       " <meta content=\"Василий Сычев\" name=\"author\"/>,\n",
       " <meta content=\"\" name=\"copyright\"/>,\n",
       " <meta content=\"Для ВМС США разработают тактические палубные беспилотники\" property=\"og:title\"/>,\n",
       " <meta content=\"https://nplus1.ru/images/2020/06/01/be90f15b4481152166460e677a499d32.jpg\" property=\"og:image\"/>,\n",
       " <meta content=\"https://nplus1.ru/news/2020/06/01/vtol\" property=\"og:url\"/>,\n",
       " <meta content=\"Новые аппараты должны будут заменить ScanEagle самолетного типа\" property=\"og:description\"/>,\n",
       " <meta content=\"summary_large_image\" name=\"twitter:card\"/>,\n",
       " <meta content=\"@nplusodin\" name=\"twitter:site\"/>,\n",
       " <meta content=\"Для ВМС США разработают тактические палубные беспилотники\" name=\"twitter:title\"/>,\n",
       " <meta content=\"Новые аппараты должны будут заменить ScanEagle самолетного типа\" name=\"twitter:description\"/>,\n",
       " <meta content=\"https://nplus1.ru/images/2020/06/01/be90f15b4481152166460e677a499d32.jpg\" name=\"twitter:image\"/>,\n",
       " <meta content=\"8c90b02c84ac3b72\" name=\"yandex-verification\"/>]"
      ]
     },
     "execution_count": 8,
     "metadata": {},
     "output_type": "execute_result"
    }
   ],
   "source": [
    "soup0.find_all('meta')"
   ]
  },
  {
   "cell_type": "markdown",
   "metadata": {},
   "source": [
    "Из этого списка нам нужны части с именем автора, датой, заголовком и кратким описанием. Воспользуемся поиском по атрибуту `name`. Передадим функции `find_all()` в качестве аргумента словарь с названием и значением атрибута: "
   ]
  },
  {
   "cell_type": "code",
   "execution_count": 9,
   "metadata": {},
   "outputs": [
    {
     "data": {
      "text/plain": [
       "[<meta content=\"Василий Сычев\" name=\"author\"/>]"
      ]
     },
     "execution_count": 9,
     "metadata": {},
     "output_type": "execute_result"
    }
   ],
   "source": [
    "soup0.find_all('meta', {'name' : 'author'}) # например, автор"
   ]
  },
  {
   "cell_type": "markdown",
   "metadata": {},
   "source": [
    "Теперь выберем единственный элемент полученного списка (с индексом 0):"
   ]
  },
  {
   "cell_type": "code",
   "execution_count": 10,
   "metadata": {},
   "outputs": [
    {
     "data": {
      "text/plain": [
       "<meta content=\"Василий Сычев\" name=\"author\"/>"
      ]
     },
     "execution_count": 10,
     "metadata": {},
     "output_type": "execute_result"
    }
   ],
   "source": [
    "soup0.find_all('meta', {'name' : 'author'})[0]"
   ]
  },
  {
   "cell_type": "markdown",
   "metadata": {},
   "source": [
    "Нам нужно вытащить из этого объекта `content` – имя автора. Посмотрим на атрибуты:"
   ]
  },
  {
   "cell_type": "code",
   "execution_count": 11,
   "metadata": {},
   "outputs": [
    {
     "data": {
      "text/plain": [
       "{'name': 'author', 'content': 'Василий Сычев'}"
      ]
     },
     "execution_count": 11,
     "metadata": {},
     "output_type": "execute_result"
    }
   ],
   "source": [
    "soup0.find_all('meta', {'name' : 'author'})[0].attrs"
   ]
  },
  {
   "cell_type": "markdown",
   "metadata": {},
   "source": [
    "Как получить отсюда `content`? Очень просто, ведь это словарь! А доставать из словаря значение по ключу мы умеем."
   ]
  },
  {
   "cell_type": "code",
   "execution_count": 12,
   "metadata": {},
   "outputs": [
    {
     "data": {
      "text/plain": [
       "'Василий Сычев'"
      ]
     },
     "execution_count": 12,
     "metadata": {},
     "output_type": "execute_result"
    }
   ],
   "source": [
    "author = soup0.find_all('meta', {'name' : 'author'})[0].attrs['content']\n",
    "author"
   ]
  },
  {
   "cell_type": "markdown",
   "metadata": {},
   "source": [
    "Аналогичным образом извлечем дату, заголовок и описание."
   ]
  },
  {
   "cell_type": "code",
   "execution_count": 13,
   "metadata": {},
   "outputs": [],
   "source": [
    "date = soup0.find_all('meta', {'itemprop' : 'datePublished'})[0].attrs['content']\n",
    "title = soup0.find_all('meta', {'property' : 'og:title'})[0].attrs['content']\n",
    "description = soup0.find_all('meta', {'name' : 'description'})[0].attrs['content']"
   ]
  },
  {
   "cell_type": "markdown",
   "metadata": {},
   "source": [
    "Осталось вытащить рубрики и сложность текста. Если мы посмотрим на исходный код страницы, мы увидим, что нужная нам информация находится в тэгах `<p></p>`:"
   ]
  },
  {
   "cell_type": "code",
   "execution_count": 14,
   "metadata": {},
   "outputs": [
    {
     "data": {
      "text/plain": [
       "[<p class=\"table\">\n",
       " <a data-rubric=\"weapon\" href=\"/rubric/weapon\">Оружие</a>\n",
       " </p>, <p class=\"table\">\n",
       " <a href=\"/news/2020/06/01\">\n",
       " <time content=\"2020-06-01\" data-unix=\"1591017919\" itemprop=\"datePublished\">\n",
       " <span>16:25</span>\n",
       " <span>01 Июнь 2020</span>\n",
       " </time>\n",
       " </a>\n",
       " </p>, <p class=\"table\">\n",
       " <a href=\"/difficult/3.1\">\n",
       " <span>Сложность</span>\n",
       " <span class=\"difficult-value\">3.1</span>\n",
       " </a>\n",
       " </p>, <p class=\"title\">V-Bat</p>, <p class=\"credits\">MartinUAV</p>, <p>Агентство перспективных оборонных разработок Пентагона (DARPA) и специалисты Исследовательского управления ВМС США в ближайшее время дадут старт программе разработки нового тактического палубного беспилотного летательного аппарата, пригодного к взлету и посадки на палубу практического любого корабля в составе флота. Как пишет <a href=\"http://aviationweek.com\" rel=\"nofollow\" target=\"_blank\">Aviation Week</a>, новые аппараты должны будут заменить разведывательные беспилотники ScanEagle, запускаемые с помощью пневматических катапульт и требующие специального аэрофинишера для завершения полета.</p>, <p>По итогам разработки нового беспилотника, военные рассчитывают получить аппарат массой до 90,7 — 136 килограммов, способный нести полезную нагрузку массой до 27 килограммов. Беспилотник должен быть способен на вертикальные взлет и посадку, но при этом его крейсерский полет должен проходить в самолетном режиме. Благодаря этому военные и рассчитывают избавиться от катапульты и аэрофинишера. Новые аппараты смогут, помимо прочего, совершать перелеты между кораблями, а также между кораблем и берегом.</p>, <p>Какие именно компании планируется пригласить к участию в проекте, пока неизвестно.</p>, <p>В середине прошлого года Армия и ВМС США <a href=\"https://nplus1.ru/news/2019/07/29/vbat\" target=\"_blank\">проводили</a> испытания перспективного разведывательного беспилотника V-Bat компании MartinUAV. Этот аппарат можно запускать с палубы практически любого корабля. Аппарат выполнен по схеме «тейлситтер». Так принято называть летательный аппарат самолетного типа, способный на вертикальные взлет и посадку на хвост. После взлета такой аппарат способен переходить в обычный горизонтальный полет по-самолетному.</p>, <p>V-Bat способен развивать скорость до 90 узлов (166 километров в час), выполнять длительные полеты на скорости 45 узлов и подниматься на высоту до 4,5 тысячи метров. Аппарат может находиться в воздухе до 8 часов и нести полезную нагрузку массой до 3,6 килограмма: мультиспектральные сенсоры, системы радиоэлектронной разведки и борьбы, радар или системы ретрансляции сигналов. Для взлета и посадки беспилотника необходима площадка площадью 2,7 квадратных метра.</p>, <p><i>Василий Сычёв</i></p>, <p>Нашли опечатку? Выделите фрагмент и нажмите Ctrl+Enter.</p>, <p class=\"subtitle\">Почему люди стали созревать раньше и куда это нас ведет</p>, <p>Коэффициент сложности</p>, <p>Коэффициент сложности</p>, <p>Коэффициент сложности</p>, <p>Коэффициент сложности</p>, <p>Коэффициент сложности</p>, <p>Коэффициент сложности</p>, <p>Коэффициент сложности</p>, <p>Коэффициент сложности</p>, <p>Коэффициент сложности</p>, <p>Коэффициент сложности</p>, <p>© 2020 N+1 Интернет-издание   Свидетельство о регистрации СМИ Эл № ФС77-67614</p>, <p>Использование всех текстовых материалов без изменений в некоммерческих целях разрешается со ссылкой на N+1. \n",
       "                         Все аудиовизуальные произведения являются собственностью своих авторов и правообладателей и используются \n",
       "                         только в образовательных и информационных целях. Если вы являетесь собственником того или иного произведения \n",
       "                         и не согласны с его размещением на нашем сайте, пожалуйста, напишите на kirill@nplus1.ru</p>, <p>Материалы, опубликованные в разделе «Блоги», отражают позиции их авторов, которые могут не совпадать с мнением редакции.</p>, <p>Сайт может содержать контент, не предназначенный для лиц младше 18 лет.</p>, <p>\n",
       " <a class=\"pd\" href=\"https://nplus1.ru/personal-data-policy\">Политика обработки персональных данных пользователей сайта</a>\n",
       " </p>, <p>\n",
       " <script async=\"\" src=\"//s.luxupcdnc.com/t/consent_195458.js\" type=\"text/javascript\"></script>\n",
       " <a href=\"#\" onclick=\"if(window.__lxG__consent__ !== undefined) {window.__lxG__consent__.showConsent()} else {alert('This function works only for users from the European Economic Area (EEA).')}; return false\">Change privacy settings</a>\n",
       " </p>, <p>\n",
       " </p>]"
      ]
     },
     "execution_count": 14,
     "metadata": {},
     "output_type": "execute_result"
    }
   ],
   "source": [
    "soup0.find_all('p')"
   ]
  },
  {
   "cell_type": "markdown",
   "metadata": {},
   "source": [
    "Выберем из полученного списка первый элемент и найдем в нем все тэги `<a>`:"
   ]
  },
  {
   "cell_type": "code",
   "execution_count": 15,
   "metadata": {},
   "outputs": [
    {
     "data": {
      "text/plain": [
       "[<a data-rubric=\"weapon\" href=\"/rubric/weapon\">Оружие</a>]"
      ]
     },
     "execution_count": 15,
     "metadata": {},
     "output_type": "execute_result"
    }
   ],
   "source": [
    "soup0.find_all('p')[0].find_all('a')"
   ]
  },
  {
   "cell_type": "markdown",
   "metadata": {},
   "source": [
    "Получился список из одного элемента. Применим списковые включения – вытащим из каждого элемента (их могло бы быть больше) текст и поместим его в новый список `rubrics`."
   ]
  },
  {
   "cell_type": "code",
   "execution_count": 16,
   "metadata": {},
   "outputs": [
    {
     "data": {
      "text/plain": [
       "['Оружие']"
      ]
     },
     "execution_count": 16,
     "metadata": {},
     "output_type": "execute_result"
    }
   ],
   "source": [
    "rubrics = [r.text for r in soup0.find_all('p')[0].find_all('a')]\n",
    "rubrics"
   ]
  },
  {
   "cell_type": "markdown",
   "metadata": {},
   "source": [
    "Осталась только сложность. Возьмем соответствующий кусок кода:"
   ]
  },
  {
   "cell_type": "code",
   "execution_count": 17,
   "metadata": {},
   "outputs": [
    {
     "data": {
      "text/plain": [
       "[<span class=\"difficult-value\">3.1</span>]"
      ]
     },
     "execution_count": 17,
     "metadata": {},
     "output_type": "execute_result"
    }
   ],
   "source": [
    "soup0.find_all('span', {'class' : 'difficult-value'})"
   ]
  },
  {
   "cell_type": "markdown",
   "metadata": {},
   "source": [
    "И выберем оттуда текст."
   ]
  },
  {
   "cell_type": "code",
   "execution_count": 18,
   "metadata": {},
   "outputs": [
    {
     "data": {
      "text/plain": [
       "'3.1'"
      ]
     },
     "execution_count": 18,
     "metadata": {},
     "output_type": "execute_result"
    }
   ],
   "source": [
    "diff = soup0.find_all('span', {'class' : 'difficult-value'})[0].text\n",
    "diff"
   ]
  },
  {
   "cell_type": "markdown",
   "metadata": {},
   "source": [
    "Теперь перейдем к тексту самой новости. Как можно заметить, текст сохранен в абзацах `<p></p>`, причем безо всяких атрибутов. Сообщим Python, что нас интересуют куски с пустым атрибутом `class`:"
   ]
  },
  {
   "cell_type": "code",
   "execution_count": 19,
   "metadata": {},
   "outputs": [],
   "source": [
    "text_list = soup0.find_all('p', {'class' : None})"
   ]
  },
  {
   "cell_type": "markdown",
   "metadata": {},
   "source": [
    "«Выцепим» все тексты (без тэгов) из полученного списка:"
   ]
  },
  {
   "cell_type": "code",
   "execution_count": 20,
   "metadata": {},
   "outputs": [],
   "source": [
    "text = [t.text for t in text_list]"
   ]
  },
  {
   "cell_type": "markdown",
   "metadata": {},
   "source": [
    "Склеим все элементы списка `text` через пробел:"
   ]
  },
  {
   "cell_type": "code",
   "execution_count": 21,
   "metadata": {},
   "outputs": [
    {
     "data": {
      "text/plain": [
       "'Агентство перспективных оборонных разработок Пентагона (DARPA) и\\xa0специалисты Исследовательского управления ВМС США в\\xa0ближайшее время дадут старт программе разработки нового тактического палубного беспилотного летательного аппарата, пригодного к\\xa0взлету и\\xa0посадки на\\xa0палубу практического любого корабля в\\xa0составе флота. Как пишет Aviation Week, новые аппараты должны будут заменить разведывательные беспилотники ScanEagle, запускаемые с\\xa0помощью пневматических катапульт и\\xa0требующие специального аэрофинишера для завершения полета. По\\xa0итогам разработки нового беспилотника, военные рассчитывают получить аппарат массой до\\xa090,7\\xa0— 136\\xa0килограммов, способный нести полезную нагрузку массой до\\xa027\\xa0килограммов. Беспилотник должен быть способен на\\xa0вертикальные взлет и\\xa0посадку, но\\xa0при этом его крейсерский полет должен проходить в\\xa0самолетном режиме. Благодаря этому военные и\\xa0рассчитывают избавиться от\\xa0катапульты и\\xa0аэрофинишера. Новые аппараты смогут, помимо прочего, совершать перелеты между кораблями, а\\xa0также между кораблем и\\xa0берегом. Какие именно компании планируется пригласить к\\xa0участию в\\xa0проекте, пока неизвестно. В\\xa0середине прошлого года Армия и\\xa0ВМС США проводили испытания перспективного разведывательного беспилотника V-Bat компании MartinUAV. Этот аппарат можно запускать с\\xa0палубы практически любого корабля. Аппарат выполнен по\\xa0схеме «тейлситтер». Так принято называть летательный аппарат самолетного типа, способный на\\xa0вертикальные взлет и\\xa0посадку на\\xa0хвост. После взлета такой аппарат способен переходить в\\xa0обычный горизонтальный полет по-самолетному. V-Bat способен развивать скорость до\\xa090\\xa0узлов (166 километров в\\xa0час), выполнять длительные полеты на\\xa0скорости 45\\xa0узлов и\\xa0подниматься на\\xa0высоту до\\xa04,5 тысячи метров. Аппарат может находиться в\\xa0воздухе до\\xa08\\xa0часов и\\xa0нести полезную нагрузку массой до\\xa03,6\\xa0килограмма: мультиспектральные сенсоры, системы радиоэлектронной разведки и\\xa0борьбы, радар или системы ретрансляции сигналов. Для взлета и\\xa0посадки беспилотника необходима площадка площадью 2,7 квадратных метра. Василий Сычёв Нашли опечатку? Выделите фрагмент и нажмите Ctrl+Enter. Коэффициент сложности Коэффициент сложности Коэффициент сложности Коэффициент сложности Коэффициент сложности Коэффициент сложности Коэффициент сложности Коэффициент сложности Коэффициент сложности Коэффициент сложности © 2020 N+1 Интернет-издание \\xa0 Свидетельство о регистрации СМИ Эл № ФС77-67614 Использование всех текстовых материалов без изменений в некоммерческих целях разрешается со ссылкой на N+1. \\n                        Все аудиовизуальные произведения являются собственностью своих авторов и правообладателей и используются \\n                        только в образовательных и информационных целях. Если вы являетесь собственником того или иного произведения \\n                        и не согласны с его размещением на нашем сайте, пожалуйста, напишите на kirill@nplus1.ru Материалы, опубликованные в разделе «Блоги», отражают позиции их авторов, которые могут не совпадать с мнением редакции. Сайт может содержать контент, не предназначенный для лиц младше 18 лет. \\nПолитика обработки персональных данных пользователей сайта\\n \\n\\nChange privacy settings\\n \\n'"
      ]
     },
     "execution_count": 21,
     "metadata": {},
     "output_type": "execute_result"
    }
   ],
   "source": [
    "final_text = ' '.join(text)\n",
    "final_text"
   ]
  },
  {
   "cell_type": "markdown",
   "metadata": {},
   "source": [
    "Все здорово, только мешают отступы-переходы на новую строку `\\n`. Заменим их на пробелы с помощью метода `.replace`:"
   ]
  },
  {
   "cell_type": "code",
   "execution_count": 22,
   "metadata": {},
   "outputs": [],
   "source": [
    "final_text = final_text.replace('\\n', ' ')"
   ]
  },
  {
   "cell_type": "markdown",
   "metadata": {},
   "source": [
    "Теперь осталось совсем чуть-чуть. Написать готовую функцию для всех проделанных нами действий и применить ее в цикле для всех ссылок в списке `full_urls`. Напишем! Аргументом функции будет ссылка на новость, а возвращать она будет текст новости и всю необходимую информацию (дата, автор, сложность и проч.). Скопируем все строки кода выше."
   ]
  },
  {
   "cell_type": "code",
   "execution_count": 23,
   "metadata": {},
   "outputs": [],
   "source": [
    "def GetNews(url0):\n",
    "    \"\"\"\n",
    "    Returns a tuple with url0, date, author, description, title, final_text, rubrics, diff.\n",
    "    Parameters:\n",
    "    \n",
    "    url0 is a link to the news (string)\n",
    "    \"\"\"\n",
    "    page0 = requests.get(url0)\n",
    "    soup0 = BeautifulSoup(page0.text, 'lxml')\n",
    "    author = soup0.find_all('meta', {'name' : 'author'})[0].attrs['content']\n",
    "    date = soup0.find_all('meta', {'itemprop' : 'datePublished'})[0].attrs['content']\n",
    "    title = soup0.find_all('meta', {'property' : 'og:title'})[0].attrs['content']\n",
    "    description = soup0.find_all('meta', {'name' : 'description'})[0].attrs['content']\n",
    "    rubrics = [r.text for r in soup0.find_all('p')[0].find_all('a')]\n",
    "    diff = soup0.find_all('span', {'class' : 'difficult-value'})[0].text\n",
    "    text_list = soup0.find_all('p', {'class' : None})\n",
    "    text = [t.text for t in text_list]\n",
    "    final_text = ' '.join(text)\n",
    "    final_text = final_text.replace('\\n', ' ')\n",
    "    \n",
    "    return url0, date, author, description, title, final_text, rubrics, diff"
   ]
  },
  {
   "cell_type": "markdown",
   "metadata": {},
   "source": [
    "Уфф. Осталось применить ее в цикле. Но давайте не будем спешить: импортируем функцию `sleep` для задержки, чтобы на каждой итерации цикла, прежде чем перейти к следующей новости, Python ждал несколько секунд. Во-первых, это нужно, чтобы сайт «не понял», чтобы мы его грабим, да еще автоматически. Во-вторых, с небольшой задержкой всегда есть гарантия, что страница прогрузится (сейчас это пока не очень важно, но особенно актуально будет, когда будем обсуждать встраивание в браузер с Selenium). Приступим."
   ]
  },
  {
   "cell_type": "code",
   "execution_count": 24,
   "metadata": {},
   "outputs": [],
   "source": [
    "from time import sleep"
   ]
  },
  {
   "cell_type": "code",
   "execution_count": 25,
   "metadata": {},
   "outputs": [],
   "source": [
    "news = [] # это будет список из кортежей, в которых будут храниться данные по каждой новости\n",
    "\n",
    "for link in full_urls:\n",
    "    res = GetNews(link)\n",
    "    news.append(res)\n",
    "    sleep(3) # задержка в 3 секунды"
   ]
  },
  {
   "cell_type": "markdown",
   "metadata": {},
   "source": [
    "Так теперь выглядит первый элемент списка:"
   ]
  },
  {
   "cell_type": "code",
   "execution_count": 26,
   "metadata": {},
   "outputs": [
    {
     "data": {
      "text/plain": [
       "('https://nplus1.ru/news/2020/06/01/parenting-cognition',\n",
       " '2020-06-01',\n",
       " 'Алиса Бахарева',\n",
       " 'Такая зависимость может быть универсальной для всех животных',\n",
       " 'Долгое детство и забота родителей помогли врановым стать умнее',\n",
       " 'Ученые предложили модель влияния внешних факторов на развитие когнитивных способностей животных, в которой центральную роль играет детство и забота родителей. Свою гипотезу авторы работы, опубликованной в журнале Philosophical Transactions of the Royal Society B: Biological Sciences, иллюстрируют двумя примерами: новокаледонские вороны в течение года остаются под опекой родителей, чтобы научаться изготавливать инструменты; кукши, которым приходится расти в чужой семье, теряют возможность обучаться поиску добычи и защите от хищников. Когнитивные способности человека уникальны, и\\xa0основой их\\xa0развития является долгое детство\\xa0— период пластичности, в\\xa0который люди осваивают навыки и\\xa0развивают познавательный потенциал. Однако долгое взросление свойственно и другим животным: летучим мышам, китам, слонам и\\xa0некоторым птицам. Дает\\xa0ли долгое детство преимущество в\\xa0когнитивном развитии для этих видов так\\xa0же, как и\\xa0для человека, остается неясным.  Ученые из\\xa0Великобритании, Германии и\\xa0Китая под руководством Майкла Гриссера (Michael Griesser) из\\xa0Университета Сунь-ятсена предположили, что познавательные способности зависят от\\xa0длительности детства, а\\xa0ключевую роль в\\xa0развитии когнитивных навыков играет забота родителей. Исследователи построили модель влияния внешних факторов на\\xa0когнитивные способности животных, центральную роль в\\xa0которой играет вклад родителей в\\xa0обучение и\\xa0воспитание детенышей.  Согласно преложенной модели, насыщенность среды, в\\xa0которой развиваются особи, и\\xa0приспособленность к\\xa0ней позволяет снизить смертность, увеличить продолжительность жизни\\xa0и, соответственно, период развития детенышей. В\\xa0результате молодняк имеет возможность проводить больше времени с\\xa0семьей, которая предоставляет защиту и\\xa0кормит. В\\xa0этот период детеныши подражают родителям и\\xa0развивают свои навыки. \"Тепличные\" условия способствуют развитию более широкого набора умений и\\xa0когнитивных способностей, и\\xa0взрослые животные могут занять новые экологические ниши. Важную роль, считают авторы работы, играет также забота о\\xa0чужом потомстве («расширенная семья»). Если о\\xa0молодняке заботится сразу много особей, то\\xa0их\\xa0защищенность и\\xa0возможность обучаться увеличивается.  У\\xa0пользы долгого детства и\\xa0родительской опеки есть существенный противовес\\xa0— энергозатратность этих процессов. Чтобы приобрести расширенный набор навыков, развить большой мозг и\\xa0долго оставаться под защитой семьи, необходимо заплатить «налог» в\\xa0виде ресурсов и\\xa0энергии. Каждый вид находит свой баланс между затратами и\\xa0пользой от\\xa0полученных навыков. Исследователи проиллюстрировали свою модель двумя примерами врановых птиц. Врановые обладают редкими среди птиц когнитивными способностями, умеют использовать инструменты и\\xa0планировать свои действия. Относительный размер мозга этих птиц в\\xa0среднем больше, чем\\xa0у\\xa0других воробьиных; птенцами они дольше остаются в\\xa0гнезде, а\\xa0после оперения не\\xa0сразу расстаются с\\xa0родителями. Первый пример, который ученые приводят в\\xa0работе\\xa0— кукши (Perisoreus infaustus). Часть птенцов этих врановых долго остается с\\xa0родителями, но\\xa0более успешные отпрыски вытесняют своих братьев и сестер и\\xa0вынуждают присоединиться к\\xa0другой группе птиц вскоре после оперения. Кукши отличают своих птенцов, и\\xa0чужие не\\xa0пользуются защитой и\\xa0покровительством старших. В\\xa0результате, например, они не\\xa0учатся отгонять хищников или добывать еду и\\xa0оказываются менее приспособленными. В\\xa0эксперименте показали, что если дать чужим птенцам возможность копировать поведение старших, они успешно осваивают необходимые навыки. В\\xa0качестве второй иллюстрации своей гипотезы исследователи выбрали новокаледонских воронов (Perisoreus infaustus). Эти птицы умеют изготавливать орудия\\xa0— крючкообразные палочки, которыми вороны вытаскивают личинок из-под коры. Птенцы долго остаются под опекой родителей, повторяют их движения и\\xa0учатся использовать инструменты. Столь сложный навык птицы перенимают в\\xa0течение года, и\\xa0в\\xa0это время они не\\xa0могут самостоятельно добывать пищу. Долгая зависимость от\\xa0родителей чрезвычайно ресурсозатратна, зато в\\xa0результате вороны приобретают широкий набор когнитивных навыков, умеют решать сложные задачи и\\xa0устанавливать причинно-следственные связи. Исследователи предполагают, что свойственный людям затянутый период детства предопределяет выдающиеся познавательные способности не только приматов, но и других животных с развитым интеллектом, а воспитание и забота родителей являются критическими факторами для формирования сложных когнитивных навыков. Когнитивные возможности животных часто связывают с относительным размером мозга. Мозг птиц до мел-палеогенового вымирания был не больше, чем у четвероногих, катастрофа же освободила экологические ниши, и относительный размер мозга птиц стал быстро увеличиваться. Возможно, именно крупнейшее вымирание предопределило развитие интеллекта птиц. Алиса Бахарева Нашли опечатку? Выделите фрагмент и нажмите Ctrl+Enter. Коэффициент сложности Коэффициент сложности Коэффициент сложности Коэффициент сложности Коэффициент сложности Коэффициент сложности Коэффициент сложности Коэффициент сложности Коэффициент сложности Коэффициент сложности © 2020 N+1 Интернет-издание \\xa0 Свидетельство о регистрации СМИ Эл № ФС77-67614 Использование всех текстовых материалов без изменений в некоммерческих целях разрешается со ссылкой на N+1.                          Все аудиовизуальные произведения являются собственностью своих авторов и правообладателей и используются                          только в образовательных и информационных целях. Если вы являетесь собственником того или иного произведения                          и не согласны с его размещением на нашем сайте, пожалуйста, напишите на kirill@nplus1.ru Материалы, опубликованные в разделе «Блоги», отражают позиции их авторов, которые могут не совпадать с мнением редакции. Сайт может содержать контент, не предназначенный для лиц младше 18 лет.  Политика обработки персональных данных пользователей сайта    Change privacy settings   ',\n",
       " ['Зоология', 'Нейронауки'],\n",
       " '2.6')"
      ]
     },
     "execution_count": 26,
     "metadata": {},
     "output_type": "execute_result"
    }
   ],
   "source": [
    "news[0]"
   ]
  },
  {
   "cell_type": "markdown",
   "metadata": {},
   "source": [
    "Импортируем `pandas` и создадим датафрейм из списка кортежей: "
   ]
  },
  {
   "cell_type": "code",
   "execution_count": 30,
   "metadata": {},
   "outputs": [],
   "source": [
    "import pandas as pd"
   ]
  },
  {
   "cell_type": "code",
   "execution_count": 31,
   "metadata": {},
   "outputs": [],
   "source": [
    "df = pd.DataFrame(news)"
   ]
  },
  {
   "cell_type": "code",
   "execution_count": 32,
   "metadata": {},
   "outputs": [
    {
     "data": {
      "text/html": [
       "<div>\n",
       "<style scoped>\n",
       "    .dataframe tbody tr th:only-of-type {\n",
       "        vertical-align: middle;\n",
       "    }\n",
       "\n",
       "    .dataframe tbody tr th {\n",
       "        vertical-align: top;\n",
       "    }\n",
       "\n",
       "    .dataframe thead th {\n",
       "        text-align: right;\n",
       "    }\n",
       "</style>\n",
       "<table border=\"1\" class=\"dataframe\">\n",
       "  <thead>\n",
       "    <tr style=\"text-align: right;\">\n",
       "      <th></th>\n",
       "      <th>0</th>\n",
       "      <th>1</th>\n",
       "      <th>2</th>\n",
       "      <th>3</th>\n",
       "      <th>4</th>\n",
       "      <th>5</th>\n",
       "      <th>6</th>\n",
       "      <th>7</th>\n",
       "    </tr>\n",
       "  </thead>\n",
       "  <tbody>\n",
       "    <tr>\n",
       "      <th>0</th>\n",
       "      <td>https://nplus1.ru/news/2020/06/01/parenting-co...</td>\n",
       "      <td>2020-06-01</td>\n",
       "      <td>Алиса Бахарева</td>\n",
       "      <td>Такая зависимость может быть универсальной для...</td>\n",
       "      <td>Долгое детство и забота родителей помогли вран...</td>\n",
       "      <td>Ученые предложили модель влияния внешних факто...</td>\n",
       "      <td>[Зоология, Нейронауки]</td>\n",
       "      <td>2.6</td>\n",
       "    </tr>\n",
       "    <tr>\n",
       "      <th>1</th>\n",
       "      <td>https://nplus1.ru/news/2020/06/01/vtol</td>\n",
       "      <td>2020-06-01</td>\n",
       "      <td>Василий Сычев</td>\n",
       "      <td>Новые аппараты должны будут заменить ScanEagle...</td>\n",
       "      <td>Для ВМС США разработают тактические палубные б...</td>\n",
       "      <td>Агентство перспективных оборонных разработок П...</td>\n",
       "      <td>[Оружие]</td>\n",
       "      <td>3.1</td>\n",
       "    </tr>\n",
       "  </tbody>\n",
       "</table>\n",
       "</div>"
      ],
      "text/plain": [
       "                                                   0           1  \\\n",
       "0  https://nplus1.ru/news/2020/06/01/parenting-co...  2020-06-01   \n",
       "1             https://nplus1.ru/news/2020/06/01/vtol  2020-06-01   \n",
       "\n",
       "                2                                                  3  \\\n",
       "0  Алиса Бахарева  Такая зависимость может быть универсальной для...   \n",
       "1   Василий Сычев  Новые аппараты должны будут заменить ScanEagle...   \n",
       "\n",
       "                                                   4  \\\n",
       "0  Долгое детство и забота родителей помогли вран...   \n",
       "1  Для ВМС США разработают тактические палубные б...   \n",
       "\n",
       "                                                   5                       6  \\\n",
       "0  Ученые предложили модель влияния внешних факто...  [Зоология, Нейронауки]   \n",
       "1  Агентство перспективных оборонных разработок П...                [Оружие]   \n",
       "\n",
       "     7  \n",
       "0  2.6  \n",
       "1  3.1  "
      ]
     },
     "execution_count": 32,
     "metadata": {},
     "output_type": "execute_result"
    }
   ],
   "source": [
    "df.head(2)"
   ]
  },
  {
   "cell_type": "markdown",
   "metadata": {},
   "source": [
    "Переименуем столбцы в базе."
   ]
  },
  {
   "cell_type": "code",
   "execution_count": 33,
   "metadata": {},
   "outputs": [],
   "source": [
    "df.columns = ['link', 'date', 'author', 'desc', 'title', 'text', 'rubric', 'diffc']"
   ]
  },
  {
   "cell_type": "code",
   "execution_count": 34,
   "metadata": {},
   "outputs": [
    {
     "data": {
      "text/html": [
       "<div>\n",
       "<style scoped>\n",
       "    .dataframe tbody tr th:only-of-type {\n",
       "        vertical-align: middle;\n",
       "    }\n",
       "\n",
       "    .dataframe tbody tr th {\n",
       "        vertical-align: top;\n",
       "    }\n",
       "\n",
       "    .dataframe thead th {\n",
       "        text-align: right;\n",
       "    }\n",
       "</style>\n",
       "<table border=\"1\" class=\"dataframe\">\n",
       "  <thead>\n",
       "    <tr style=\"text-align: right;\">\n",
       "      <th></th>\n",
       "      <th>link</th>\n",
       "      <th>date</th>\n",
       "      <th>author</th>\n",
       "      <th>desc</th>\n",
       "      <th>title</th>\n",
       "      <th>text</th>\n",
       "      <th>rubric</th>\n",
       "      <th>diffc</th>\n",
       "    </tr>\n",
       "  </thead>\n",
       "  <tbody>\n",
       "    <tr>\n",
       "      <th>0</th>\n",
       "      <td>https://nplus1.ru/news/2020/06/01/parenting-co...</td>\n",
       "      <td>2020-06-01</td>\n",
       "      <td>Алиса Бахарева</td>\n",
       "      <td>Такая зависимость может быть универсальной для...</td>\n",
       "      <td>Долгое детство и забота родителей помогли вран...</td>\n",
       "      <td>Ученые предложили модель влияния внешних факто...</td>\n",
       "      <td>[Зоология, Нейронауки]</td>\n",
       "      <td>2.6</td>\n",
       "    </tr>\n",
       "    <tr>\n",
       "      <th>1</th>\n",
       "      <td>https://nplus1.ru/news/2020/06/01/vtol</td>\n",
       "      <td>2020-06-01</td>\n",
       "      <td>Василий Сычев</td>\n",
       "      <td>Новые аппараты должны будут заменить ScanEagle...</td>\n",
       "      <td>Для ВМС США разработают тактические палубные б...</td>\n",
       "      <td>Агентство перспективных оборонных разработок П...</td>\n",
       "      <td>[Оружие]</td>\n",
       "      <td>3.1</td>\n",
       "    </tr>\n",
       "  </tbody>\n",
       "</table>\n",
       "</div>"
      ],
      "text/plain": [
       "                                                link        date  \\\n",
       "0  https://nplus1.ru/news/2020/06/01/parenting-co...  2020-06-01   \n",
       "1             https://nplus1.ru/news/2020/06/01/vtol  2020-06-01   \n",
       "\n",
       "           author                                               desc  \\\n",
       "0  Алиса Бахарева  Такая зависимость может быть универсальной для...   \n",
       "1   Василий Сычев  Новые аппараты должны будут заменить ScanEagle...   \n",
       "\n",
       "                                               title  \\\n",
       "0  Долгое детство и забота родителей помогли вран...   \n",
       "1  Для ВМС США разработают тактические палубные б...   \n",
       "\n",
       "                                                text                  rubric  \\\n",
       "0  Ученые предложили модель влияния внешних факто...  [Зоология, Нейронауки]   \n",
       "1  Агентство перспективных оборонных разработок П...                [Оружие]   \n",
       "\n",
       "  diffc  \n",
       "0   2.6  \n",
       "1   3.1  "
      ]
     },
     "execution_count": 34,
     "metadata": {},
     "output_type": "execute_result"
    }
   ],
   "source": [
    "df.head(2)"
   ]
  },
  {
   "cell_type": "markdown",
   "metadata": {},
   "source": [
    "Теперь внесем изменения: сделаем столбец `diffc` числовым – типа *float*."
   ]
  },
  {
   "cell_type": "code",
   "execution_count": 35,
   "metadata": {},
   "outputs": [],
   "source": [
    "df['diffc'] = [float(i) for i in df.diffc]"
   ]
  },
  {
   "cell_type": "markdown",
   "metadata": {},
   "source": [
    "Теперь сложность представлена в базе как количественный показатель, и описывать ее можно соответствующим образом:"
   ]
  },
  {
   "cell_type": "code",
   "execution_count": 36,
   "metadata": {},
   "outputs": [
    {
     "data": {
      "text/plain": [
       "count    25.000000\n",
       "mean      3.724000\n",
       "std       1.731637\n",
       "min       1.300000\n",
       "25%       2.500000\n",
       "50%       3.100000\n",
       "75%       5.300000\n",
       "max       8.100000\n",
       "Name: diffc, dtype: float64"
      ]
     },
     "execution_count": 36,
     "metadata": {},
     "output_type": "execute_result"
    }
   ],
   "source": [
    "df.diffc.describe()"
   ]
  },
  {
   "cell_type": "markdown",
   "metadata": {},
   "source": [
    "Объединим рубрики в *text* в одну строку через запятую:"
   ]
  },
  {
   "cell_type": "code",
   "execution_count": 38,
   "metadata": {},
   "outputs": [],
   "source": [
    "df['rubric'] = [','.join(r) for r in df.rubric]"
   ]
  },
  {
   "cell_type": "markdown",
   "metadata": {},
   "source": [
    "Давайте почистим текст новостей – уберем оттуда текст, не относящийся к новостям. Найдем лишнее:"
   ]
  },
  {
   "cell_type": "code",
   "execution_count": 39,
   "metadata": {},
   "outputs": [
    {
     "data": {
      "text/plain": [
       "'Ученые предложили модель влияния внешних факторов на развитие когнитивных способностей животных, в которой центральную роль играет детство и забота родителей. Свою гипотезу авторы работы, опубликованной в журнале Philosophical Transactions of the Royal Society B: Biological Sciences, иллюстрируют двумя примерами: новокаледонские вороны в течение года остаются под опекой родителей, чтобы научаться изготавливать инструменты; кукши, которым приходится расти в чужой семье, теряют возможность обучаться поиску добычи и защите от хищников. Когнитивные способности человека уникальны, и\\xa0основой их\\xa0развития является долгое детство\\xa0— период пластичности, в\\xa0который люди осваивают навыки и\\xa0развивают познавательный потенциал. Однако долгое взросление свойственно и другим животным: летучим мышам, китам, слонам и\\xa0некоторым птицам. Дает\\xa0ли долгое детство преимущество в\\xa0когнитивном развитии для этих видов так\\xa0же, как и\\xa0для человека, остается неясным.  Ученые из\\xa0Великобритании, Германии и\\xa0Китая под руководством Майкла Гриссера (Michael Griesser) из\\xa0Университета Сунь-ятсена предположили, что познавательные способности зависят от\\xa0длительности детства, а\\xa0ключевую роль в\\xa0развитии когнитивных навыков играет забота родителей. Исследователи построили модель влияния внешних факторов на\\xa0когнитивные способности животных, центральную роль в\\xa0которой играет вклад родителей в\\xa0обучение и\\xa0воспитание детенышей.  Согласно преложенной модели, насыщенность среды, в\\xa0которой развиваются особи, и\\xa0приспособленность к\\xa0ней позволяет снизить смертность, увеличить продолжительность жизни\\xa0и, соответственно, период развития детенышей. В\\xa0результате молодняк имеет возможность проводить больше времени с\\xa0семьей, которая предоставляет защиту и\\xa0кормит. В\\xa0этот период детеныши подражают родителям и\\xa0развивают свои навыки. \"Тепличные\" условия способствуют развитию более широкого набора умений и\\xa0когнитивных способностей, и\\xa0взрослые животные могут занять новые экологические ниши. Важную роль, считают авторы работы, играет также забота о\\xa0чужом потомстве («расширенная семья»). Если о\\xa0молодняке заботится сразу много особей, то\\xa0их\\xa0защищенность и\\xa0возможность обучаться увеличивается.  У\\xa0пользы долгого детства и\\xa0родительской опеки есть существенный противовес\\xa0— энергозатратность этих процессов. Чтобы приобрести расширенный набор навыков, развить большой мозг и\\xa0долго оставаться под защитой семьи, необходимо заплатить «налог» в\\xa0виде ресурсов и\\xa0энергии. Каждый вид находит свой баланс между затратами и\\xa0пользой от\\xa0полученных навыков. Исследователи проиллюстрировали свою модель двумя примерами врановых птиц. Врановые обладают редкими среди птиц когнитивными способностями, умеют использовать инструменты и\\xa0планировать свои действия. Относительный размер мозга этих птиц в\\xa0среднем больше, чем\\xa0у\\xa0других воробьиных; птенцами они дольше остаются в\\xa0гнезде, а\\xa0после оперения не\\xa0сразу расстаются с\\xa0родителями. Первый пример, который ученые приводят в\\xa0работе\\xa0— кукши (Perisoreus infaustus). Часть птенцов этих врановых долго остается с\\xa0родителями, но\\xa0более успешные отпрыски вытесняют своих братьев и сестер и\\xa0вынуждают присоединиться к\\xa0другой группе птиц вскоре после оперения. Кукши отличают своих птенцов, и\\xa0чужие не\\xa0пользуются защитой и\\xa0покровительством старших. В\\xa0результате, например, они не\\xa0учатся отгонять хищников или добывать еду и\\xa0оказываются менее приспособленными. В\\xa0эксперименте показали, что если дать чужим птенцам возможность копировать поведение старших, они успешно осваивают необходимые навыки. В\\xa0качестве второй иллюстрации своей гипотезы исследователи выбрали новокаледонских воронов (Perisoreus infaustus). Эти птицы умеют изготавливать орудия\\xa0— крючкообразные палочки, которыми вороны вытаскивают личинок из-под коры. Птенцы долго остаются под опекой родителей, повторяют их движения и\\xa0учатся использовать инструменты. Столь сложный навык птицы перенимают в\\xa0течение года, и\\xa0в\\xa0это время они не\\xa0могут самостоятельно добывать пищу. Долгая зависимость от\\xa0родителей чрезвычайно ресурсозатратна, зато в\\xa0результате вороны приобретают широкий набор когнитивных навыков, умеют решать сложные задачи и\\xa0устанавливать причинно-следственные связи. Исследователи предполагают, что свойственный людям затянутый период детства предопределяет выдающиеся познавательные способности не только приматов, но и других животных с развитым интеллектом, а воспитание и забота родителей являются критическими факторами для формирования сложных когнитивных навыков. Когнитивные возможности животных часто связывают с относительным размером мозга. Мозг птиц до мел-палеогенового вымирания был не больше, чем у четвероногих, катастрофа же освободила экологические ниши, и относительный размер мозга птиц стал быстро увеличиваться. Возможно, именно крупнейшее вымирание предопределило развитие интеллекта птиц. Алиса Бахарева Нашли опечатку? Выделите фрагмент и нажмите Ctrl+Enter. Коэффициент сложности Коэффициент сложности Коэффициент сложности Коэффициент сложности Коэффициент сложности Коэффициент сложности Коэффициент сложности Коэффициент сложности Коэффициент сложности Коэффициент сложности © 2020 N+1 Интернет-издание \\xa0 Свидетельство о регистрации СМИ Эл № ФС77-67614 Использование всех текстовых материалов без изменений в некоммерческих целях разрешается со ссылкой на N+1.                          Все аудиовизуальные произведения являются собственностью своих авторов и правообладателей и используются                          только в образовательных и информационных целях. Если вы являетесь собственником того или иного произведения                          и не согласны с его размещением на нашем сайте, пожалуйста, напишите на kirill@nplus1.ru Материалы, опубликованные в разделе «Блоги», отражают позиции их авторов, которые могут не совпадать с мнением редакции. Сайт может содержать контент, не предназначенный для лиц младше 18 лет.  Политика обработки персональных данных пользователей сайта    Change privacy settings   '"
      ]
     },
     "execution_count": 39,
     "metadata": {},
     "output_type": "execute_result"
    }
   ],
   "source": [
    "df.text[0]"
   ]
  },
  {
   "cell_type": "markdown",
   "metadata": {},
   "source": [
    "Лишний текст находится после фразы 'Нашли опечатку?'. Так давайте будем разбивать строки по этой фразе с помощью метода `.split()` и брать все, что до нее (элемент с индексом 0)."
   ]
  },
  {
   "cell_type": "code",
   "execution_count": 41,
   "metadata": {},
   "outputs": [],
   "source": [
    "df['clean_text'] = [t.split('Нашли опечатку?')[0] for t in df.text]"
   ]
  },
  {
   "cell_type": "markdown",
   "metadata": {},
   "source": [
    "Осталось только заменить непонятные символы `\\xa0` на пробелы:"
   ]
  },
  {
   "cell_type": "code",
   "execution_count": 41,
   "metadata": {},
   "outputs": [],
   "source": [
    "df['clean_text'] = [t.replace(\"\\xa0\", \" \") for t in df.clean_text]"
   ]
  },
  {
   "cell_type": "code",
   "execution_count": 42,
   "metadata": {},
   "outputs": [
    {
     "data": {
      "text/plain": [
       "'В ночь с 1 на 2 апреля над Центральной Европой в течение трех часов пролетели три болида, причем два из них — за один час. Об этом сообщает Международная метеорная организация (International Meteor Organization, IMO). По разным оценкам в атмосферу Земли за день попадает от 5 до 300 тонн космической пыли. Сгорающие в верхних слоях частицы, оставляющие светящийся след, называют метеорами. Очень яркие метеоры, или болиды, возникают, когда в атмосферу попадает тело метровых размеров и больше — яркость вспышки в таком случае превышает яркость Венеры. Как правило, такие метеоры — одиночное явление.  Теперь же IMO сообщила сразу о трех таких событиях, произошедших за короткий промежуток времени. Два болида — метеора, более ярких, чем Венера, — попали в объектив камеры проекта CAMS NASA, которая находится в бельгийском городе Графонтен. Они также были зафиксированы камерами сети FRIPON, которая объединяет более 100 камер полного неба и приемников радиосигнала на территории Франции, Бельгии и Испании. Первый метеор пролетел в 22:57 по Гринвичу, его наблюдали четыре станции сети, второй — в 23:33, он был запечатлен на трех камерах. Обработав данные этих станций, FRIPON вычислила траектории обоих метеороидов. Они выглядят как практически параллельные линии. Станции приема радиосигнала BRAMS также зафиксировали оба метеора. Первый оставил небольшое, но насыщенное эхо — его поймали только станции в Лимбурге и на востоке Бельгии. В центре страны это явление было едва заметно, а на западе неразличимо вовсе. Второй метеор породил гораздо более сильный сигнал, который зафиксировали почти все станции сети, кроме тех, что находились на самом западе Бельгии.   Через два часа после этих вспышек, 2 апреля в 01:52, еще один метеор запечатлели камеры полного неба в городе Сейсдорф на юге Германии и в обсерватории Габерг в Австрии. Метеоры на небе можно увидеть в любой момент, поскольку частицы пыли в Солнечной системе разбросаны везде. Такие метеоры называют спорадическими. Но существуют также метеорные потоки, порожденные пылевыми хвостами комет. Когда Земля проходит через такие пылевые облака, оставленные кометами, можно наблюдать десятки и сотни метеоров в час. Ближайший метеорный поток — Лириды — можно будет увидеть с 16 по 25 апреля, его пик обычно приходится на 22 апреля — в этом году это очень близкое к новолунию время, а значит, ночи будут темными и Луна не помешает наблюдениям. Если вы увидите яркий метеор, вы можете разместить сообщение о нем на сайте IMO и помочь сбору данных об этих явлениях. Евгения Скареднева '"
      ]
     },
     "execution_count": 42,
     "metadata": {},
     "output_type": "execute_result"
    }
   ],
   "source": [
    "df.clean_text[0]"
   ]
  },
  {
   "cell_type": "markdown",
   "metadata": {},
   "source": [
    "Всё! Сохраняем датафрейм в файл. Для разнообразия сохраним в Excel:"
   ]
  },
  {
   "cell_type": "code",
   "execution_count": 43,
   "metadata": {},
   "outputs": [],
   "source": [
    "df.to_excel('nplus-news.xlsx')"
   ]
  }
 ],
 "metadata": {
  "kernelspec": {
   "display_name": "Python 3",
   "language": "python",
   "name": "python3"
  },
  "language_info": {
   "codemirror_mode": {
    "name": "ipython",
    "version": 3
   },
   "file_extension": ".py",
   "mimetype": "text/x-python",
   "name": "python",
   "nbconvert_exporter": "python",
   "pygments_lexer": "ipython3",
   "version": "3.6.5"
  }
 },
 "nbformat": 4,
 "nbformat_minor": 2
}
